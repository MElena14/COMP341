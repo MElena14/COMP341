{
  "cells": [
    {
      "cell_type": "code",
      "execution_count": 57,
      "metadata": {
        "colab": {
          "base_uri": "https://localhost:8080/"
        },
        "id": "69WPLPGqOKxv",
        "outputId": "8d72f7ad-cdca-4968-81de-f3a048bfb8ac"
      },
      "outputs": [
        {
          "name": "stdout",
          "output_type": "stream",
          "text": [
            "Using torch 1.11.0\n"
          ]
        }
      ],
      "source": [
        "import os\n",
        "import numpy as np \n",
        "from numpy import cos, sin\n",
        "import matplotlib.pyplot as plt\n",
        "import multiprocessing\n",
        "import time\n",
        "# import visualisation\n",
        "from rect_metric import compare_grasps, grasp_accuracy\n",
        "\n",
        "%matplotlib inline\n",
        "\n",
        "import seaborn as sns\n",
        "sns.set()\n",
        "\n",
        "## Progress bar\n",
        "from tqdm.notebook import tqdm\n",
        "\n",
        "import torch\n",
        "import torch.nn as nn\n",
        "import torch.nn.functional as F\n",
        "import torch.utils.data as td\n",
        "import torch.optim as optim\n",
        "torch.backends.cudnn.benchmark = True \n",
        "\n",
        "import torchvision as tv\n",
        "\n",
        "\n",
        "print(\"Using torch\", torch.__version__)"
      ]
    },
    {
      "cell_type": "code",
      "execution_count": 58,
      "metadata": {
        "colab": {
          "base_uri": "https://localhost:8080/"
        },
        "id": "SfDDfDrvOKx2",
        "outputId": "3a68cb74-5003-41b9-db81-e816e0ad3406"
      },
      "outputs": [
        {
          "name": "stdout",
          "output_type": "stream",
          "text": [
            "not in drive\n",
            "Using device cuda:1\n"
          ]
        }
      ],
      "source": [
        "# Fetching the device that will be used throughout this notebook\n",
        "\n",
        "try:\n",
        "    from google.colab import drive\n",
        "    drive.mount('/content/drive')\n",
        "    DATASET_PATH = \"drive/MyDrive/Liverpool/Assignments/Year 3/COMP341/COMP341 - Assignment 01 - Data/Data/\"\n",
        "    device = torch.device(\"cpu\") if not torch.cuda.is_available() else torch.device(\"cuda:0\")\n",
        "    !pip install shapely\n",
        "except:\n",
        "    print('not in drive')\n",
        "    DATASET_PATH = 'ass1_data/Data'\n",
        "    device = torch.device(\"cpu\") if not torch.cuda.is_available() else torch.device(\"cuda:1\")\n",
        "print(\"Using device\", device)\n",
        "\n"
      ]
    },
    {
      "cell_type": "code",
      "execution_count": 59,
      "metadata": {
        "id": "9yRDLP48OKx3"
      },
      "outputs": [],
      "source": [
        "colors = [[31, 120, 180], [51, 160, 44]]\n",
        "colors = [(r / 255, g / 255, b / 255) for (r, g, b) in colors]\n",
        "\n",
        "def plot_epochs(train_history, val_history, plotType=\"loss\"):\n",
        "    x = np.arange(1, len(train_history) + 1)\n",
        "    plt.figure(figsize=(8, 6))\n",
        "    plt.plot(x, val_history, color=colors[1], label=f\"Validation {plotType}\", linewidth=2)\n",
        "    plt.plot(x, train_history, color=colors[0], label=f\"Training {plotType}\", linewidth=2)\n",
        "    plt.ylabel(f'{plotType}')\n",
        "    plt.xlabel('Epoch')\n",
        "    plt.legend(loc='upper right')\n",
        "    plt.title(f\"Evolution of the training and validation {plotType}\")\n",
        "    plt.show()"
      ]
    },
    {
      "cell_type": "code",
      "execution_count": 60,
      "metadata": {
        "id": "JD85qwRvOKx4"
      },
      "outputs": [],
      "source": [
        "def get_cnn_output_size(in_size, kernel_size, stride=1, padding=0):\n",
        "    integer = int((in_size - kernel_size + 2 * padding) / stride) == ((in_size - kernel_size + 2 * padding) / stride)\n",
        "    if not integer:\n",
        "        print(\"not int\", ((in_size - kernel_size + 2 * padding) / stride))\n",
        "    return int((in_size - kernel_size + 2 * padding) / stride) + 1"
      ]
    },
    {
      "cell_type": "code",
      "execution_count": 61,
      "metadata": {},
      "outputs": [],
      "source": [
        "import shapely.geometry\n",
        "import shapely.affinity\n",
        "\n",
        "class RotatedRect:\n",
        "    def __init__(self, centerx, centery, angle, width, height):\n",
        "        self.centerx = centerx\n",
        "        self.centery = centery\n",
        "        self.angle = angle\n",
        "        self.width = width\n",
        "        self.height = height\n",
        "\n",
        "    def get_contour(self):\n",
        "        width = self.width\n",
        "        height = self.height\n",
        "        contour = shapely.geometry.box(-width/2.0, -height/2.0, width/2.0, height/2.0)\n",
        "        rotContour = shapely.affinity.rotate(contour, self.angle)\n",
        "        return shapely.affinity.translate(rotContour, self.centerx, self.centery)\n",
        "\n",
        "    def intersection(self, other):\n",
        "        return self.get_contour().intersection(other.get_contour())\n",
        "\n",
        "def compare_grasps(rect1, rect2):\n",
        "    r1 = RotatedRect(*rect1)\n",
        "    r2 = RotatedRect(*rect2)\n",
        "    \n",
        "    intersection = r1.intersection(r2).area\n",
        "    union = (r1.width*r1.height) + (r2.width*r2.height) - intersection\n",
        "    score = intersection/union\n",
        "    return score\n",
        "\n"
      ]
    },
    {
      "cell_type": "code",
      "execution_count": 62,
      "metadata": {},
      "outputs": [],
      "source": [
        "def grasp_accuracy(Ys, Y_hats):\n",
        "    scores = [compare_grasps(Ys[i], Y_hats[i]) for i, g in enumerate(Ys)]\n",
        "    print(scores)\n",
        "    avg = lambda x: sum(x)/len(x)\n",
        "    return avg(scores)"
      ]
    },
    {
      "cell_type": "code",
      "execution_count": 63,
      "metadata": {
        "id": "HPGyY2z4RiWt"
      },
      "outputs": [],
      "source": [
        "from torch.utils.data import Dataset\n",
        "from PIL import Image\n",
        "\n",
        "class GraspDataset(Dataset):\n",
        "\n",
        "  def __init__(self, root_dir, depth_image=None):\n",
        "      self.root_dir = root_dir\n",
        "      self.depth_image = depth_image\n",
        "\n",
        "      # List of all scenes for all objects in the dataset\n",
        "      self.scene_paths = []\n",
        "      for object_name in os.listdir(root_dir):\n",
        "        for scene_index in range(5): # Scene index ranges from 0 to 4 for all objects\n",
        "\n",
        "          scene_root = f\"{root_dir}/{object_name}/{scene_index}_{object_name}_\"\n",
        "\n",
        "          # Make sure a scene with this index exists for this object\n",
        "          grasp_path = scene_root + \"grasps.txt\"\n",
        "          if not os.path.exists(grasp_path): continue\n",
        "\n",
        "          # Add scene files and appened to the list\n",
        "          scene = {\n",
        "              \"grasps\": grasp_path,\n",
        "              \"rgb\": scene_root + \"RGB.png\",\n",
        "              \"mask\": scene_root + \"mask.png\",\n",
        "              \"pDepth\": scene_root + \"perfect_depth.tiff\",\n",
        "              \"sDepth\": scene_root + \"stereo_depth.tiff\"\n",
        "          }\n",
        "          self.scene_paths.append(scene)\n",
        "\n",
        "  # This must return the length of the dataset\n",
        "  def __len__(self):\n",
        "    return len(self.scene_paths)\n",
        "\n",
        "  # This must return the single dataset item at index idx\n",
        "  def __getitem__(self, idx):\n",
        "\n",
        "    # Load the grasps\n",
        "    grasps = []\n",
        "    with open(self.scene_paths[idx][\"grasps\"]) as file:\n",
        "      lines = file.readlines()\n",
        "      for line in lines:\n",
        "        x, y, theta, openning, jaw_size = [float(number) for number in line.split(\";\")]\n",
        "        grasp = [x, y, theta, openning, jaw_size]\n",
        "        grasps.append(grasp)\n",
        "    grasps = np.array(grasps, dtype=np.float32)\n",
        "\n",
        "    # Load the RGB image\n",
        "    image = Image.open(self.scene_paths[idx][\"rgb\"])\n",
        "    rgb = np.array(image, dtype=np.float32) / 255\n",
        "\n",
        "    # # Reshape the image from HxWx3 to 3xHxW\n",
        "    rgb_reshaped = np.zeros([3, rgb.shape[0], rgb.shape[1]])\n",
        "    rgb_reshaped[0,:,:] = rgb[:,:,0]\n",
        "    rgb_reshaped[1,:,:] = rgb[:,:,1]\n",
        "    rgb_reshaped[2,:,:] = rgb[:,:,2]\n",
        "    \n",
        "    # Convert from [0, 1] to [-1, 1]\n",
        "    rgb_norm = np.zeros([3, rgb.shape[0], rgb.shape[1]])\n",
        "    rgb_norm[0, :, :] = (rgb_reshaped[0,:,:] - 0.5) / 0.5\n",
        "    rgb_norm[1, :, :] = (rgb_reshaped[1,:,:] - 0.5) / 0.5\n",
        "    rgb_norm[2, :, :] = (rgb_reshaped[2,:,:] - 0.5) / 0.5\n",
        "\n",
        "    if self.depth_image is not None:\n",
        "\n",
        "      if self.depth_image == \"perfect\":\n",
        "        depth = Image.open(self.scene_paths[idx][\"pDepth\"])\n",
        "      elif self.depth_image == \"stereo\":\n",
        "        depth = Image.open(self.scene_paths[idx][\"sDepth\"])\n",
        "\n",
        "      depth = np.array(depth, dtype=np.float32)\n",
        "      return (rgb_norm, depth, grasps[0])\n",
        "\n",
        "    return (rgb_norm, grasps[0])"
      ]
    },
    {
      "cell_type": "code",
      "execution_count": 64,
      "metadata": {
        "colab": {
          "base_uri": "https://localhost:8080/",
          "height": 450
        },
        "id": "UMna7vFPf8v7",
        "outputId": "50255da9-aacb-4457-8c1e-aa7f8cf02cbd"
      },
      "outputs": [
        {
          "name": "stdout",
          "output_type": "stream",
          "text": [
            "grasp: tensor([512.5854, 494.2139, -64.5562, 163.5000,  25.6021])\n",
            "depth: tensor([512.5854, 494.2139, -64.5562, 163.5000,  25.6021])\n"
          ]
        },
        {
          "data": {
            "image/png": "[encoded data removed]",
            "text/plain": [
              "<Figure size 432x288 with 1 Axes>"
            ]
          },
          "metadata": {},
          "output_type": "display_data"
        }
      ],
      "source": [
        "# functions to show an image\n",
        "def imshow(img):\n",
        "    \"\"\"\n",
        "    :param img: (PyTorch Tensor)\n",
        "    \"\"\"\n",
        "    # unnormalize\n",
        "    img = img / 2 + 0.5     \n",
        "    # Convert tensor to numpy array\n",
        "    npimg = img.numpy()\n",
        "    # Color channel first -> color channel last\n",
        "    npimg = np.transpose(npimg, (1, 2, 0))\n",
        "    \n",
        "    plt.imshow(npimg)\n",
        "# Show off the dataset\n",
        "index = 3\n",
        "dataset = GraspDataset(DATASET_PATH + \"/training\")\n",
        "loader = td.DataLoader(dataset, batch_size=4, shuffle=False, drop_last=False, num_workers=2)\n",
        "\n",
        "batch = next(iter(loader))\n",
        "image_array = np.uint8(np.array(batch[0][index]) * 255)\n",
        "\n",
        "print(\"grasp:\", batch[1][index])\n",
        "print(\"depth:\", batch[1][index])\n",
        "imshow(batch[0][index])"
      ]
    },
    {
      "cell_type": "code",
      "execution_count": 65,
      "metadata": {
        "colab": {
          "base_uri": "https://localhost:8080/"
        },
        "id": "oNSAt2C3OKx5",
        "outputId": "fba693b0-0153-43fc-bceb-9d92de33a06c"
      },
      "outputs": [],
      "source": [
        "def set_seed(seed):\n",
        "    np.random.seed(seed)\n",
        "    torch.manual_seed(seed)\n",
        "    if torch.cuda.is_available():  # GPU operation have separate seed\n",
        "        torch.cuda.manual_seed(seed)\n",
        "        torch.cuda.manual_seed_all(seed)\n",
        "\n",
        "\n",
        "set_seed(42)\n",
        "\n",
        "\n",
        "num_workers = multiprocessing.cpu_count()\n",
        "\n",
        "def gen_transforms(resize=None, imgs_mean=(0.5,), imgs_std=(0.5,)):\n",
        "    tst_trans = [tv.transforms.ToTensor()]\n",
        "    if resize is not None:\n",
        "        tst_trans.append(tv.transforms.Resize(resize[0]))\n",
        "        tst_trans.append(tv.transforms.CenterCrop(resize[1]))\n",
        "    tst_trans.append(tv.transforms.Normalize(mean=imgs_mean, std=imgs_std))\n",
        "    return tv.transforms.Compose(tst_trans)\n",
        "\n",
        "def get_train_test_data(image_resize=None):\n",
        "    # transforms = gen_transforms(image_resize)\n",
        "    trainData = GraspDataset(\n",
        "        root_dir=f'{DATASET_PATH}/training')\n",
        "    # a = ({\n",
        "    #     loader: Callable[[str], Any],\n",
        "    #     target_transform: Optional[Callable] = None,\n",
        "    #     is_valid_file: Optional[Callable[[str], bool]] = None,\n",
        "    # })\n",
        "    return trainData\n",
        "\n",
        "\n",
        "def get_train_loader(batchSize, resize=None):\n",
        "    trainData = get_train_test_data(resize)\n",
        "    trainLoader = td.DataLoader(trainData, batch_size=batchSize, shuffle=True, drop_last=False, num_workers=4)\n",
        "    return trainLoader\n",
        "\n",
        "trainLoader = get_train_loader(4)"
      ]
    },
    {
      "cell_type": "code",
      "execution_count": 66,
      "metadata": {
        "id": "4SzI9dlCOKx6"
      },
      "outputs": [],
      "source": [
        "def getLoss():\n",
        "    return nn.MSELoss()\n",
        "\n",
        "def getOptimiser(model, learningRate):\n",
        "    #optimiser = optim.SGD(model.parameters(), lr=learning_rate, momentum=0.9)\n",
        "    optimiser = optim.Adam(model.parameters(), lr=learningRate)\n",
        "    return optimiser"
      ]
    },
    {
      "cell_type": "code",
      "execution_count": 67,
      "metadata": {
        "id": "m2KPusVhOKx6"
      },
      "outputs": [],
      "source": [
        "\n",
        "def train(model, batch_size, n_epochs, learning_rate, resize=None):\n",
        "    print(f\"batch size: {batch_size}\")\n",
        "    print(f\"n epochs: {n_epochs}\")\n",
        "    print(f\"learning rate: {learning_rate}\")\n",
        "    print(\"=\"*20)\n",
        "    \n",
        "    trainLoader = get_train_loader(batch_size, resize)\n",
        "    lossFn = getLoss()\n",
        "    optimizer = getOptimiser(model, learning_rate)\n",
        "\n",
        "    train_history = []\n",
        "    accuracy_history = []\n",
        "    training_start_time = time.time()\n",
        "    \n",
        "    model = model.to(device) # Move model to gpu\n",
        "    model.train() # Set the model to training mode (for DropOut)\n",
        "\n",
        "    for epoch in range(n_epochs):  # loop over the dataset for n_epoch\n",
        "        epoch_loss = 0\n",
        "        epoch_accuracy = 0\n",
        "        \n",
        "        with tqdm(trainLoader, unit=\"batch\") as tepoch:\n",
        "            for rgb, grasp in tepoch:   #for each batch\n",
        "                tepoch.set_description(f\"Epoch {epoch}\")\n",
        "                # Move tensors to gpu\n",
        "                rgb = torch.FloatTensor(rgb.numpy())\n",
        "                rgb, grasp = rgb.to(device), grasp.to(device)\n",
        "               \n",
        "                # zero the parameter gradients\n",
        "                optimizer.zero_grad()\n",
        "\n",
        "                # forward + backward + optimize\n",
        "                outputs = model(rgb)\n",
        "                # _, predicted = outputs.argmax(dim=1, keepdim=True).squeeze()\n",
        "                #  = torch.max(outputs, 1)\n",
        "                # print('out', outputs.size(), 'targets', grasps.size())\n",
        "                # g = torch.FloatTensor(grasp.cpu().numpy()).to(device)\n",
        "                loss = lossFn(outputs,  grasp)\n",
        "                loss.backward()\n",
        "                optimizer.step()\n",
        "                # add to running totals\n",
        "                epoch_loss += loss.item()\n",
        "                with torch.no_grad():\n",
        "                    accs = grasp_accuracy(outputs.cpu().numpy(), grasp.cpu().numpy())\n",
        "                    epoch_accuracy += accs\n",
        "        epoch_loss = epoch_loss / len(trainLoader)\n",
        "        # print(f\"Epoch #{epoch + 1} train_loss: {round(epoch_loss,2)} accuracy: {round(epoch_accuracy,1)}% took: {round(time.time() - start_time,2)}s\") \n",
        "        train_history.append(epoch_loss)\n",
        "        accuracy_history.append(epoch_accuracy/len(trainLoader))\n",
        "        \n",
        "    print(f\"Training Finished, took {round(time.time() - training_start_time,1)}s\")\n",
        "    return train_history, accuracy_history"
      ]
    },
    {
      "cell_type": "code",
      "execution_count": 68,
      "metadata": {
        "colab": {
          "base_uri": "https://localhost:8080/"
        },
        "id": "RcKas80MOKx8",
        "outputId": "8d059eec-a995-4e6e-c7a2-657ed343f60c"
      },
      "outputs": [
        {
          "name": "stdout",
          "output_type": "stream",
          "text": [
            "not int 125.5\n"
          ]
        },
        {
          "data": {
            "text/plain": [
              "126"
            ]
          },
          "execution_count": 68,
          "metadata": {},
          "output_type": "execute_result"
        }
      ],
      "source": [
        "get_cnn_output_size(254, kernel_size=3, stride=2, padding=0)"
      ]
    },
    {
      "cell_type": "code",
      "execution_count": 69,
      "metadata": {
        "id": "-AJhum8iOKx8"
      },
      "outputs": [],
      "source": [
        "class DeepConvNN(nn.Module):\n",
        "    def __init__(self):\n",
        "        super(DeepConvNN, self).__init__()\n",
        "        #in = 1047 x 1047\n",
        "        self.block1 = nn.Sequential(\n",
        "            nn.Conv2d(3, 16, kernel_size=3, stride=2, padding=0), #out = 523x523\n",
        "            nn.ReLU(),\n",
        "            nn.BatchNorm2d(16),\n",
        "            # nn.Dropout(0.3),\n",
        "            nn.Conv2d(16, 32, kernel_size=3, stride=1, padding=0), #out = 521x521\n",
        "            nn.ReLU(),\n",
        "            nn.BatchNorm2d(32),\n",
        "            # nn.Dropout(0.3),\n",
        "            nn.Conv2d(32, 32, kernel_size=3, stride=1, padding=0), #out = 519x519\n",
        "            nn.ReLU(),\n",
        "            nn.BatchNorm2d(32),\n",
        "            nn.MaxPool2d(kernel_size=3, stride=2, padding=0) #out = 259x259                 \n",
        "        )\n",
        "\n",
        "        self.block2 = nn.Sequential(\n",
        "            nn.Conv2d(32, 32, kernel_size=3, stride=1, padding=1), #out = 259x259\n",
        "            nn.ReLU(),\n",
        "            nn.BatchNorm2d(32),\n",
        "            # nn.Dropout(0.3),\n",
        "            nn.Conv2d(32, 64, kernel_size=3, stride=2, padding=0), #out = 129x129\n",
        "            nn.ReLU(),\n",
        "            nn.BatchNorm2d(64),\n",
        "            nn.Conv2d(64, 64, kernel_size=3, stride=1, padding=1), #out = 129x129\n",
        "            nn.ReLU(),\n",
        "            nn.BatchNorm2d(64),\n",
        "            # nn.MaxPool2d(kernel_size=2, stride=2, padding=0)\n",
        "            # MaxPool could be used instead of stride 2\n",
        "        )\n",
        "\n",
        "        self.block3 = nn.Sequential(\n",
        "            nn.Conv2d(64, 64, kernel_size=3, stride=1, padding=0), #out = 127x127\n",
        "            nn.ReLU(),\n",
        "            nn.BatchNorm2d(64),\n",
        "            # nn.Dropout(0.3),\n",
        "            nn.Conv2d(64, 128, kernel_size=3, stride=2, padding=0), #out = 63x63\n",
        "            nn.ReLU(),\n",
        "            nn.BatchNorm2d(128),\n",
        "            # nn.Dropout(0.3),\n",
        "            nn.Conv2d(128, 128, kernel_size=3, stride=1, padding=0),  #out = 61x61\n",
        "            nn.ReLU(),\n",
        "            nn.BatchNorm2d(128)\n",
        "        )\n",
        "\n",
        "        self.block4 = nn.Sequential(\n",
        "            nn.Conv2d(128, 128, kernel_size=3, stride=1, padding=0), #out = 59x59\n",
        "            nn.ReLU(),\n",
        "            nn.BatchNorm2d(128),\n",
        "            # nn.Dropout(0.3),\n",
        "            nn.Conv2d(128, 256, kernel_size=3, stride=2, padding=0), #out = 29x29\n",
        "            nn.ReLU(),\n",
        "            nn.BatchNorm2d(256),\n",
        "            # nn.Dropout(0.3),\n",
        "            nn.Conv2d(256, 256, kernel_size=3, stride=2, padding=0), #out = 14x14\n",
        "            nn.ReLU(),\n",
        "            nn.BatchNorm2d(256)\n",
        "        )\n",
        "\n",
        "        self.pool = nn.MaxPool2d(kernel_size=2, stride=2, padding=0)\n",
        "        # self.pool = nn.AdaptiveAvgPool2d((4,4))\n",
        "        self.flattened_size = 256 * 7 * 7 #36864\n",
        "\n",
        "        self.regressionBlock = nn.Sequential(\n",
        "            # nn.Dropout(0.5),\n",
        "            nn.Linear(self.flattened_size, 512),\n",
        "            nn.Linear(512, 5),\n",
        "            # nn.Dropout(0.5), \n",
        "            # nn.Linear(2048, 5)\n",
        "        )\n",
        "\n",
        "    def forward(self, x):\n",
        "        x = self.block1(x)\n",
        "        x = self.block2(x)\n",
        "        x = self.block3(x)\n",
        "        x = self.block4(x)\n",
        "        x = self.pool(x)\n",
        "        x = x.view(-1, self.flattened_size)\n",
        "        x = self.classificationBlock(x)\n",
        "        return x"
      ]
    },
    {
      "cell_type": "code",
      "execution_count": 70,
      "metadata": {
        "colab": {
          "base_uri": "https://localhost:8080/",
          "height": 762,
          "referenced_widgets": [
            "28f862711238434498db8c044c9f799d",
            "01496e68152e458c8c122003c36ecad9",
            "49c86e80cfbd4fbc8f9c9168a2c6a6b1",
            "e6d4136c9a0e4e1cb6651eaa8796d434",
            "4f4cee546b184be1a648eb2876e7338f",
            "a237c0ded2fa4f4fa60c597f42f1c60e",
            "bbc264fed9a94d9496398db4a99ca9f2",
            "a820294f530c4bf1aaede06460285ecf",
            "932c936e530847aa9d422cba03d11fda",
            "212ca770f17c43f7b838bd159de1cd53",
            "1ed574905dc24f02b1802a6b61fd9db2"
          ]
        },
        "id": "2TTKm5biOKx9",
        "outputId": "750dceb5-4797-4ae6-bd64-0d42332c10bc"
      },
      "outputs": [
        {
          "name": "stdout",
          "output_type": "stream",
          "text": [
            "batch size: 4\n",
            "n epochs: 5\n",
            "learning rate: 0.001\n",
            "====================\n"
          ]
        },
        {
          "data": {
            "application/vnd.jupyter.widget-view+json": {
              "model_id": "6ac423323174443cb80f7421e7ad3fe1",
              "version_major": 2,
              "version_minor": 0
            },
            "text/plain": [
              "  0%|          | 0/8 [00:00<?, ?batch/s]"
            ]
          },
          "metadata": {},
          "output_type": "display_data"
        },
        {
          "ename": "RuntimeError",
          "evalue": "shape '[-1, 12544]' is invalid for input of size 36864",
          "output_type": "error",
          "traceback": [
            "\u001b[0;31m---------------------------------------------------------------------------\u001b[0m",
            "\u001b[0;31mRuntimeError\u001b[0m                              Traceback (most recent call last)",
            "\u001b[1;32m/Users/mikesemple/Google Drive/uni/341 - Robot Perception/group4/assignment1.ipynb Cell 14'\u001b[0m in \u001b[0;36m<cell line: 10>\u001b[0;34m()\u001b[0m\n\u001b[1;32m      <a href='vscode-notebook-cell:/Users/mikesemple/Google%20Drive/uni/341%20-%20Robot%20Perception/group4/assignment1.ipynb#ch0000011?line=6'>7</a>\u001b[0m resize \u001b[39m=\u001b[39m (\u001b[39m1047\u001b[39m, \u001b[39m1047\u001b[39m)\n\u001b[1;32m      <a href='vscode-notebook-cell:/Users/mikesemple/Google%20Drive/uni/341%20-%20Robot%20Perception/group4/assignment1.ipynb#ch0000011?line=7'>8</a>\u001b[0m nnet \u001b[39m=\u001b[39m DeepConvNN()\n\u001b[0;32m---> <a href='vscode-notebook-cell:/Users/mikesemple/Google%20Drive/uni/341%20-%20Robot%20Perception/group4/assignment1.ipynb#ch0000011?line=9'>10</a>\u001b[0m train_loss, train_accuracy \u001b[39m=\u001b[39m train(nnet, BATCH_SIZE, EPOCHS, LEARNING_RATE, resize)\n",
            "\u001b[1;32m/Users/mikesemple/Google Drive/uni/341 - Robot Perception/group4/assignment1.ipynb Cell 11'\u001b[0m in \u001b[0;36mtrain\u001b[0;34m(model, batch_size, n_epochs, learning_rate, resize)\u001b[0m\n\u001b[1;32m     <a href='vscode-notebook-cell:/Users/mikesemple/Google%20Drive/uni/341%20-%20Robot%20Perception/group4/assignment1.ipynb#ch0000008?line=29'>30</a>\u001b[0m optimizer\u001b[39m.\u001b[39mzero_grad()\n\u001b[1;32m     <a href='vscode-notebook-cell:/Users/mikesemple/Google%20Drive/uni/341%20-%20Robot%20Perception/group4/assignment1.ipynb#ch0000008?line=31'>32</a>\u001b[0m \u001b[39m# forward + backward + optimize\u001b[39;00m\n\u001b[0;32m---> <a href='vscode-notebook-cell:/Users/mikesemple/Google%20Drive/uni/341%20-%20Robot%20Perception/group4/assignment1.ipynb#ch0000008?line=32'>33</a>\u001b[0m outputs \u001b[39m=\u001b[39m model(rgb)\n\u001b[1;32m     <a href='vscode-notebook-cell:/Users/mikesemple/Google%20Drive/uni/341%20-%20Robot%20Perception/group4/assignment1.ipynb#ch0000008?line=33'>34</a>\u001b[0m \u001b[39m# _, predicted = outputs.argmax(dim=1, keepdim=True).squeeze()\u001b[39;00m\n\u001b[1;32m     <a href='vscode-notebook-cell:/Users/mikesemple/Google%20Drive/uni/341%20-%20Robot%20Perception/group4/assignment1.ipynb#ch0000008?line=34'>35</a>\u001b[0m \u001b[39m#  = torch.max(outputs, 1)\u001b[39;00m\n\u001b[1;32m     <a href='vscode-notebook-cell:/Users/mikesemple/Google%20Drive/uni/341%20-%20Robot%20Perception/group4/assignment1.ipynb#ch0000008?line=35'>36</a>\u001b[0m \u001b[39m# print('out', outputs.size(), 'targets', grasps.size())\u001b[39;00m\n\u001b[1;32m     <a href='vscode-notebook-cell:/Users/mikesemple/Google%20Drive/uni/341%20-%20Robot%20Perception/group4/assignment1.ipynb#ch0000008?line=36'>37</a>\u001b[0m \u001b[39m# g = torch.FloatTensor(grasp.cpu().numpy()).to(device)\u001b[39;00m\n\u001b[1;32m     <a href='vscode-notebook-cell:/Users/mikesemple/Google%20Drive/uni/341%20-%20Robot%20Perception/group4/assignment1.ipynb#ch0000008?line=37'>38</a>\u001b[0m loss \u001b[39m=\u001b[39m lossFn(outputs,  grasp)\n",
            "File \u001b[0;32m~/.conda/envs/torch/lib/python3.9/site-packages/torch/nn/modules/module.py:1110\u001b[0m, in \u001b[0;36mModule._call_impl\u001b[0;34m(self, *input, **kwargs)\u001b[0m\n\u001b[1;32m   <a href='file:///Users/mikesemple/.conda/envs/torch/lib/python3.9/site-packages/torch/nn/modules/module.py?line=1105'>1106</a>\u001b[0m \u001b[39m# If we don't have any hooks, we want to skip the rest of the logic in\u001b[39;00m\n\u001b[1;32m   <a href='file:///Users/mikesemple/.conda/envs/torch/lib/python3.9/site-packages/torch/nn/modules/module.py?line=1106'>1107</a>\u001b[0m \u001b[39m# this function, and just call forward.\u001b[39;00m\n\u001b[1;32m   <a href='file:///Users/mikesemple/.conda/envs/torch/lib/python3.9/site-packages/torch/nn/modules/module.py?line=1107'>1108</a>\u001b[0m \u001b[39mif\u001b[39;00m \u001b[39mnot\u001b[39;00m (\u001b[39mself\u001b[39m\u001b[39m.\u001b[39m_backward_hooks \u001b[39mor\u001b[39;00m \u001b[39mself\u001b[39m\u001b[39m.\u001b[39m_forward_hooks \u001b[39mor\u001b[39;00m \u001b[39mself\u001b[39m\u001b[39m.\u001b[39m_forward_pre_hooks \u001b[39mor\u001b[39;00m _global_backward_hooks\n\u001b[1;32m   <a href='file:///Users/mikesemple/.conda/envs/torch/lib/python3.9/site-packages/torch/nn/modules/module.py?line=1108'>1109</a>\u001b[0m         \u001b[39mor\u001b[39;00m _global_forward_hooks \u001b[39mor\u001b[39;00m _global_forward_pre_hooks):\n\u001b[0;32m-> <a href='file:///Users/mikesemple/.conda/envs/torch/lib/python3.9/site-packages/torch/nn/modules/module.py?line=1109'>1110</a>\u001b[0m     \u001b[39mreturn\u001b[39;00m forward_call(\u001b[39m*\u001b[39;49m\u001b[39minput\u001b[39;49m, \u001b[39m*\u001b[39;49m\u001b[39m*\u001b[39;49mkwargs)\n\u001b[1;32m   <a href='file:///Users/mikesemple/.conda/envs/torch/lib/python3.9/site-packages/torch/nn/modules/module.py?line=1110'>1111</a>\u001b[0m \u001b[39m# Do not call functions when jit is used\u001b[39;00m\n\u001b[1;32m   <a href='file:///Users/mikesemple/.conda/envs/torch/lib/python3.9/site-packages/torch/nn/modules/module.py?line=1111'>1112</a>\u001b[0m full_backward_hooks, non_full_backward_hooks \u001b[39m=\u001b[39m [], []\n",
            "\u001b[1;32m/Users/mikesemple/Google Drive/uni/341 - Robot Perception/group4/assignment1.ipynb Cell 13'\u001b[0m in \u001b[0;36mDeepConvNN.forward\u001b[0;34m(self, x)\u001b[0m\n\u001b[1;32m     <a href='vscode-notebook-cell:/Users/mikesemple/Google%20Drive/uni/341%20-%20Robot%20Perception/group4/assignment1.ipynb#ch0000010?line=78'>79</a>\u001b[0m x \u001b[39m=\u001b[39m \u001b[39mself\u001b[39m\u001b[39m.\u001b[39mblock4(x)\n\u001b[1;32m     <a href='vscode-notebook-cell:/Users/mikesemple/Google%20Drive/uni/341%20-%20Robot%20Perception/group4/assignment1.ipynb#ch0000010?line=79'>80</a>\u001b[0m x \u001b[39m=\u001b[39m \u001b[39mself\u001b[39m\u001b[39m.\u001b[39mpool(x)\n\u001b[0;32m---> <a href='vscode-notebook-cell:/Users/mikesemple/Google%20Drive/uni/341%20-%20Robot%20Perception/group4/assignment1.ipynb#ch0000010?line=80'>81</a>\u001b[0m x \u001b[39m=\u001b[39m x\u001b[39m.\u001b[39;49mview(\u001b[39m-\u001b[39;49m\u001b[39m1\u001b[39;49m, \u001b[39mself\u001b[39;49m\u001b[39m.\u001b[39;49mflattened_size)\n\u001b[1;32m     <a href='vscode-notebook-cell:/Users/mikesemple/Google%20Drive/uni/341%20-%20Robot%20Perception/group4/assignment1.ipynb#ch0000010?line=81'>82</a>\u001b[0m x \u001b[39m=\u001b[39m \u001b[39mself\u001b[39m\u001b[39m.\u001b[39mclassificationBlock(x)\n\u001b[1;32m     <a href='vscode-notebook-cell:/Users/mikesemple/Google%20Drive/uni/341%20-%20Robot%20Perception/group4/assignment1.ipynb#ch0000010?line=82'>83</a>\u001b[0m \u001b[39mreturn\u001b[39;00m x\n",
            "\u001b[0;31mRuntimeError\u001b[0m: shape '[-1, 12544]' is invalid for input of size 36864"
          ]
        }
      ],
      "source": [
        "BATCH_SIZE = 4\n",
        "EPOCHS = 5\n",
        "LEARNING_RATE = 0.001\n",
        "\n",
        "# resize = (224, 224)\n",
        "# nnet = VGG11()\n",
        "resize = (1047, 1047)\n",
        "nnet = DeepConvNN()\n",
        "\n",
        "train_loss, train_accuracy = train(nnet, BATCH_SIZE, EPOCHS, LEARNING_RATE, resize)"
      ]
    },
    {
      "cell_type": "code",
      "execution_count": null,
      "metadata": {
        "id": "SJI6erJmOKx-"
      },
      "outputs": [
        {
          "data": {
            "image/png": "[encoded data removed]",
            "text/plain": [
              "<Figure size 576x432 with 1 Axes>"
            ]
          },
          "metadata": {},
          "output_type": "display_data"
        },
        {
          "data": {
            "image/png": "[encoded data removed]",
            "text/plain": [
              "<Figure size 576x432 with 1 Axes>"
            ]
          },
          "metadata": {},
          "output_type": "display_data"
        }
      ],
      "source": [
        "plot_epochs(train_loss, train_loss, plotType='loss')\n",
        "\n",
        "plot_epochs(train_accuracy, train_accuracy, plotType='accuracy')\n"
      ]
    }
  ],
  "metadata": {
    "accelerator": "GPU",
    "colab": {
      "collapsed_sections": [],
      "name": "assignment1.ipynb",
      "provenance": []
    },
    "interpreter": {
      "hash": "967264ae980203440ddaee0507bc3cd46af5e06b6d5472ede725bb9edfce0d78"
    },
    "kernelspec": {
      "display_name": "Python [conda env:.conda-torch] *",
      "language": "python",
      "name": "conda-env-.conda-torch-py"
    },
    "language_info": {
      "codemirror_mode": {
        "name": "ipython",
        "version": 3
      },
      "file_extension": ".py",
      "mimetype": "text/x-python",
      "name": "python",
      "nbconvert_exporter": "python",
      "pygments_lexer": "ipython3",
      "version": "3.9.7"
    },
    "orig_nbformat": 4,
    "widgets": {
      "application/vnd.jupyter.widget-state+json": {
        "01496e68152e458c8c122003c36ecad9": {
          "model_module": "@jupyter-widgets/controls",
          "model_module_version": "1.5.0",
          "model_name": "HTMLModel",
          "state": {
            "_dom_classes": [],
            "_model_module": "@jupyter-widgets/controls",
            "_model_module_version": "1.5.0",
            "_model_name": "HTMLModel",
            "_view_count": null,
            "_view_module": "@jupyter-widgets/controls",
            "_view_module_version": "1.5.0",
            "_view_name": "HTMLView",
            "description": "",
            "description_tooltip": null,
            "layout": "IPY_MODEL_a237c0ded2fa4f4fa60c597f42f1c60e",
            "placeholder": "​",
            "style": "IPY_MODEL_bbc264fed9a94d9496398db4a99ca9f2",
            "value": "Epoch 0:   0%"
          }
        },
        "1ed574905dc24f02b1802a6b61fd9db2": {
          "model_module": "@jupyter-widgets/controls",
          "model_module_version": "1.5.0",
          "model_name": "DescriptionStyleModel",
          "state": {
            "_model_module": "@jupyter-widgets/controls",
            "_model_module_version": "1.5.0",
            "_model_name": "DescriptionStyleModel",
            "_view_count": null,
            "_view_module": "@jupyter-widgets/base",
            "_view_module_version": "1.2.0",
            "_view_name": "StyleView",
            "description_width": ""
          }
        },
        "212ca770f17c43f7b838bd159de1cd53": {
          "model_module": "@jupyter-widgets/base",
          "model_module_version": "1.2.0",
          "model_name": "LayoutModel",
          "state": {
            "_model_module": "@jupyter-widgets/base",
            "_model_module_version": "1.2.0",
            "_model_name": "LayoutModel",
            "_view_count": null,
            "_view_module": "@jupyter-widgets/base",
            "_view_module_version": "1.2.0",
            "_view_name": "LayoutView",
            "align_content": null,
            "align_items": null,
            "align_self": null,
            "border": null,
            "bottom": null,
            "display": null,
            "flex": null,
            "flex_flow": null,
            "grid_area": null,
            "grid_auto_columns": null,
            "grid_auto_flow": null,
            "grid_auto_rows": null,
            "grid_column": null,
            "grid_gap": null,
            "grid_row": null,
            "grid_template_areas": null,
            "grid_template_columns": null,
            "grid_template_rows": null,
            "height": null,
            "justify_content": null,
            "justify_items": null,
            "left": null,
            "margin": null,
            "max_height": null,
            "max_width": null,
            "min_height": null,
            "min_width": null,
            "object_fit": null,
            "object_position": null,
            "order": null,
            "overflow": null,
            "overflow_x": null,
            "overflow_y": null,
            "padding": null,
            "right": null,
            "top": null,
            "visibility": null,
            "width": null
          }
        },
        "28f862711238434498db8c044c9f799d": {
          "model_module": "@jupyter-widgets/controls",
          "model_module_version": "1.5.0",
          "model_name": "HBoxModel",
          "state": {
            "_dom_classes": [],
            "_model_module": "@jupyter-widgets/controls",
            "_model_module_version": "1.5.0",
            "_model_name": "HBoxModel",
            "_view_count": null,
            "_view_module": "@jupyter-widgets/controls",
            "_view_module_version": "1.5.0",
            "_view_name": "HBoxView",
            "box_style": "",
            "children": [
              "IPY_MODEL_01496e68152e458c8c122003c36ecad9",
              "IPY_MODEL_49c86e80cfbd4fbc8f9c9168a2c6a6b1",
              "IPY_MODEL_e6d4136c9a0e4e1cb6651eaa8796d434"
            ],
            "layout": "IPY_MODEL_4f4cee546b184be1a648eb2876e7338f"
          }
        },
        "49c86e80cfbd4fbc8f9c9168a2c6a6b1": {
          "model_module": "@jupyter-widgets/controls",
          "model_module_version": "1.5.0",
          "model_name": "FloatProgressModel",
          "state": {
            "_dom_classes": [],
            "_model_module": "@jupyter-widgets/controls",
            "_model_module_version": "1.5.0",
            "_model_name": "FloatProgressModel",
            "_view_count": null,
            "_view_module": "@jupyter-widgets/controls",
            "_view_module_version": "1.5.0",
            "_view_name": "ProgressView",
            "bar_style": "danger",
            "description": "",
            "description_tooltip": null,
            "layout": "IPY_MODEL_a820294f530c4bf1aaede06460285ecf",
            "max": 8,
            "min": 0,
            "orientation": "horizontal",
            "style": "IPY_MODEL_932c936e530847aa9d422cba03d11fda",
            "value": 0
          }
        },
        "4f4cee546b184be1a648eb2876e7338f": {
          "model_module": "@jupyter-widgets/base",
          "model_module_version": "1.2.0",
          "model_name": "LayoutModel",
          "state": {
            "_model_module": "@jupyter-widgets/base",
            "_model_module_version": "1.2.0",
            "_model_name": "LayoutModel",
            "_view_count": null,
            "_view_module": "@jupyter-widgets/base",
            "_view_module_version": "1.2.0",
            "_view_name": "LayoutView",
            "align_content": null,
            "align_items": null,
            "align_self": null,
            "border": null,
            "bottom": null,
            "display": null,
            "flex": null,
            "flex_flow": null,
            "grid_area": null,
            "grid_auto_columns": null,
            "grid_auto_flow": null,
            "grid_auto_rows": null,
            "grid_column": null,
            "grid_gap": null,
            "grid_row": null,
            "grid_template_areas": null,
            "grid_template_columns": null,
            "grid_template_rows": null,
            "height": null,
            "justify_content": null,
            "justify_items": null,
            "left": null,
            "margin": null,
            "max_height": null,
            "max_width": null,
            "min_height": null,
            "min_width": null,
            "object_fit": null,
            "object_position": null,
            "order": null,
            "overflow": null,
            "overflow_x": null,
            "overflow_y": null,
            "padding": null,
            "right": null,
            "top": null,
            "visibility": null,
            "width": null
          }
        },
        "932c936e530847aa9d422cba03d11fda": {
          "model_module": "@jupyter-widgets/controls",
          "model_module_version": "1.5.0",
          "model_name": "ProgressStyleModel",
          "state": {
            "_model_module": "@jupyter-widgets/controls",
            "_model_module_version": "1.5.0",
            "_model_name": "ProgressStyleModel",
            "_view_count": null,
            "_view_module": "@jupyter-widgets/base",
            "_view_module_version": "1.2.0",
            "_view_name": "StyleView",
            "bar_color": null,
            "description_width": ""
          }
        },
        "a237c0ded2fa4f4fa60c597f42f1c60e": {
          "model_module": "@jupyter-widgets/base",
          "model_module_version": "1.2.0",
          "model_name": "LayoutModel",
          "state": {
            "_model_module": "@jupyter-widgets/base",
            "_model_module_version": "1.2.0",
            "_model_name": "LayoutModel",
            "_view_count": null,
            "_view_module": "@jupyter-widgets/base",
            "_view_module_version": "1.2.0",
            "_view_name": "LayoutView",
            "align_content": null,
            "align_items": null,
            "align_self": null,
            "border": null,
            "bottom": null,
            "display": null,
            "flex": null,
            "flex_flow": null,
            "grid_area": null,
            "grid_auto_columns": null,
            "grid_auto_flow": null,
            "grid_auto_rows": null,
            "grid_column": null,
            "grid_gap": null,
            "grid_row": null,
            "grid_template_areas": null,
            "grid_template_columns": null,
            "grid_template_rows": null,
            "height": null,
            "justify_content": null,
            "justify_items": null,
            "left": null,
            "margin": null,
            "max_height": null,
            "max_width": null,
            "min_height": null,
            "min_width": null,
            "object_fit": null,
            "object_position": null,
            "order": null,
            "overflow": null,
            "overflow_x": null,
            "overflow_y": null,
            "padding": null,
            "right": null,
            "top": null,
            "visibility": null,
            "width": null
          }
        },
        "a820294f530c4bf1aaede06460285ecf": {
          "model_module": "@jupyter-widgets/base",
          "model_module_version": "1.2.0",
          "model_name": "LayoutModel",
          "state": {
            "_model_module": "@jupyter-widgets/base",
            "_model_module_version": "1.2.0",
            "_model_name": "LayoutModel",
            "_view_count": null,
            "_view_module": "@jupyter-widgets/base",
            "_view_module_version": "1.2.0",
            "_view_name": "LayoutView",
            "align_content": null,
            "align_items": null,
            "align_self": null,
            "border": null,
            "bottom": null,
            "display": null,
            "flex": null,
            "flex_flow": null,
            "grid_area": null,
            "grid_auto_columns": null,
            "grid_auto_flow": null,
            "grid_auto_rows": null,
            "grid_column": null,
            "grid_gap": null,
            "grid_row": null,
            "grid_template_areas": null,
            "grid_template_columns": null,
            "grid_template_rows": null,
            "height": null,
            "justify_content": null,
            "justify_items": null,
            "left": null,
            "margin": null,
            "max_height": null,
            "max_width": null,
            "min_height": null,
            "min_width": null,
            "object_fit": null,
            "object_position": null,
            "order": null,
            "overflow": null,
            "overflow_x": null,
            "overflow_y": null,
            "padding": null,
            "right": null,
            "top": null,
            "visibility": null,
            "width": null
          }
        },
        "bbc264fed9a94d9496398db4a99ca9f2": {
          "model_module": "@jupyter-widgets/controls",
          "model_module_version": "1.5.0",
          "model_name": "DescriptionStyleModel",
          "state": {
            "_model_module": "@jupyter-widgets/controls",
            "_model_module_version": "1.5.0",
            "_model_name": "DescriptionStyleModel",
            "_view_count": null,
            "_view_module": "@jupyter-widgets/base",
            "_view_module_version": "1.2.0",
            "_view_name": "StyleView",
            "description_width": ""
          }
        },
        "e6d4136c9a0e4e1cb6651eaa8796d434": {
          "model_module": "@jupyter-widgets/controls",
          "model_module_version": "1.5.0",
          "model_name": "HTMLModel",
          "state": {
            "_dom_classes": [],
            "_model_module": "@jupyter-widgets/controls",
            "_model_module_version": "1.5.0",
            "_model_name": "HTMLModel",
            "_view_count": null,
            "_view_module": "@jupyter-widgets/controls",
            "_view_module_version": "1.5.0",
            "_view_name": "HTMLView",
            "description": "",
            "description_tooltip": null,
            "layout": "IPY_MODEL_212ca770f17c43f7b838bd159de1cd53",
            "placeholder": "​",
            "style": "IPY_MODEL_1ed574905dc24f02b1802a6b61fd9db2",
            "value": " 0/8 [00:02&lt;?, ?batch/s]"
          }
        }
      }
    }
  },
  "nbformat": 4,
  "nbformat_minor": 0
}
