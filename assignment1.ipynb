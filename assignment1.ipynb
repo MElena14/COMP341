{
  "cells": [
    {
      "cell_type": "markdown",
      "metadata": {
        "id": "vOOmWmuji7kk"
      },
      "source": [
        "# Grasp Detection"
      ]
    },
    {
      "cell_type": "markdown",
      "metadata": {
        "id": "UgcFvmyti7kq"
      },
      "source": [
        "### Comp 341"
      ]
    },
    {
      "cell_type": "markdown",
      "metadata": {
        "id": "8SLLcIX0i7kq"
      },
      "source": [
        "### Imports"
      ]
    },
    {
      "cell_type": "code",
      "execution_count": 1,
      "metadata": {
        "colab": {
          "base_uri": "https://localhost:8080/"
        },
        "id": "69WPLPGqOKxv",
        "outputId": "5b776567-7ce5-4b2e-b1d1-e297ebb5594e"
      },
      "outputs": [
        {
          "name": "stdout",
          "output_type": "stream",
          "text": [
            "Using torch 1.11.0\n"
          ]
        }
      ],
      "source": [
        "import os\n",
        "import multiprocessing\n",
        "import numpy as np \n",
        "import time\n",
        "import cv2\n",
        "from PIL import Image\n",
        "\n",
        "#matplotlib\n",
        "import matplotlib.pyplot as plt\n",
        "%matplotlib inline\n",
        "\n",
        "import seaborn as sns\n",
        "sns.set()\n",
        "\n",
        "## Progress bar\n",
        "from tqdm.notebook import tqdm\n",
        "# from tqdm.std import tqdm, trange\n",
        "# from tqdm import notebook\n",
        "# notebook.tqdm = tqdm\n",
        "# notebook.trange = trange\n",
        "\n",
        "#torch\n",
        "import torch\n",
        "import torch.nn as nn\n",
        "import torch.nn.functional as F\n",
        "import torch.utils.data as td\n",
        "import torch.optim as optim\n",
        "torch.backends.cudnn.benchmark = True \n",
        "import torchvision as tv\n",
        "\n",
        "from visualisation import cv2_imshow, rotated_rectangle, imshow\n",
        "from rect_metric import compare_grasps, grasp_accuracy\n",
        "\n",
        "\n",
        "print(\"Using torch\", torch.__version__)"
      ]
    },
    {
      "cell_type": "code",
      "execution_count": 2,
      "metadata": {
        "id": "-AWEfQ0LslM2"
      },
      "outputs": [],
      "source": [
        "def set_seed(seed):\n",
        "    np.random.seed(seed)\n",
        "    torch.manual_seed(seed)\n",
        "    if torch.cuda.is_available():  # GPU operation have separate seed\n",
        "        torch.cuda.manual_seed(seed)\n",
        "        torch.cuda.manual_seed_all(seed)\n",
        "\n",
        "\n",
        "set_seed(42)"
      ]
    },
    {
      "cell_type": "code",
      "execution_count": 3,
      "metadata": {
        "colab": {
          "base_uri": "https://localhost:8080/"
        },
        "id": "SfDDfDrvOKx2",
        "outputId": "d9b40e33-6ea5-46f6-f487-3e2be0aeae9e"
      },
      "outputs": [
        {
          "name": "stdout",
          "output_type": "stream",
          "text": [
            "not in colab\n",
            "Using device cuda:1\n"
          ]
        }
      ],
      "source": [
        "# Fetching the device that will be used throughout this notebook\n",
        "\n",
        "try:\n",
        "    from google.colab import drive\n",
        "    IN_COLAB = True\n",
        "    drive.mount('/content/drive')\n",
        "    DATASET_PATH = \"drive/MyDrive/Liverpool/Assignments/Year 3/COMP341/COMP341 - Assignment 01 - Data/Data\"\n",
        "    device = torch.device(\"cpu\") if not torch.cuda.is_available() else torch.device(\"cuda:0\")\n",
        "    !pip install shapely\n",
        "except:\n",
        "    IN_COLAB = False\n",
        "    print('not in colab')\n",
        "    DATASET_PATH = 'ass1_data/Data/'\n",
        "    device = torch.device(\"cpu\") if not torch.cuda.is_available() else torch.device(\"cuda:1\")\n",
        "print(\"Using device\", device)"
      ]
    },
    {
      "cell_type": "code",
      "execution_count": 4,
      "metadata": {
        "id": "2M50pjN_i7kv"
      },
      "outputs": [],
      "source": [
        "featureExtractionPretrainModel = 'model.pretrain.pth'\n",
        "finalModel = 'finalmodel.pth'\n",
        "finalDeConvModel = 'finalDeConvModel.pth'\n",
        "finalConvModel = 'finalConvModel.pth'"
      ]
    },
    {
      "cell_type": "markdown",
      "metadata": {
        "id": "Lii9__l7i7k0"
      },
      "source": [
        "### helpers"
      ]
    },
    {
      "cell_type": "code",
      "execution_count": 5,
      "metadata": {
        "id": "9yRDLP48OKx3"
      },
      "outputs": [],
      "source": [
        "colors = [[31, 120, 180], [51, 160, 44]]\n",
        "colors = [(r / 255, g / 255, b / 255) for (r, g, b) in colors]\n",
        "\n",
        "def plot_epochs(train_history, validation_history=None, plotType=\"loss\"):\n",
        "    x = np.arange(1, len(train_history) + 1)\n",
        "    plt.figure(figsize=(8, 6))\n",
        "    if validation_history:\n",
        "        plt.plot(x, validation_history, color=colors[1], label=f\"Validation {plotType}\", linewidth=2)\n",
        "    plt.plot(x, train_history, color=colors[0], label=f\"Training {plotType}\", linewidth=2)\n",
        "    plt.ylabel(f'{plotType}')\n",
        "    plt.xlabel('Epoch')\n",
        "    plt.legend(loc='upper right')\n",
        "    plt.title(f\"Evolution of the training and validation {plotType}\")\n",
        "    plt.show()"
      ]
    },
    {
      "cell_type": "code",
      "execution_count": 6,
      "metadata": {
        "id": "JD85qwRvOKx4"
      },
      "outputs": [],
      "source": [
        "def get_cnn_output_size(in_size, kernel_size, stride=1, padding=0):\n",
        "    integer = int((in_size - kernel_size + 2 * padding) / stride) == ((in_size - kernel_size + 2 * padding) / stride)\n",
        "    if not integer:\n",
        "        print(\"not int\", ((in_size - kernel_size + 2 * padding) / stride))\n",
        "    return int((in_size - kernel_size + 2 * padding) / stride) + 1"
      ]
    },
    {
      "cell_type": "code",
      "execution_count": 7,
      "metadata": {
        "colab": {
          "base_uri": "https://localhost:8080/"
        },
        "id": "RcKas80MOKx8",
        "outputId": "a6a82c30-91ce-4643-b34a-caf39432f020"
      },
      "outputs": [
        {
          "data": {
            "text/plain": [
              "16"
            ]
          },
          "execution_count": 7,
          "metadata": {},
          "output_type": "execute_result"
        }
      ],
      "source": [
        "get_cnn_output_size(32, kernel_size=2, stride=2, padding=0)"
      ]
    },
    {
      "cell_type": "markdown",
      "metadata": {
        "id": "vt8Neuwmi7kw"
      },
      "source": [
        "### Load Dataset"
      ]
    },
    {
      "cell_type": "markdown",
      "metadata": {
        "id": "QIPqgccGTS-i"
      },
      "source": [
        "#### Augmentation"
      ]
    },
    {
      "cell_type": "markdown",
      "metadata": {
        "id": "8yp_pkRCjL9c"
      },
      "source": [
        "Expanding the dataset with background augmentation"
      ]
    },
    {
      "cell_type": "code",
      "execution_count": 8,
      "metadata": {
        "id": "a8A1jqlVg_MX"
      },
      "outputs": [],
      "source": [
        "def generate_augmented_images(root_dir, bk_dir, num_bk):\n",
        "    for object_name in os.listdir(root_dir):\n",
        "        for scene_index in range(5):\n",
        "            scene_root = f\"{root_dir}/{object_name}/{scene_index}_{object_name}_\"\n",
        "\n",
        "            # Make sure a scene with this index exists for this object\n",
        "            rgb_path = scene_root + \"RGB.png\"\n",
        "            if not os.path.exists(rgb_path): continue\n",
        "\n",
        "            # Load original image and mask\n",
        "            rgb = cv2.imread(rgb_path)\n",
        "            mask = cv2.imread(scene_root + \"mask.png\")\n",
        "\n",
        "            for bk_index, background in enumerate(os.listdir(bk_dir)):\n",
        "\n",
        "                # Load the background image\n",
        "                bk = cv2.imread(os.path.join(bk_dir, background))[:1024, :1024]\n",
        "\n",
        "                # get masked foreground\n",
        "                fg_masked = cv2.bitwise_and(rgb, mask)\n",
        "\n",
        "                # get masked background, mask must be inverted \n",
        "                mask = cv2.bitwise_not(mask)\n",
        "                bk_masked = cv2.bitwise_and(bk, mask)\n",
        "                mask = cv2.bitwise_not(mask)  # revert mask to original\n",
        "\n",
        "                # combine masked foreground and masked background \n",
        "                final = cv2.bitwise_or(fg_masked, bk_masked)\n",
        "                cv2.imwrite(scene_root + f\"RGB{bk_index}.png\", final)\n",
        "\n",
        "root_dir = DATASET_PATH + \"training\"\n",
        "bk_dir = DATASET_PATH + (\"../../backgrounds\" if IN_COLAB else \"/../backgrounds\") # Path to background images\n",
        "num_bk = len(os.listdir(bk_dir)) # Number of background images\n",
        "# generate_augmented_images(root_dir, bk_dir, num_bk)"
      ]
    },
    {
      "cell_type": "markdown",
      "metadata": {
        "id": "rP8TKjEPTS-k"
      },
      "source": [
        "#### Dataset "
      ]
    },
    {
      "cell_type": "code",
      "execution_count": 9,
      "metadata": {
        "id": "HPGyY2z4RiWt"
      },
      "outputs": [],
      "source": [
        "class GraspDataset(td.Dataset):\n",
        "  def __init__(self, root_dir, transforms=None, depth_image=None):\n",
        "      self.root_dir = root_dir\n",
        "      self.depth_image = {'perfect':'pDepth', 'stereo': 'sDepth'}.get(depth_image)\n",
        "      self.transforms = transforms if transforms else tv.transforms.Compose([tv.transforms.ToTensor(), tv.transforms.Normalize(mean=(0.5,), std=(0.5,))])\n",
        " \n",
        "      self.label_dict = {\n",
        "        \"1a9fa4c269cfcc1b738e43095496b061\": torch.tensor(0),\n",
        "        \"1d7830c5d0322518d95aa859a460a9ec\": torch.tensor(1),\n",
        "        \"2f486fc43af412df22ebff72a57eff4\": torch.tensor(2),\n",
        "        \"244cc8707720b66bac7e7b41e1ebe3e4\": torch.tensor(3),\n",
        "        \"357e8e4114ebc429e1720743367d35c4\": torch.tensor(4),\n",
        "        \"61921ef74746301497380cf93ab53c21\": torch.tensor(5),\n",
        "        \"2206259551e94d263321831d2245cf06\": torch.tensor(6),\n",
        "        \"b1f4459eae651d4a1e4a40c5ca6a557d\": torch.tensor(7),\n",
        "        \"e35c7e8c9f85cac42a2f0bc2931a19e\": torch.tensor(8),\n",
        "        \"ffe702c059d0fe5e6617a7fd9720002b\": torch.tensor(9)\n",
        "      }\n",
        "\n",
        "      if root_dir.split(\"/\")[-1] == \"testing\":\n",
        "        self.scene_paths, self.maxGraspLen = load_test_set(root_dir)\n",
        "        return\n",
        "\n",
        "      self.maxGraspLen = 0\n",
        "\n",
        "      # List of all scenes for all objects in the dataset\n",
        "      self.scene_paths = []\n",
        "      for object_name in os.listdir(root_dir):\n",
        "        scene_nums = os.listdir(f\"{root_dir}/{object_name}\")\n",
        "        scene_nums = set([file.split(\"_\")[0] for file in scene_nums])\n",
        "\n",
        "        for scene_index in scene_nums: # Scene index ranges from 0 to 4 for all objects\n",
        "          scene_root = f\"{root_dir}/{object_name}/{scene_index}_{object_name}_\"\n",
        " \n",
        "          # Make sure a scene with this index exists for this object\n",
        "          grasp_path = scene_root + \"grasps.txt\"\n",
        "          if os.path.exists(grasp_path):\n",
        "            grasps = load_grasps(grasp_path)\n",
        "            if len(grasps) > self.maxGraspLen:\n",
        "              self.maxGraspLen = len(grasps)\n",
        "          else:\n",
        "            raise Exception(f\"grasp file does not exist!! ({grasp_path})\")\n",
        " \n",
        "          # For each RGB image in the scene\n",
        "          for bk_index in range(num_bk+1): # +1 for the original image\n",
        " \n",
        "            # If the background index raches the number of backgrounds, set it\n",
        "            # to an empty string to load the original image\n",
        "            if bk_index == num_bk: bk_index = \"\"\n",
        "            \n",
        "            scene = {\n",
        "              \"label\": object_name,\n",
        "              \"grasp\": grasps[0],\n",
        "              \"allGrasps\": grasps,\n",
        "              \"rgb\": scene_root + f\"RGB{bk_index}.png\",\n",
        "              \"mask\": scene_root + \"mask.png\",\n",
        "              \"pDepth\": scene_root + \"perfect_depth.tiff\",\n",
        "              \"sDepth\": scene_root + \"stereo_depth.tiff\"\n",
        "            }\n",
        "            self.scene_paths.append(scene)\n",
        " \n",
        "  # This must return the length of the dataset\n",
        "  def __len__(self):\n",
        "    return len(self.scene_paths)\n",
        " \n",
        "  # This must return the single dataset item at index idx\n",
        "  def __getitem__(self, idx):\n",
        "\n",
        "    # Load and convert the label to a tensor\n",
        "    label = self.label_dict[self.scene_paths[idx]['label']]\n",
        "\n",
        "    # Load the first grasp in this scene\n",
        "    grasp = self.scene_paths[idx]['grasp']\n",
        "\n",
        "    # Load all possible grasps for this scene\n",
        "    allGrasps = torch.Tensor(self.scene_paths[idx]['allGrasps'])\n",
        "    allGrasps = F.pad(allGrasps, pad=(0, 0, 0, self.maxGraspLen - allGrasps.shape[0]))\n",
        " \n",
        "    # Load the RGB image\n",
        "    image = Image.open(self.scene_paths[idx][\"rgb\"])\n",
        "    if self.transforms: #do transforms\n",
        "        image = self.transforms(image)\n",
        " \n",
        "    if self.depth_image is not None:\n",
        "      depth = Image.open(self.scene_paths[idx][self.depth_image])\n",
        "      depth = tv.transforms.ToTensor()(depth)\n",
        "      return (image, grasp, label, allGrasps, depth)\n",
        " \n",
        "    return (image, grasp, label, allGrasps)"
      ]
    },
    {
      "cell_type": "code",
      "execution_count": 10,
      "metadata": {
        "id": "QkZC41-U1XjA"
      },
      "outputs": [],
      "source": [
        "def load_test_set(root_dir):\n",
        "  scene_list = []\n",
        "  maxGraspLen = 0\n",
        "  file_list = sorted(os.listdir(root_dir))\n",
        "  for file_index in range(0, len(file_list), 5): # Each scene has 5 files\n",
        "    grasp_file = file_list[file_index+1]\n",
        "    grasps = load_grasps(os.path.join(root_dir, grasp_file))\n",
        "    if len(grasps) > maxGraspLen:\n",
        "      maxGraspLen = len(grasps)\n",
        "\n",
        "    scene = {\n",
        "      \"label\": grasp_file.split(\"_\")[1],\n",
        "      \"grasp\": grasps[0],\n",
        "      \"allGrasps\": grasps,\n",
        "      \"rgb\": os.path.join(root_dir, file_list[file_index]),\n",
        "      \"mask\": os.path.join(root_dir, file_list[file_index+2]),\n",
        "      \"pDepth\": os.path.join(root_dir, file_list[file_index+3]),\n",
        "      \"sDepth\": os.path.join(root_dir, file_list[file_index+4])\n",
        "    }\n",
        "    scene_list.append(scene)\n",
        "\n",
        "  return scene_list, maxGraspLen\n",
        "\n",
        "def load_grasps(grasp_file):\n",
        "  processLine = lambda line: np.array([float(number) for number in line.split(\";\")])\n",
        "  with open(grasp_file) as file:\n",
        "    grasps = np.array([processLine(line) for line in file.readlines()], dtype=np.float32)\n",
        "  return grasps"
      ]
    },
    {
      "cell_type": "markdown",
      "metadata": {
        "id": "cpMOsyQDi7ky"
      },
      "source": [
        "#### Lets look at an image"
      ]
    },
    {
      "cell_type": "code",
      "execution_count": 11,
      "metadata": {
        "colab": {
          "base_uri": "https://localhost:8080/",
          "height": 300
        },
        "id": "UMna7vFPf8v7",
        "outputId": "c2446e9e-e750-4304-85df-847e907d3853"
      },
      "outputs": [
        {
          "name": "stdout",
          "output_type": "stream",
          "text": [
            "19\n",
            "grasp: tensor([774.6070, 782.9183,  52.1016,  22.5000,  27.4022])\n",
            "label tensor(6)\n"
          ]
        },
        {
          "data": {
            "image/png": "[encoded data removed]",
            "text/plain": [
              "<Figure size 432x288 with 1 Axes>"
            ]
          },
          "metadata": {},
          "output_type": "display_data"
        }
      ],
      "source": [
        "# Show off the dataset\n",
        "dataset = GraspDataset(DATASET_PATH + \"/testing\")\n",
        "print(len(dataset))\n",
        "# indicies = list(range(len(dataset)))[125:]\n",
        "# dataset = torch.utils.data.Subset(dataset, indicies)\n",
        "loader = td.DataLoader(dataset, batch_size=4, shuffle=True, drop_last=False, num_workers=2)\n",
        "batch = next(iter(loader))\n",
        "imshow(batch[0][0])\n",
        "\n",
        "print(\"grasp:\", batch[1][0])\n",
        "print(\"label\", batch[2][0])\n",
        "# print(\"depth:\", batch[4][0])"
      ]
    },
    {
      "cell_type": "markdown",
      "metadata": {
        "id": "SSq5SrUti7kz"
      },
      "source": [
        "## Boilerplate Code"
      ]
    },
    {
      "cell_type": "markdown",
      "metadata": {
        "id": "NRkut6cii7k1"
      },
      "source": [
        "### loss and optimisers"
      ]
    },
    {
      "cell_type": "code",
      "execution_count": 12,
      "metadata": {
        "id": "4SzI9dlCOKx6"
      },
      "outputs": [],
      "source": [
        "def getLoss(regression=True):\n",
        "    if regression:\n",
        "        return nn.MSELoss()\n",
        "    else:\n",
        "        return nn.CrossEntropyLoss()\n",
        "\n",
        "def getOptimiser(model, learningRate):\n",
        "    #optimiser = optim.SGD(model.parameters(), lr=learning_rate, momentum=0.9)\n",
        "    optimiser = optim.Adam(model.parameters(), lr=learningRate)\n",
        "    return optimiser"
      ]
    },
    {
      "cell_type": "markdown",
      "metadata": {
        "id": "xmqeNEjdi7k2"
      },
      "source": [
        "### Data Loaders"
      ]
    },
    {
      "cell_type": "code",
      "execution_count": 13,
      "metadata": {
        "id": "oNSAt2C3OKx5"
      },
      "outputs": [],
      "source": [
        "def gen_transforms(resize=None, imgs_mean=(0.5,), imgs_std=(0.5,)):\n",
        "    tst_trans = [tv.transforms.ToTensor()]\n",
        "    if resize is not None:\n",
        "        tst_trans.append(tv.transforms.Resize(resize[0]))\n",
        "        tst_trans.append(tv.transforms.CenterCrop(resize[1]))\n",
        "    tst_trans.append(tv.transforms.Normalize(mean=imgs_mean, std=imgs_std))\n",
        "    return tv.transforms.Compose(tst_trans)\n",
        "\n",
        "def get_train_loader(batchSize, resize = None, dataset='grasp'): # dataset can = ('grasp', 'perfectDepth', 'stereoDepth', or 'imageNet')\n",
        "    transforms = gen_transforms(resize)\n",
        "    if dataset == 'imageNet':\n",
        "        trainData = tv.datasets.ImageNet(root=f'imageNet/', transform=transforms, split='val')\n",
        "        imagenetSampler = torch.utils.data.RandomSampler(trainData, num_samples=1000)\n",
        "        trainLoader = td.DataLoader(trainData, batch_size=batchSize, sampler=imagenetSampler, shuffle=False, drop_last=False, num_workers=int(multiprocessing.cpu_count()/2))\n",
        "    else:\n",
        "        trainData = GraspDataset(root_dir=f'{DATASET_PATH}/training', transforms=transforms, depth_image={'perfectDepth':'perfect', 'stereoDepth':'stereo', 'grasp':None}.get(dataset))\n",
        "        trainLoader = td.DataLoader(trainData, batch_size=batchSize, shuffle=True, drop_last=False, num_workers=int(multiprocessing.cpu_count()/2))\n",
        "    return trainLoader\n",
        "\n",
        "def get_test_loader(batchSize):\n",
        "    trainData = GraspDataset(root_dir=f'{DATASET_PATH}/testing', transforms=gen_transforms())\n",
        "    trainLoader = td.DataLoader(trainData, batch_size=batchSize, shuffle=True, drop_last=False, num_workers=int(multiprocessing.cpu_count()/2))\n",
        "    return trainLoader"
      ]
    },
    {
      "cell_type": "markdown",
      "metadata": {
        "id": "ZUllyqU4i7k2"
      },
      "source": [
        "### Training functions"
      ]
    },
    {
      "cell_type": "markdown",
      "metadata": {
        "id": "qKQZohJIcfr6"
      },
      "source": [
        "#### RGB Only Training Function"
      ]
    },
    {
      "cell_type": "code",
      "execution_count": 14,
      "metadata": {
        "id": "znIgpS8STS-q"
      },
      "outputs": [],
      "source": [
        "def train(model, batch_size, n_epochs, learning_rate, resize=None, usePretrainedBlock=False):\n",
        "    print(f\"batch size: {batch_size}\\nn epochs: {n_epochs}\\nlearning rate: {learning_rate}\\n\", \"=\"*20)\n",
        "    \n",
        "    trainLoader = get_train_loader(batch_size, resize)\n",
        "    lossGrasp, lossClassification = getLoss(regression=True), getLoss(regression=False)\n",
        "    optimizer = getOptimiser(model, learning_rate)\n",
        "    train_history, accuracy_history = [], []\n",
        "    \n",
        "    model = model.to(device) # Move model to gpu\n",
        "    model.train() # Set the model to training mode (for DropOut)\n",
        "    if usePretrainedBlock:\n",
        "        model.featureExtractionBlock.load_state_dict(torch.load(featureExtractionPretrainModel))\n",
        "    best_accuracy = 0\n",
        "    for epoch in range(n_epochs):  # loop over the dataset for n_epoch\n",
        "        epoch_loss, batch_acc = 0, 0\n",
        " \n",
        "        with tqdm(trainLoader, unit=\"batch\") as tepoch:\n",
        "            tepoch.set_description(f\"Epoch {epoch}\")\n",
        "            for rgb, grasp, label, allGrasps in tepoch:   #for each batch\n",
        "                rgb, grasp, label, allGrasps = rgb.to(device), grasp.to(device), label.to(device), allGrasps.to(device)   # Move tensors to gpu\n",
        "                optimizer.zero_grad()   # zero the parameter gradients\n",
        " \n",
        "                # forward + backward + optimize\n",
        "                grasp_outputs, classification_outputs = model(rgb)\n",
        "                grasp_loss = lossGrasp(grasp_outputs,  grasp)\n",
        "                classification_loss = lossClassification(classification_outputs, label)\n",
        "                loss = grasp_loss + classification_loss # Combine two losses\n",
        "                loss.backward()\n",
        "                optimizer.step()\n",
        " \n",
        "                epoch_loss += loss.item()   # add to running totals\n",
        "                with torch.no_grad():\n",
        "                    accs = grasp_accuracy(grasp_outputs, allGrasps)\n",
        "                    batch_acc += accs\n",
        "        epoch_loss = epoch_loss / len(trainLoader)\n",
        "        # print(f\"Epoch #{epoch + 1} train_loss: {round(epoch_loss,2)} accuracy: {round(epoch_accuracy,1)}% took: {round(time.time() - start_time,2)}s\") \n",
        "        train_history.append(epoch_loss)\n",
        "        epoch_acc = batch_acc/len(trainLoader)\n",
        "        accuracy_history.append(epoch_acc)\n",
        "        if epoch_acc > best_accuracy:\n",
        "            best_accuracy = epoch_acc\n",
        "            torch.save(model.state_dict(), finalModel)\n",
        "        \n",
        "    # Show off model outputs from the last batch\n",
        "    with torch.no_grad():\n",
        "        for i in range(len(grasp_outputs)):\n",
        "            print('predicted grasp:', grasp_outputs[i].cpu())\n",
        "            print('predicted label:', classification_outputs[i].cpu())\n",
        "            rotated_rectangle(rgb[i].cpu(), grasp_outputs[i].cpu(), grasp[i].cpu())\n",
        "        accuracy_history = [i.cpu().numpy().item() for i in accuracy_history]\n",
        "        \n",
        "    print(accuracy_history)\n",
        "    return train_history, accuracy_history"
      ]
    },
    {
      "cell_type": "markdown",
      "metadata": {},
      "source": [
        "#### no classification"
      ]
    },
    {
      "cell_type": "code",
      "execution_count": 15,
      "metadata": {
        "id": "H6bSG59Kouxx"
      },
      "outputs": [],
      "source": [
        "def train_no_classification(model, batch_size, n_epochs, learning_rate, resize=None):\n",
        "    print(f\"batch size: {batch_size}\\nn epochs: {n_epochs}\\nlearning rate: {learning_rate}\\n\", \"=\"*20)\n",
        "    \n",
        "    trainLoader = get_train_loader(batch_size, resize)\n",
        "    lossGrasp, lossClassification = getLoss(regression=True), getLoss(regression=False)\n",
        "    optimizer = getOptimiser(model, learning_rate)\n",
        "    train_history, accuracy_history = [], []\n",
        "    \n",
        "    model = model.to(device) # Move model to gpu\n",
        "    model.train() # Set the model to training mode (for DropOut)\n",
        "    best_accuracy = 0\n",
        "    for epoch in range(n_epochs):  # loop over the dataset for n_epoch\n",
        "        epoch_loss, epoch_accuracy = 0, 0\n",
        "\n",
        "        with tqdm(trainLoader, unit=\"batch\") as tepoch:\n",
        "            tepoch.set_description(f\"Epoch {epoch}\")\n",
        "            for rgb, grasp, _, allGrasps in tepoch:   #for each batch\n",
        "                rgb, grasp, allGrasps = rgb.to(device), grasp.to(device), allGrasps.to(device)   # Move tensors to gpu\n",
        "                optimizer.zero_grad()   # zero the parameter gradients\n",
        " \n",
        "                # forward + backward + optimize\n",
        "                outputs = model(rgb)\n",
        "                loss = lossGrasp(outputs,  grasp)\n",
        "                loss.backward()\n",
        "                optimizer.step()\n",
        " \n",
        "                epoch_loss += loss.item()   # add to running totals\n",
        "                with torch.no_grad():\n",
        "                    accs = grasp_accuracy(outputs, allGrasps)\n",
        "                    epoch_accuracy += accs\n",
        " \n",
        "        epoch_loss = epoch_loss / len(trainLoader)\n",
        "        train_history.append(epoch_loss)\n",
        "        batch_acc = epoch_accuracy/len(trainLoader)\n",
        "        accuracy_history.append(batch_acc)\n",
        "        if batch_acc > best_accuracy:\n",
        "            best_accuracy = batch_acc\n",
        "            torch.save(model.state_dict(), finalConvModel)\n",
        "        \n",
        "    # Show off model outputs from the last batch\n",
        "    with torch.no_grad():\n",
        "        for i in range(len(outputs)):\n",
        "            print('predicted grasp:', outputs[i].cpu())\n",
        "            rotated_rectangle(rgb[i].cpu(), outputs[i].cpu(), grasp[i].cpu())\n",
        "        accuracy_history = [i.cpu().numpy().item() for i in accuracy_history]\n",
        "        \n",
        "    print(accuracy_history)\n",
        "    return train_history, accuracy_history"
      ]
    },
    {
      "cell_type": "markdown",
      "metadata": {
        "id": "n0AMfR5nTS-r"
      },
      "source": [
        "#### Pre-training Training Function"
      ]
    },
    {
      "cell_type": "code",
      "execution_count": 16,
      "metadata": {
        "id": "m2KPusVhOKx6"
      },
      "outputs": [],
      "source": [
        "def pretrain(model, batch_size, n_epochs, learning_rate, resize=None, mode = 'pretrain'): #mode = 'pretrain' or 'train'\n",
        "    print(f\"batch size: {batch_size}\\nn epochs: {n_epochs}\\nlearning rate: {learning_rate}\\n\", \"=\"*20)\n",
        "    \n",
        "    trainLoader = get_train_loader(batch_size, resize, 'grasp' if mode == 'train' else 'imageNet')\n",
        "    lossFn = getLoss(mode == 'train')\n",
        "    optimizer = getOptimiser(model, learning_rate)\n",
        "\n",
        "    train_history = []\n",
        "    \n",
        "    model = model.to(device) # Move model to gpu\n",
        "    model.train() # Set the model to training mode (for DropOut)\n",
        "    model.featureExtractionBlock.load_state_dict(torch.load(featureExtractionPretrainModel))\n",
        "\n",
        "    for epoch in range(n_epochs):  # loop over the dataset for n_epoch\n",
        "        epoch_loss = 0\n",
        "        with tqdm(trainLoader, unit=\"batch\") as tepoch:\n",
        "            tepoch.set_description(f\"Epoch {epoch}\")\n",
        "            for rgb, grasp, label, allGrasps  in tepoch:   #for each batch\n",
        "                rgb, grasp, label = rgb.to(device), grasp.to(device), label.to(device)   # Move tensors to gpu\n",
        "                optimizer.zero_grad()   # zero the parameter gradients\n",
        "                outputs = model(rgb)    \n",
        "                loss = lossFn(outputs,  grasp)\n",
        "                loss.backward()\n",
        "                optimizer.step()\n",
        "                epoch_loss += loss.item()# add to running totals\n",
        "        epoch_loss = epoch_loss / len(trainLoader)\n",
        "        train_history.append(epoch_loss)\n",
        "    torch.save(model.featureExtractionBlock.state_dict(), featureExtractionPretrainModel)\n",
        "    return train_history"
      ]
    },
    {
      "cell_type": "markdown",
      "metadata": {
        "id": "YiCAbaHJTS-r"
      },
      "source": [
        "#### RGB + Depth Training Function"
      ]
    },
    {
      "cell_type": "code",
      "execution_count": 17,
      "metadata": {
        "id": "jK8dH85hcCeC"
      },
      "outputs": [],
      "source": [
        "def train_depth(model, batch_size, n_epochs, learning_rate, resize=None, dataset=\"perfectDepth\", usePretrainedBlock=False):\n",
        "    print(f\"batch size: {batch_size}\\nn epochs: {n_epochs}\\nlearning rate: {learning_rate}\\n\", \"=\"*20)\n",
        "    \n",
        "    trainLoader = get_train_loader(batch_size, resize, dataset=dataset)\n",
        "    lossGrasp, lossClassification = getLoss(regression=True), getLoss(regression=False)\n",
        "    optimizer = getOptimiser(model, learning_rate)\n",
        "    train_history, accuracy_history = [], []\n",
        "    \n",
        "    model = model.to(device) # Move model to gpu\n",
        "    model.train() # Set the model to training mode (for DropOut)\n",
        "    if usePretrainedBlock:\n",
        "        model.featureExtractionBlock.load_state_dict(torch.load(featureExtractionPretrainModel))\n",
        "\n",
        "    for epoch in range(n_epochs):  # loop over the dataset for n_epoch\n",
        "        epoch_loss, epoch_accuracy = 0, 0\n",
        " \n",
        "        with tqdm(trainLoader, unit=\"batch\") as tepoch:\n",
        "            tepoch.set_description(f\"Epoch {epoch}\")\n",
        "            for rgb, grasp, label, allGrasps, depth in tepoch:   #for each batch\n",
        "                rgb, grasp, label, allGrasps, depth = rgb.to(device), grasp.to(device), label.to(device), allGrasps.to(device), depth.to(device)   # Move tensors to gpu\n",
        "                optimizer.zero_grad()   # zero the parameter gradients\n",
        " \n",
        "                # forward + backward + optimize\n",
        "                grasp_outputs, classification_outputs = model(rgb, depth)\n",
        "                grasp_loss = lossGrasp(grasp_outputs,  grasp)\n",
        "                classification_loss = lossClassification(classification_outputs, label)\n",
        "                loss = grasp_loss + classification_loss # Combine two losses\n",
        "                loss.backward()\n",
        "                optimizer.step()\n",
        " \n",
        "                epoch_loss += loss.item()   # add to running totals\n",
        "                with torch.no_grad():\n",
        "                    accs = grasp_accuracy(grasp_outputs, allGrasps)\n",
        "                    epoch_accuracy += accs\n",
        " \n",
        "        epoch_loss = epoch_loss / len(trainLoader)\n",
        "        # print(f\"Epoch #{epoch + 1} train_loss: {round(epoch_loss,2)} accuracy: {round(epoch_accuracy,1)}% took: {round(time.time() - start_time,2)}s\") \n",
        "        train_history.append(epoch_loss)\n",
        "        batch_acc = epoch_accuracy/len(trainLoader)\n",
        "        accuracy_history.append(batch_acc)\n",
        "        if batch_acc > best_accuracy:\n",
        "            best_accuracy = batch_acc\n",
        "            torch.save(model.state_dict(), finalDeConvModel)\n",
        "        \n",
        "    # Show off model outputs from the last batch\n",
        "    with torch.no_grad():\n",
        "        for i in range(len(grasp_outputs)):\n",
        "            print('predicted grasp:', grasp_outputs[i].cpu())\n",
        "            print('predicted label:', classification_outputs[i].cpu())\n",
        "            rotated_rectangle(rgb[i].cpu(), grasp_outputs[i].cpu(), grasp[i].cpu())\n",
        "        accuracy_history = [i.cpu().numpy().item() for i in accuracy_history]\n",
        "        \n",
        "    print(accuracy_history)\n",
        "    return train_history, accuracy_history"
      ]
    },
    {
      "cell_type": "markdown",
      "metadata": {},
      "source": [
        "### De-Convolution Training"
      ]
    },
    {
      "cell_type": "code",
      "execution_count": 18,
      "metadata": {},
      "outputs": [],
      "source": [
        "def pos_angle_w_h_to_grasp(pos_output, angle_output, width_output, hight_output):\n",
        "    batch_size = pos_output.size()[0]\n",
        "    grasps = torch.zeros((batch_size, 5))\n",
        "    for idx in range(batch_size):\n",
        "        grasps[idx] = torch.Tensor([pos_output[idx][0], pos_output[idx][1], angle_output[idx], width_output[idx], hight_output[idx]])\n",
        "    return grasps\n",
        "        \n",
        "\n",
        "def multiheadTrain(model, batch_size, n_epochs, learning_rate, resize=None, optimizer=None, printImages=True):\n",
        "    print(f\"batch size: {batch_size}\\nn epochs: {n_epochs}\\nlearning rate: {learning_rate}\\n\", \"=\"*20)\n",
        "    \n",
        "    trainLoader = get_train_loader(batch_size, resize)\n",
        "    lossPosFn, lossAngleFn, lossWidthFn, lossHightFn = getLoss(), getLoss(), getLoss(), getLoss()\n",
        "    optimizer = getOptimiser(model, learning_rate) if optimizer is None else optimizer\n",
        "    train_history, accuracy_history = [], []\n",
        "    \n",
        "    model = model.to(device) # Move model to gpu\n",
        "    model.train() # Set the model to training mode (for DropOut)\n",
        "    for epoch in range(n_epochs):  # loop over the dataset for n_epoch\n",
        "        epoch_loss, epoch_accuracy = 0, 0\n",
        " \n",
        "        with tqdm(trainLoader, unit=\"batch\") as tepoch:\n",
        "            tepoch.set_description(f\"Epoch {epoch}\")\n",
        "            for rgb, grasp, label, allGrasps in tepoch:   #for each batch\n",
        "                rgb, grasp, label, allGrasps = rgb.to(device), grasp.to(device), label.to(device), allGrasps.to(device)   # Move tensors to gpu\n",
        "                optimizer.zero_grad()   # zero the parameter gradients\n",
        " \n",
        "                # forward + backward + optimize\n",
        "                pos_output, angle_output, width_output, hight_output = model(rgb)\n",
        "                with torch.no_grad():\n",
        "                    predicted_grasp = pos_angle_w_h_to_grasp(pos_output, angle_output, width_output, hight_output)\n",
        "                pos_loss, lossAngle, lossWidth, lossHight = lossPosFn(pos_output, grasp[:,0:2]), lossAngleFn(angle_output, grasp[:,2]), lossWidthFn(width_output, grasp[:,3]), lossHightFn(hight_output, grasp[:,4])\n",
        "                loss = pos_loss + 1.5 * lossAngle + 10*lossWidth + 14*lossHight\n",
        "                loss.backward()\n",
        "                optimizer.step()\n",
        "\n",
        "                epoch_loss += loss.item()   # add to running totals\n",
        "                with torch.no_grad():\n",
        "                    accs = grasp_accuracy(predicted_grasp, allGrasps)\n",
        "                    epoch_accuracy += accs\n",
        " \n",
        "        epoch_loss = epoch_loss / len(trainLoader)\n",
        "        # print(f\"Epoch #{epoch + 1} train_loss: {round(epoch_loss,2)} accuracy: {round(epoch_accuracy,1)}% took: {round(time.time() - start_time,2)}s\") \n",
        "        train_history.append(epoch_loss)\n",
        "        batch_acc = epoch_accuracy/len(trainLoader)\n",
        "        accuracy_history.append(batch_acc)\n",
        "        \n",
        "    with torch.no_grad():\n",
        "        if printImages:\n",
        "            for i in range(len(predicted_grasp)):\n",
        "                print('predicted grasp:', predicted_grasp[i].cpu())\n",
        "                rotated_rectangle(rgb[i].cpu(), predicted_grasp[i].cpu(), grasp[i].cpu())\n",
        "        accuracy_history = [i.cpu().numpy().item() for i in accuracy_history]\n",
        "    torch.save(model.state_dict(), finalDeConvModel)\n",
        "    print(accuracy_history)\n",
        "    return train_history, accuracy_history"
      ]
    },
    {
      "cell_type": "markdown",
      "metadata": {},
      "source": [
        "### Testing Functions"
      ]
    },
    {
      "cell_type": "code",
      "execution_count": 19,
      "metadata": {},
      "outputs": [],
      "source": [
        "def test_2_head(model, batch_size=16):\n",
        "    test_data = get_test_loader(batch_size)\n",
        "    model = model.to(device) # Move model to gpu\n",
        "    model.eval() # Set the model to training mode (for DropOut)\n",
        "    model.load_state_dict(torch.load(finalModel))\n",
        "    accuracy = []\n",
        "\n",
        "    for rgb, grasp, label, allGrasps  in test_data:   #for each batch\n",
        "        rgb, grasp, label = rgb.to(device), grasp.to(device), label.to(device)   # Move tensors to gpu\n",
        "        grasp_outputs, _ = model(rgb)    \n",
        "\n",
        "        with torch.no_grad():\n",
        "            accs = grasp_accuracy(grasp_outputs, allGrasps, average=False)\n",
        "            accuracy.extend(accs)\n",
        "    with torch.no_grad():\n",
        "        accuracy = sum(accuracy)/len(accuracy)\n",
        "    return accuracy\n",
        "\n",
        "def test_multihead(model, batch_size=16):\n",
        "    test_data = get_test_loader(batch_size)\n",
        "    model = model.to(device) # Move model to gpu\n",
        "    model.eval() # Set the model to training mode (for DropOut)\n",
        "    model.load_state_dict(torch.load(finalDeConvModel))\n",
        "    accuracy = []\n",
        "\n",
        "    for rgb, grasp, label, allGrasps  in test_data:   #for each batch\n",
        "        rgb, grasp, label = rgb.to(device), grasp.to(device), label.to(device)   # Move tensors to gpu\n",
        "        grasp_outputs, _ = model(rgb)    \n",
        "\n",
        "        with torch.no_grad():\n",
        "            accs = grasp_accuracy(grasp_outputs, allGrasps, average=False)\n",
        "            accuracy.extend(accs)\n",
        "    with torch.no_grad():\n",
        "        accuracy = sum(accuracy)/len(accuracy)\n",
        "    return accuracy\n",
        "\n",
        "def test_conv(model, batch_size=16):\n",
        "    test_data = get_test_loader(batch_size)\n",
        "    model = model.to(device) # Move model to gpu\n",
        "    model.eval() # Set the model to training mode (for DropOut)\n",
        "    model.load_state_dict(torch.load(finalConvModel))\n",
        "    accuracy = []\n",
        "\n",
        "    for rgb, grasp, label, allGrasps  in test_data:   #for each batch\n",
        "        rgb, grasp, label = rgb.to(device), grasp.to(device), label.to(device)   # Move tensors to gpu\n",
        "        grasp_outputs = model(rgb)    \n",
        "\n",
        "        with torch.no_grad():\n",
        "            accs = grasp_accuracy(grasp_outputs, allGrasps, average=False)\n",
        "            accuracy.extend(accs)\n",
        "    with torch.no_grad():\n",
        "        accuracy = sum(accuracy)/len(accuracy)\n",
        "    return accuracy"
      ]
    },
    {
      "cell_type": "markdown",
      "metadata": {
        "id": "DbmkABO8i7k3"
      },
      "source": [
        "## Our Models"
      ]
    },
    {
      "cell_type": "markdown",
      "metadata": {
        "id": "_dNMvlIZi7k3"
      },
      "source": [
        "### ConvNet"
      ]
    },
    {
      "cell_type": "code",
      "execution_count": 20,
      "metadata": {
        "id": "-AJhum8iOKx8"
      },
      "outputs": [],
      "source": [
        "class ConvNN(nn.Module):\n",
        "    def __init__(self):\n",
        "        super(ConvNN, self).__init__()\n",
        "\n",
        "        # Input image is size 1024x1024\n",
        "        self.conv1 = nn.Conv2d(3, 64, kernel_size=6, stride=2, padding=0) # output is 510x510\n",
        "        self.batchN = nn.BatchNorm2d(64)\n",
        "        self.pool1 = nn.MaxPool2d(kernel_size=2, stride=2, padding=0) # output is 255x255\n",
        "        \n",
        "        self.conv2 = nn.Conv2d(64, 128, kernel_size=3, stride=2, padding=1) # output is 128x128\n",
        "        self.batchN2 = nn.BatchNorm2d(128)\n",
        "        self.pool2 = nn.MaxPool2d(kernel_size=2, stride=2, padding=0) # output is 64x64\n",
        "\n",
        "        self.conv3 = nn.Conv2d(128, 128, kernel_size=2, stride=2, padding=0) # output is 32x32\n",
        "        self.batchN3 = nn.BatchNorm2d(128)\n",
        "        self.pool3 = nn.MaxPool2d(kernel_size=2, stride=2, padding=0) # output is 16x16\n",
        "        \n",
        "        self.fc1 = nn.Linear(128 * 16 * 16, 5)\n",
        "\n",
        "    def forward(self, x):\n",
        "\n",
        "        x = self.conv1(x)\n",
        "        x = self.batchN(x)\n",
        "        x = F.relu(x)\n",
        "        x = self.pool1(x)\n",
        "\n",
        "        x = self.conv2(x)\n",
        "        x = self.batchN2(x)\n",
        "        x = F.relu(x)\n",
        "        x = self.pool2(x)\n",
        "\n",
        "        x = self.conv3(x)\n",
        "        x = self.batchN3(x)\n",
        "        x = F.relu(x)\n",
        "        x = self.pool3(x)\n",
        "        \n",
        "        # flatten tensor\n",
        "        x = x.view(x.size()[0], -1)\n",
        "\n",
        "        x = self.fc1(x)\n",
        "\n",
        "        return x"
      ]
    },
    {
      "cell_type": "markdown",
      "metadata": {
        "id": "AfL9waEyi7k4"
      },
      "source": [
        "### ResNet"
      ]
    },
    {
      "cell_type": "code",
      "execution_count": 21,
      "metadata": {
        "id": "LJeWUn_Yi7k4"
      },
      "outputs": [],
      "source": [
        "class ResNetBlock(nn.Module):\n",
        "    def __init__(self, depth_in, activation_func, depth_out=-1):\n",
        "        super().__init__()\n",
        "        self.downSampleResidul = True\n",
        "        if depth_out == -1:\n",
        "            depth_out = depth_in\n",
        "            self.downSampleResidul = False\n",
        "\n",
        "        self.resBlock = nn.Sequential(\n",
        "            nn.BatchNorm2d(depth_in),\n",
        "            activation_func(inplace=True),\n",
        "            nn.Conv2d(depth_in, depth_out, kernel_size=3, padding=1, stride=1 if not self.downSampleResidul else 2, bias=False),\n",
        "            nn.BatchNorm2d(depth_out),\n",
        "            activation_func(inplace=True),\n",
        "            nn.Conv2d(depth_out, depth_out, kernel_size=3, padding=1, bias=False)\n",
        "        )\n",
        "\n",
        "        self.downsampleRes = nn.Sequential(\n",
        "            nn.BatchNorm2d(depth_in),\n",
        "            activation_func(inplace=True),\n",
        "            nn.Conv2d(depth_in, depth_out, kernel_size=1, stride=2, bias=False)\n",
        "        )\n",
        "\n",
        "    def forward(self, x):\n",
        "        z = self.resBlock(x)\n",
        "        if self.downSampleResidul:\n",
        "            x = self.downsampleRes(x)\n",
        "        return z + x"
      ]
    },
    {
      "cell_type": "code",
      "execution_count": 22,
      "metadata": {
        "id": "VUgMGWqJi7k4"
      },
      "outputs": [],
      "source": [
        "class DeepGraspResNet(nn.Module):\n",
        "    def __init__(self, mode = 'train', applyFC=True):\n",
        "        super(DeepGraspResNet, self).__init__()\n",
        "        self.applyFC = applyFC\n",
        "        # self.classificationMode = classificationMode\n",
        "        #in = 1024 x 1024\n",
        "        self.block1 = nn.Sequential(\n",
        "            nn.Conv2d(3, 16, kernel_size=3, stride=2, padding=0), #out = 511x511\n",
        "            nn.SiLU(inplace=True),\n",
        "            nn.BatchNorm2d(16),\n",
        "            # nn.Dropout(0.3),\n",
        "            nn.Conv2d(16, 32, kernel_size=3, stride=1, padding=0), #out = 509x509\n",
        "            nn.SiLU(inplace=True),\n",
        "            nn.BatchNorm2d(32),\n",
        "            # nn.Dropout(0.3),\n",
        "            nn.Conv2d(32, 32, kernel_size=3, stride=1, padding=0), #out = 507x507\n",
        "            nn.SiLU(inplace=True),\n",
        "            nn.BatchNorm2d(32),\n",
        "            nn.Conv2d(32, 32, kernel_size=3, stride=2, padding=0) #out = 253x253\n",
        "            # nn.MaxPool2d(kernel_size=3, stride=2, padding=0) #out = 253x253\n",
        "        )\n",
        "\n",
        "        self.block2 = ResNetBlock(32, nn.SiLU, 64)      #out = 127x127\n",
        "        self.block3 = ResNetBlock(64, nn.SiLU, 128)     #out = 64x64\n",
        "        self.block4 = ResNetBlock(128, nn.SiLU, 256)    #out = 32x32\n",
        "        self.block5 = ResNetBlock(256, nn.SiLU, 256)    #out = 16x16\n",
        "\n",
        "        self.pool = nn.MaxPool2d(kernel_size=2, stride=2, padding=0)  #out = 8x8\n",
        "        # self.pool = nn.AdaptiveAvgPool2d((4,4))\n",
        "        self.flattened_size = 256 * 8 * 8\n",
        "\n",
        "        self.featureExtractionBlock = nn.Sequential(\n",
        "            self.block1, \n",
        "            self.block2, \n",
        "            self.block3, \n",
        "            self.block4, \n",
        "            self.block5\n",
        "        )\n",
        "\n",
        "        self.regressionBlock = nn.Sequential(\n",
        "            nn.Dropout(0.3),\n",
        "            nn.Linear(self.flattened_size, 1024),\n",
        "            nn.Dropout(0.2),\n",
        "            nn.SiLU(inplace=True),\n",
        "            nn.Linear(1024, 5 if mode == 'train' else 1000),\n",
        "        )\n",
        "        # self.classification = nn.SoftMax()\n",
        "\n",
        "        self.classificationBlock = nn.Sequential(\n",
        "            nn.Linear(self.flattened_size, 1024),\n",
        "            nn.ReLU(),\n",
        "            nn.Linear(1024, 10),\n",
        "        )\n",
        "\n",
        "    def forward(self, x):\n",
        "        x = self.featureExtractionBlock(x)\n",
        "        x = self.pool(x)\n",
        "        x = x.view(-1, self.flattened_size)\n",
        "        if self.applyFC:\n",
        "            grasp = self.regressionBlock(x)\n",
        "            classification = self.classificationBlock(x)\n",
        "            return (grasp, classification)\n",
        "        return x"
      ]
    },
    {
      "cell_type": "markdown",
      "metadata": {},
      "source": [
        "### De-Convolution Network"
      ]
    },
    {
      "cell_type": "code",
      "execution_count": 23,
      "metadata": {},
      "outputs": [],
      "source": [
        "class DeConvResNet(nn.Module):\n",
        "    def __init__(self, dropout=0.3):\n",
        "        super(DeConvResNet, self).__init__()\n",
        "\n",
        "        self.block1 = nn.Sequential(\n",
        "            nn.Conv2d(3, 16, kernel_size=3, stride=2, padding=0), #out = 511x511\n",
        "            nn.SiLU(inplace=True),\n",
        "            nn.BatchNorm2d(16),\n",
        "            nn.Conv2d(16, 32, kernel_size=3, stride=1, padding=0), #out = 509x509\n",
        "            nn.SiLU(inplace=True),\n",
        "            nn.BatchNorm2d(32),\n",
        "            nn.Conv2d(32, 32, kernel_size=3, stride=1, padding=0), #out = 507x507\n",
        "            nn.SiLU(inplace=True),\n",
        "            nn.BatchNorm2d(32),\n",
        "            nn.Conv2d(32, 32, kernel_size=3, stride=2, padding=0) #out = 253x253\n",
        "            # nn.MaxPool2d(kernel_size=3, stride=2, padding=0) #out = 253x253\n",
        "        )\n",
        "        self.featureExtractionBlock = nn.Sequential(\n",
        "            ResNetBlock(32, nn.SiLU, 64),      #out = 127x127\n",
        "            ResNetBlock(64, nn.SiLU, 128),      #out = 64x64\n",
        "            ResNetBlock(128, nn.SiLU, 128),     #out = 32x32\n",
        "            ResNetBlock(128, nn.SiLU),    #out = 32x32\n",
        "            ResNetBlock(128, nn.SiLU, 128),    #out = 16x16\n",
        "        )\n",
        "\n",
        "        self.convTrasposeBlock = nn.Sequential(\n",
        "            nn.ConvTranspose2d(128, 64, kernel_size=4, stride=2, padding=1, output_padding=1),\n",
        "            nn.BatchNorm2d(64),\n",
        "            nn.SELU(inplace=True),\n",
        "            nn.ConvTranspose2d(64, 32, kernel_size=4, stride=2, padding=2, output_padding=1),\n",
        "            nn.BatchNorm2d(32),\n",
        "            nn.SELU(inplace=True),\n",
        "            nn.ConvTranspose2d(32, 32, kernel_size=9, stride=1, padding=4)  #out = 64x64\n",
        "        )\n",
        "        self.flattened_size = 64*64\n",
        "        self.pos_conv = nn.Conv2d(32, 2, kernel_size=2)\n",
        "        self.angle_conv = nn.Conv2d(32, 1, kernel_size=2)\n",
        "        self.width_conv = nn.Conv2d(32, 1, kernel_size=2)\n",
        "        self.hight_conv = nn.Conv2d(32, 1, kernel_size=2)\n",
        "\n",
        "        self.pos_output = nn.Sequential(nn.Linear(self.flattened_size*2, 512), nn.Linear(512, 2))\n",
        "        self.angle_output = nn.Sequential(nn.Linear(self.flattened_size, 512), nn.Linear(512, 1))\n",
        "        self.width_output = nn.Sequential(nn.Linear(self.flattened_size, 512), nn.Linear(512, 1))\n",
        "        self.hight_output = nn.Sequential(nn.Linear(self.flattened_size, 512), nn.Linear(512, 1))\n",
        "\n",
        "        self.dropout = nn.Dropout(dropout)\n",
        "\n",
        "        for m in self.modules():\n",
        "            if isinstance(m, (nn.Conv2d, nn.ConvTranspose2d)):\n",
        "                nn.init.xavier_uniform_(m.weight, gain=1)\n",
        "\n",
        "    def forward(self, x):\n",
        "        x = self.block1(x)\n",
        "        x = self.featureExtractionBlock(x)\n",
        "        x = self.convTrasposeBlock(x)\n",
        "        pos_output = self.pos_output(self.pos_conv(self.dropout(x)).view(-1, self.flattened_size*2))\n",
        "        angle_output = self.angle_output(self.angle_conv(self.dropout(x)).view(-1, self.flattened_size)).flatten()\n",
        "        width_output = self.width_output(self.width_conv(self.dropout(x)).view(-1, self.flattened_size)).flatten()\n",
        "        hight_output = self.hight_output(self.hight_conv(self.dropout(x)).view(-1, self.flattened_size)).flatten()\n",
        "        return pos_output, angle_output, width_output, hight_output"
      ]
    },
    {
      "cell_type": "markdown",
      "metadata": {
        "id": "gK_GOmgDi7k5"
      },
      "source": [
        "### Depth ResNet"
      ]
    },
    {
      "cell_type": "code",
      "execution_count": 24,
      "metadata": {
        "id": "dHU1_68ki7k5"
      },
      "outputs": [],
      "source": [
        "class DepthResNet(nn.Module):\n",
        "    def __init__(self, mode='train'):\n",
        "        super(DepthResNet, self).__init__()\n",
        "        self.rgb_side = DeepGraspResNet(applyFC=False)\n",
        "\n",
        "        # self.classificationMode = classificationMode\n",
        "        #in = 1024 x 1024\n",
        "        self.block1 = nn.Sequential(\n",
        "            nn.Conv2d(1, 16, kernel_size=3, stride=2, padding=0), #out = 511x511\n",
        "            nn.SiLU(inplace=True),\n",
        "            nn.BatchNorm2d(16),\n",
        "            # nn.Dropout(0.3),\n",
        "            nn.Conv2d(16, 32, kernel_size=3, stride=1, padding=0), #out = 509x509\n",
        "            nn.SiLU(inplace=True),\n",
        "            nn.BatchNorm2d(32),\n",
        "            # nn.Dropout(0.3),\n",
        "            nn.Conv2d(32, 32, kernel_size=3, stride=1, padding=0), #out = 507x507\n",
        "            nn.SiLU(inplace=True),\n",
        "            nn.BatchNorm2d(32),\n",
        "            nn.Conv2d(32, 32, kernel_size=3, stride=2, padding=0) #out = 253x253\n",
        "            # nn.MaxPool2d(kernel_size=3, stride=2, padding=0) #out = 253x253\n",
        "        )\n",
        " \n",
        "        self.block2 = ResNetBlock(32, nn.SiLU, 64)      #out = 127x127\n",
        "        self.block3 = ResNetBlock(64, nn.SiLU, 128)     #out = 64x64\n",
        "        self.block4 = ResNetBlock(128, nn.SiLU, 256)    #out = 32x32\n",
        "        self.block5 = ResNetBlock(256, nn.SiLU, 256)    #out = 16x16\n",
        " \n",
        "        self.pool = nn.MaxPool2d(kernel_size=2, stride=2, padding=0)  #out = 8x8\n",
        "        # self.pool = nn.AdaptiveAvgPool2d((4,4))\n",
        "        self.flattened_size = 256 * 8 * 8\n",
        " \n",
        "        self.featureExtractionBlock = nn.Sequential(\n",
        "            self.block1, \n",
        "            self.block2, \n",
        "            self.block3, \n",
        "            self.block4, \n",
        "            self.block5\n",
        "        )\n",
        " \n",
        "        self.regressionBlock = nn.Sequential(\n",
        "            nn.Dropout(0.3),\n",
        "            nn.Linear(self.flattened_size*2, 1024),\n",
        "            nn.Dropout(0.2),\n",
        "            nn.SiLU(inplace=True),\n",
        "            nn.Linear(1024, 5 if mode == 'train' else 1000),\n",
        "        )\n",
        "        # self.classification = nn.SoftMax()\n",
        " \n",
        "        self.classificationBlock = nn.Sequential(\n",
        "            nn.Linear(self.flattened_size*2, 1024),\n",
        "            nn.ReLU(),\n",
        "            nn.Linear(1024, 10),\n",
        "        )\n",
        " \n",
        "    def forward(self, rgb, x):\n",
        "      rgb_output = self.rgb_side(rgb)\n",
        "      x = self.featureExtractionBlock(x)\n",
        "      x = self.pool(x)\n",
        "      x = x.view(-1, self.flattened_size)\n",
        "      x = torch.cat((rgb_output, x), 1)\n",
        "      grasp = self.regressionBlock(x)\n",
        "      classification = self.classificationBlock(x)\n",
        "      return (grasp, classification)"
      ]
    },
    {
      "cell_type": "markdown",
      "metadata": {
        "id": "30UmoTOCi7k6"
      },
      "source": [
        "### Train Networks"
      ]
    },
    {
      "cell_type": "code",
      "execution_count": 25,
      "metadata": {
        "colab": {
          "base_uri": "https://localhost:8080/",
          "height": 1000,
          "referenced_widgets": [
            "d82d3d8376a14e72b42d18bfe17ed420",
            "974a59a6d2f64c09b79f5cd37ff203e6",
            "c6dc91bd85d54f04b970714a891c5aeb",
            "1caa3fb428f94c089c07a6153ccc5e16",
            "58c433a05f7946df931ad1f45efa57cd",
            "b555838a227a49c5b81e4944bbd1e074",
            "e2bf478ef20d49ae917891cdb248938d",
            "006d35fb96fe404aa3f499d9b21d1893",
            "7a22ae02f3d644acb609dd89100cb311",
            "2d2dd1b84817417cb90ea643677502f6",
            "bfedb85abf004b44971b3568a9e9c676",
            "b2798b6399d74197a09d19d284af47ec",
            "593ff30c3a6e4984a165e36127145eeb",
            "f6d74c92d30a4f8ebe709926521af7f7",
            "3db5853dbcc24ddba92979b86e073d1d",
            "261a03197ab0438185781a576c6a2eea",
            "aeed2d908cf8490a9e6788fba506cd5c",
            "a9c5d083714d455a9d6812175d680f58",
            "48f9510cbeb6439da5f074ac2edd6d58",
            "433d621e6ed7412da540db98bf019ee7",
            "4697882f236f442fa9b46158cd10af60",
            "81aed58865ed442994f71f8f683caded"
          ]
        },
        "id": "2TTKm5biOKx9",
        "outputId": "42c9bfd6-1d6a-44f9-a1d4-807492860c5d"
      },
      "outputs": [
        {
          "name": "stdout",
          "output_type": "stream",
          "text": [
            "batch size: 16\n",
            "n epochs: 30\n",
            "learning rate: 0.00103\n",
            " ====================\n"
          ]
        },
        {
          "data": {
            "application/vnd.jupyter.widget-view+json": {
              "model_id": "87300f1afafe4f2fbeb3b1fc889fbdc2",
              "version_major": 2,
              "version_minor": 0
            },
            "text/plain": [
              "  0%|          | 0/11 [00:00<?, ?batch/s]"
            ]
          },
          "metadata": {},
          "output_type": "display_data"
        },
        {
          "data": {
            "application/vnd.jupyter.widget-view+json": {
              "model_id": "23a05748946e417f8952eafd4b6561f8",
              "version_major": 2,
              "version_minor": 0
            },
            "text/plain": [
              "  0%|          | 0/11 [00:00<?, ?batch/s]"
            ]
          },
          "metadata": {},
          "output_type": "display_data"
        },
        {
          "data": {
            "application/vnd.jupyter.widget-view+json": {
              "model_id": "1e53eb84bd04416e90dc584c180599be",
              "version_major": 2,
              "version_minor": 0
            },
            "text/plain": [
              "  0%|          | 0/11 [00:00<?, ?batch/s]"
            ]
          },
          "metadata": {},
          "output_type": "display_data"
        },
        {
          "data": {
            "application/vnd.jupyter.widget-view+json": {
              "model_id": "805f90fb45d0495fa84dae51e6c93a2a",
              "version_major": 2,
              "version_minor": 0
            },
            "text/plain": [
              "  0%|          | 0/11 [00:00<?, ?batch/s]"
            ]
          },
          "metadata": {},
          "output_type": "display_data"
        },
        {
          "data": {
            "application/vnd.jupyter.widget-view+json": {
              "model_id": "cd482f36c6ec4ca5a47c8b03e592aa84",
              "version_major": 2,
              "version_minor": 0
            },
            "text/plain": [
              "  0%|          | 0/11 [00:00<?, ?batch/s]"
            ]
          },
          "metadata": {},
          "output_type": "display_data"
        },
        {
          "data": {
            "application/vnd.jupyter.widget-view+json": {
              "model_id": "a30748f70a6046dabeb1c1342e48e980",
              "version_major": 2,
              "version_minor": 0
            },
            "text/plain": [
              "  0%|          | 0/11 [00:00<?, ?batch/s]"
            ]
          },
          "metadata": {},
          "output_type": "display_data"
        },
        {
          "data": {
            "application/vnd.jupyter.widget-view+json": {
              "model_id": "da2edeaefb594176a286be22a2fa3422",
              "version_major": 2,
              "version_minor": 0
            },
            "text/plain": [
              "  0%|          | 0/11 [00:00<?, ?batch/s]"
            ]
          },
          "metadata": {},
          "output_type": "display_data"
        },
        {
          "data": {
            "application/vnd.jupyter.widget-view+json": {
              "model_id": "1245997ee8384d78b8bf684c9c261486",
              "version_major": 2,
              "version_minor": 0
            },
            "text/plain": [
              "  0%|          | 0/11 [00:00<?, ?batch/s]"
            ]
          },
          "metadata": {},
          "output_type": "display_data"
        },
        {
          "data": {
            "application/vnd.jupyter.widget-view+json": {
              "model_id": "f447d3dad0684c158e109be151664248",
              "version_major": 2,
              "version_minor": 0
            },
            "text/plain": [
              "  0%|          | 0/11 [00:00<?, ?batch/s]"
            ]
          },
          "metadata": {},
          "output_type": "display_data"
        },
        {
          "data": {
            "application/vnd.jupyter.widget-view+json": {
              "model_id": "5be5f9de848445c1b346cba07eec92c4",
              "version_major": 2,
              "version_minor": 0
            },
            "text/plain": [
              "  0%|          | 0/11 [00:00<?, ?batch/s]"
            ]
          },
          "metadata": {},
          "output_type": "display_data"
        },
        {
          "data": {
            "application/vnd.jupyter.widget-view+json": {
              "model_id": "3514a91359cb467d99effce68a5c7dbf",
              "version_major": 2,
              "version_minor": 0
            },
            "text/plain": [
              "  0%|          | 0/11 [00:00<?, ?batch/s]"
            ]
          },
          "metadata": {},
          "output_type": "display_data"
        },
        {
          "data": {
            "application/vnd.jupyter.widget-view+json": {
              "model_id": "3acdbb2d83454b9ca5520c5a32e48ad6",
              "version_major": 2,
              "version_minor": 0
            },
            "text/plain": [
              "  0%|          | 0/11 [00:00<?, ?batch/s]"
            ]
          },
          "metadata": {},
          "output_type": "display_data"
        },
        {
          "data": {
            "application/vnd.jupyter.widget-view+json": {
              "model_id": "c73d0944713d49ad8c65722d68f48bb8",
              "version_major": 2,
              "version_minor": 0
            },
            "text/plain": [
              "  0%|          | 0/11 [00:00<?, ?batch/s]"
            ]
          },
          "metadata": {},
          "output_type": "display_data"
        },
        {
          "data": {
            "application/vnd.jupyter.widget-view+json": {
              "model_id": "40c64af5f7ca4d51bb2605a430278b12",
              "version_major": 2,
              "version_minor": 0
            },
            "text/plain": [
              "  0%|          | 0/11 [00:00<?, ?batch/s]"
            ]
          },
          "metadata": {},
          "output_type": "display_data"
        },
        {
          "data": {
            "application/vnd.jupyter.widget-view+json": {
              "model_id": "29f7b562143348018e5992939ab71af5",
              "version_major": 2,
              "version_minor": 0
            },
            "text/plain": [
              "  0%|          | 0/11 [00:00<?, ?batch/s]"
            ]
          },
          "metadata": {},
          "output_type": "display_data"
        },
        {
          "data": {
            "application/vnd.jupyter.widget-view+json": {
              "model_id": "002cf64c4fae475393b75386e2c0d459",
              "version_major": 2,
              "version_minor": 0
            },
            "text/plain": [
              "  0%|          | 0/11 [00:00<?, ?batch/s]"
            ]
          },
          "metadata": {},
          "output_type": "display_data"
        },
        {
          "data": {
            "application/vnd.jupyter.widget-view+json": {
              "model_id": "d5429a4a2e4a4567a9791b0eb40e9493",
              "version_major": 2,
              "version_minor": 0
            },
            "text/plain": [
              "  0%|          | 0/11 [00:00<?, ?batch/s]"
            ]
          },
          "metadata": {},
          "output_type": "display_data"
        },
        {
          "data": {
            "application/vnd.jupyter.widget-view+json": {
              "model_id": "91f085713b614363b03d10e625763713",
              "version_major": 2,
              "version_minor": 0
            },
            "text/plain": [
              "  0%|          | 0/11 [00:00<?, ?batch/s]"
            ]
          },
          "metadata": {},
          "output_type": "display_data"
        },
        {
          "data": {
            "application/vnd.jupyter.widget-view+json": {
              "model_id": "4dd095b1d50e4b5885cad6c32601f043",
              "version_major": 2,
              "version_minor": 0
            },
            "text/plain": [
              "  0%|          | 0/11 [00:00<?, ?batch/s]"
            ]
          },
          "metadata": {},
          "output_type": "display_data"
        },
        {
          "data": {
            "application/vnd.jupyter.widget-view+json": {
              "model_id": "88b252de409d4a10b29aded8d71197dc",
              "version_major": 2,
              "version_minor": 0
            },
            "text/plain": [
              "  0%|          | 0/11 [00:00<?, ?batch/s]"
            ]
          },
          "metadata": {},
          "output_type": "display_data"
        },
        {
          "data": {
            "application/vnd.jupyter.widget-view+json": {
              "model_id": "8abfd53da7bc414c91b5472463a19864",
              "version_major": 2,
              "version_minor": 0
            },
            "text/plain": [
              "  0%|          | 0/11 [00:00<?, ?batch/s]"
            ]
          },
          "metadata": {},
          "output_type": "display_data"
        },
        {
          "data": {
            "application/vnd.jupyter.widget-view+json": {
              "model_id": "538e70b6e3e44ec09c4b47a815766863",
              "version_major": 2,
              "version_minor": 0
            },
            "text/plain": [
              "  0%|          | 0/11 [00:00<?, ?batch/s]"
            ]
          },
          "metadata": {},
          "output_type": "display_data"
        },
        {
          "data": {
            "application/vnd.jupyter.widget-view+json": {
              "model_id": "1c64dec3b62e40188ab291881e3f94a0",
              "version_major": 2,
              "version_minor": 0
            },
            "text/plain": [
              "  0%|          | 0/11 [00:00<?, ?batch/s]"
            ]
          },
          "metadata": {},
          "output_type": "display_data"
        },
        {
          "data": {
            "application/vnd.jupyter.widget-view+json": {
              "model_id": "481e1a8a311c4f0c8580a498560c3d19",
              "version_major": 2,
              "version_minor": 0
            },
            "text/plain": [
              "  0%|          | 0/11 [00:00<?, ?batch/s]"
            ]
          },
          "metadata": {},
          "output_type": "display_data"
        },
        {
          "data": {
            "application/vnd.jupyter.widget-view+json": {
              "model_id": "98e82040659c4bffb38ec231c83557d1",
              "version_major": 2,
              "version_minor": 0
            },
            "text/plain": [
              "  0%|          | 0/11 [00:00<?, ?batch/s]"
            ]
          },
          "metadata": {},
          "output_type": "display_data"
        },
        {
          "data": {
            "application/vnd.jupyter.widget-view+json": {
              "model_id": "11d1868072a14a378cdb2ee6901929d7",
              "version_major": 2,
              "version_minor": 0
            },
            "text/plain": [
              "  0%|          | 0/11 [00:00<?, ?batch/s]"
            ]
          },
          "metadata": {},
          "output_type": "display_data"
        },
        {
          "data": {
            "application/vnd.jupyter.widget-view+json": {
              "model_id": "7c66585048b942fd849a480fedf267c1",
              "version_major": 2,
              "version_minor": 0
            },
            "text/plain": [
              "  0%|          | 0/11 [00:00<?, ?batch/s]"
            ]
          },
          "metadata": {},
          "output_type": "display_data"
        },
        {
          "data": {
            "application/vnd.jupyter.widget-view+json": {
              "model_id": "7c78ac5858464f5fa2f679f59e89496c",
              "version_major": 2,
              "version_minor": 0
            },
            "text/plain": [
              "  0%|          | 0/11 [00:00<?, ?batch/s]"
            ]
          },
          "metadata": {},
          "output_type": "display_data"
        },
        {
          "data": {
            "application/vnd.jupyter.widget-view+json": {
              "model_id": "5d99e182b6f74da493d84821b94cc805",
              "version_major": 2,
              "version_minor": 0
            },
            "text/plain": [
              "  0%|          | 0/11 [00:00<?, ?batch/s]"
            ]
          },
          "metadata": {},
          "output_type": "display_data"
        },
        {
          "data": {
            "application/vnd.jupyter.widget-view+json": {
              "model_id": "2da24c76d1534f0f9afe8bec77eca1f5",
              "version_major": 2,
              "version_minor": 0
            },
            "text/plain": [
              "  0%|          | 0/11 [00:00<?, ?batch/s]"
            ]
          },
          "metadata": {},
          "output_type": "display_data"
        }
      ],
      "source": [
        "network = 'DeepResNet' # choices are ('DeepResNet', 'Conv', 'PreTrainDeepResNet' or 'depthResNet')\n",
        "\n",
        "torch.cuda.empty_cache()\n",
        "\n",
        "if network == 'DeepResNet':\n",
        "  BATCH_SIZE = 16\n",
        "  EPOCHS = 30\n",
        "  LEARNING_RATE = 0.00103\n",
        "  nnet = DeepGraspResNet()\n",
        "  train_loss, train_acc = train(nnet, BATCH_SIZE, EPOCHS, LEARNING_RATE, usePretrainedBlock = True)\n",
        "elif network == 'PreTrainDeepResNet':\n",
        "  resize = (1024, 1024)\n",
        "  EPOCHS = 10\n",
        "  BATCH_SIZE = 16\n",
        "  LEARNING_RATE = 0.01\n",
        "  nnet = DeepGraspResNet(mode='pretrain')\n",
        "  train_loss, train_acc = pretrain(nnet, BATCH_SIZE, EPOCHS, LEARNING_RATE, resize=resize)\n",
        "elif network == 'Conv':\n",
        "  BATCH_SIZE = 10\n",
        "  EPOCHS = 10\n",
        "  LEARNING_RATE = 0.001\n",
        "  nnet = ConvNN()\n",
        "  train_loss, train_acc = train_no_classification(nnet, BATCH_SIZE, EPOCHS, LEARNING_RATE)\n",
        "elif network == 'depthResNet':\n",
        "  BATCH_SIZE = 10\n",
        "  EPOCHS = 10\n",
        "  LEARNING_RATE = 0.001\n",
        "  nnet = DepthResNet()\n",
        "  train_loss, train_acc = train_depth(nnet, BATCH_SIZE, EPOCHS, LEARNING_RATE)\n",
        "elif network == 'DeConv':\n",
        "  BATCH_SIZE = 16\n",
        "  EPOCHS = 10\n",
        "  LEARNING_RATE = 0.001\n",
        "  nnet = DeConvResNet()\n",
        "  train_loss, train_acc = multiheadTrain(nnet, BATCH_SIZE, EPOCHS, LEARNING_RATE)\n"
      ]
    },
    {
      "cell_type": "markdown",
      "metadata": {},
      "source": [
        "### test networks"
      ]
    },
    {
      "cell_type": "code",
      "execution_count": 26,
      "metadata": {},
      "outputs": [
        {
          "data": {
            "text/plain": [
              "tensor(0.2142)"
            ]
          },
          "execution_count": 26,
          "metadata": {},
          "output_type": "execute_result"
        }
      ],
      "source": [
        "models = {\"DeepResNet\":DeepGraspResNet, \"Conv\":ConvNN, \"depthResNet\":DepthResNet}\n",
        "if network == 'DeepResNet':\n",
        "    net = DeepGraspResNet()\n",
        "    result = test_2_head(net)\n",
        "elif network == 'Conv':\n",
        "    net = ConvNN()\n",
        "    result = test_conv(net)\n",
        "elif network == 'DeConv':\n",
        "    net = DeConvResNet()\n",
        "    result = test_multihead(net)\n",
        "print(\"ovreall result =\", result.item())"
      ]
    },
    {
      "cell_type": "markdown",
      "metadata": {
        "id": "trqqB3BCi7k7"
      },
      "source": [
        "### loss and accuracy plots"
      ]
    },
    {
      "cell_type": "code",
      "execution_count": null,
      "metadata": {
        "colab": {
          "base_uri": "https://localhost:8080/",
          "height": 803
        },
        "id": "SJI6erJmOKx-",
        "outputId": "72499f80-6b36-4f9e-b03e-f794f183c3cb"
      },
      "outputs": [
        {
          "data": {
            "image/png": "[encoded data removed]",
            "text/plain": [
              "<Figure size 576x432 with 1 Axes>"
            ]
          },
          "metadata": {
            "needs_background": "light"
          },
          "output_type": "display_data"
        },
        {
          "data": {
            "image/png": "[encoded data removed]",
            "text/plain": [
              "<Figure size 576x432 with 1 Axes>"
            ]
          },
          "metadata": {
            "needs_background": "light"
          },
          "output_type": "display_data"
        }
      ],
      "source": [
        "plot_epochs(train_loss)\n",
        "plot_epochs(train_acc, plotType=\"accuracy\")"
      ]
    },
    {
      "cell_type": "markdown",
      "metadata": {},
      "source": [
        "### Hyper-parameter tuning"
      ]
    },
    {
      "cell_type": "code",
      "execution_count": 24,
      "metadata": {
        "colab": {
          "base_uri": "https://localhost:8080/",
          "height": 446,
          "referenced_widgets": [
            "7ad91a947a094a30848f3af023ae1c35",
            "7bc033f08ac449b2a53615211c687ece",
            "10944c36eebf48ca9b45d491a2f504d6",
            "63cfcceb808b4541b4d38499beb1081b",
            "f55263799e8343708b5681979c6609d9",
            "37ad67cb154d431bb0d166c7ec039f41",
            "e7d1ae86ebc94e3d9355dd333dae4c81",
            "beffae2490e944d4a5e1ad66e02e1bff",
            "c342f9b709394e90a8e820d3d1c0abea",
            "fef7c51417a647f2a7001f4b6774030f",
            "ad35071974e94dfeac5218c0abed5a45"
          ]
        },
        "id": "oCOfNtAji7k6",
        "outputId": "e4ae1184-c06b-45b8-fa60-fde25175e563"
      },
      "outputs": [
        {
          "name": "stdout",
          "output_type": "stream",
          "text": [
            "batch size: 10\n",
            "n epochs: 2\n",
            "learning rate: 0.1\n",
            " ====================\n"
          ]
        },
        {
          "data": {
            "application/vnd.jupyter.widget-view+json": {
              "model_id": "7ad91a947a094a30848f3af023ae1c35",
              "version_major": 2,
              "version_minor": 0
            },
            "text/plain": [
              "  0%|          | 0/29 [00:00<?, ?batch/s]"
            ]
          },
          "metadata": {},
          "output_type": "display_data"
        },
        {
          "ename": "TypeError",
          "evalue": "ignored",
          "output_type": "error",
          "traceback": [
            "\u001b[0;31m---------------------------------------------------------------------------\u001b[0m",
            "\u001b[0;31mTypeError\u001b[0m                                 Traceback (most recent call last)",
            "\u001b[0;32m<ipython-input-24-1b7ef3a67428>\u001b[0m in \u001b[0;36m<module>\u001b[0;34m()\u001b[0m\n\u001b[1;32m      5\u001b[0m         \u001b[0mresults\u001b[0m\u001b[0;34m[\u001b[0m\u001b[0mlr\u001b[0m\u001b[0;34m]\u001b[0m \u001b[0;34m=\u001b[0m \u001b[0;34m(\u001b[0m\u001b[0mtrain_loss\u001b[0m\u001b[0;34m,\u001b[0m \u001b[0mtrain_acc\u001b[0m\u001b[0;34m)\u001b[0m\u001b[0;34m\u001b[0m\u001b[0;34m\u001b[0m\u001b[0m\n\u001b[1;32m      6\u001b[0m     \u001b[0;32mreturn\u001b[0m \u001b[0mresults\u001b[0m\u001b[0;34m\u001b[0m\u001b[0;34m\u001b[0m\u001b[0m\n\u001b[0;32m----> 7\u001b[0;31m \u001b[0mlrResults\u001b[0m \u001b[0;34m=\u001b[0m \u001b[0mlearning_rate_search\u001b[0m\u001b[0;34m(\u001b[0m\u001b[0;34m[\u001b[0m\u001b[0;36m0.1\u001b[0m\u001b[0;34m,\u001b[0m \u001b[0;36m0.01\u001b[0m\u001b[0;34m,\u001b[0m \u001b[0;36m0.001\u001b[0m\u001b[0;34m,\u001b[0m \u001b[0;36m0.0001\u001b[0m\u001b[0;34m,\u001b[0m \u001b[0;36m0.00001\u001b[0m\u001b[0;34m]\u001b[0m\u001b[0;34m)\u001b[0m\u001b[0;34m\u001b[0m\u001b[0;34m\u001b[0m\u001b[0m\n\u001b[0m",
            "\u001b[0;32m<ipython-input-24-1b7ef3a67428>\u001b[0m in \u001b[0;36mlearning_rate_search\u001b[0;34m(lrs)\u001b[0m\n\u001b[1;32m      2\u001b[0m     \u001b[0mresults\u001b[0m \u001b[0;34m=\u001b[0m \u001b[0;34m{\u001b[0m\u001b[0;34m}\u001b[0m\u001b[0;34m\u001b[0m\u001b[0;34m\u001b[0m\u001b[0m\n\u001b[1;32m      3\u001b[0m     \u001b[0;32mfor\u001b[0m \u001b[0mlr\u001b[0m \u001b[0;32min\u001b[0m \u001b[0mlrs\u001b[0m\u001b[0;34m:\u001b[0m\u001b[0;34m\u001b[0m\u001b[0;34m\u001b[0m\u001b[0m\n\u001b[0;32m----> 4\u001b[0;31m         \u001b[0mtrain_loss\u001b[0m\u001b[0;34m,\u001b[0m \u001b[0mtrain_acc\u001b[0m \u001b[0;34m=\u001b[0m \u001b[0mtrain\u001b[0m\u001b[0;34m(\u001b[0m\u001b[0mnnet\u001b[0m\u001b[0;34m,\u001b[0m \u001b[0mBATCH_SIZE\u001b[0m\u001b[0;34m,\u001b[0m \u001b[0mEPOCHS\u001b[0m\u001b[0;34m,\u001b[0m \u001b[0mlr\u001b[0m\u001b[0;34m)\u001b[0m\u001b[0;34m\u001b[0m\u001b[0;34m\u001b[0m\u001b[0m\n\u001b[0m\u001b[1;32m      5\u001b[0m         \u001b[0mresults\u001b[0m\u001b[0;34m[\u001b[0m\u001b[0mlr\u001b[0m\u001b[0;34m]\u001b[0m \u001b[0;34m=\u001b[0m \u001b[0;34m(\u001b[0m\u001b[0mtrain_loss\u001b[0m\u001b[0;34m,\u001b[0m \u001b[0mtrain_acc\u001b[0m\u001b[0;34m)\u001b[0m\u001b[0;34m\u001b[0m\u001b[0;34m\u001b[0m\u001b[0m\n\u001b[1;32m      6\u001b[0m     \u001b[0;32mreturn\u001b[0m \u001b[0mresults\u001b[0m\u001b[0;34m\u001b[0m\u001b[0;34m\u001b[0m\u001b[0m\n",
            "\u001b[0;32m<ipython-input-15-14118139b898>\u001b[0m in \u001b[0;36mtrain\u001b[0;34m(model, batch_size, n_epochs, learning_rate, resize, usePretrainedBlock)\u001b[0m\n\u001b[1;32m     22\u001b[0m \u001b[0;34m\u001b[0m\u001b[0m\n\u001b[1;32m     23\u001b[0m                 \u001b[0;31m# forward + backward + optimize\u001b[0m\u001b[0;34m\u001b[0m\u001b[0;34m\u001b[0m\u001b[0;34m\u001b[0m\u001b[0m\n\u001b[0;32m---> 24\u001b[0;31m                 \u001b[0mgrasp_outputs\u001b[0m\u001b[0;34m,\u001b[0m \u001b[0mclassification_outputs\u001b[0m \u001b[0;34m=\u001b[0m \u001b[0mmodel\u001b[0m\u001b[0;34m(\u001b[0m\u001b[0mrgb\u001b[0m\u001b[0;34m)\u001b[0m\u001b[0;34m\u001b[0m\u001b[0;34m\u001b[0m\u001b[0m\n\u001b[0m\u001b[1;32m     25\u001b[0m                 \u001b[0mgrasp_loss\u001b[0m \u001b[0;34m=\u001b[0m \u001b[0mlossGrasp\u001b[0m\u001b[0;34m(\u001b[0m\u001b[0mgrasp_outputs\u001b[0m\u001b[0;34m,\u001b[0m  \u001b[0mgrasp\u001b[0m\u001b[0;34m)\u001b[0m\u001b[0;34m\u001b[0m\u001b[0;34m\u001b[0m\u001b[0m\n\u001b[1;32m     26\u001b[0m                 \u001b[0mclassification_loss\u001b[0m \u001b[0;34m=\u001b[0m \u001b[0mlossClassification\u001b[0m\u001b[0;34m(\u001b[0m\u001b[0mclassification_outputs\u001b[0m\u001b[0;34m,\u001b[0m \u001b[0mlabel\u001b[0m\u001b[0;34m)\u001b[0m\u001b[0;34m\u001b[0m\u001b[0;34m\u001b[0m\u001b[0m\n",
            "\u001b[0;32m/usr/local/lib/python3.7/dist-packages/torch/nn/modules/module.py\u001b[0m in \u001b[0;36m_call_impl\u001b[0;34m(self, *input, **kwargs)\u001b[0m\n\u001b[1;32m   1100\u001b[0m         if not (self._backward_hooks or self._forward_hooks or self._forward_pre_hooks or _global_backward_hooks\n\u001b[1;32m   1101\u001b[0m                 or _global_forward_hooks or _global_forward_pre_hooks):\n\u001b[0;32m-> 1102\u001b[0;31m             \u001b[0;32mreturn\u001b[0m \u001b[0mforward_call\u001b[0m\u001b[0;34m(\u001b[0m\u001b[0;34m*\u001b[0m\u001b[0minput\u001b[0m\u001b[0;34m,\u001b[0m \u001b[0;34m**\u001b[0m\u001b[0mkwargs\u001b[0m\u001b[0;34m)\u001b[0m\u001b[0;34m\u001b[0m\u001b[0;34m\u001b[0m\u001b[0m\n\u001b[0m\u001b[1;32m   1103\u001b[0m         \u001b[0;31m# Do not call functions when jit is used\u001b[0m\u001b[0;34m\u001b[0m\u001b[0;34m\u001b[0m\u001b[0;34m\u001b[0m\u001b[0m\n\u001b[1;32m   1104\u001b[0m         \u001b[0mfull_backward_hooks\u001b[0m\u001b[0;34m,\u001b[0m \u001b[0mnon_full_backward_hooks\u001b[0m \u001b[0;34m=\u001b[0m \u001b[0;34m[\u001b[0m\u001b[0;34m]\u001b[0m\u001b[0;34m,\u001b[0m \u001b[0;34m[\u001b[0m\u001b[0;34m]\u001b[0m\u001b[0;34m\u001b[0m\u001b[0;34m\u001b[0m\u001b[0m\n",
            "\u001b[0;31mTypeError\u001b[0m: forward() missing 1 required positional argument: 'x'"
          ]
        }
      ],
      "source": [
        "def learning_rate_search(lrs):\n",
        "    results = {}\n",
        "    for lr in lrs:\n",
        "        train_loss, train_acc = train(nnet, BATCH_SIZE, EPOCHS, lr)\n",
        "        results[lr] = (train_loss, train_acc)\n",
        "    return results\n",
        "lrResults = learning_rate_search([0.1, 0.01, 0.001, 0.0001, 0.00001])"
      ]
    },
    {
      "cell_type": "code",
      "execution_count": null,
      "metadata": {},
      "outputs": [],
      "source": [
        "import optuna\n",
        "def optuna_objective(trial):\n",
        "    EPOCHS = 8\n",
        "    # dropOut=trial.suggest_uniform(\"dropout\", 0.1, 0.5)\n",
        "    # linearSize=trial.suggest_int(\"linear_layer_size\", 256, 8192)\n",
        "    # pool = trial.suggest_int(\"pool_num\", 1, 2)\n",
        "    # model = DeepGraspResNet(dropOut=dropOut, linearSize=linearSize, pool=pool)\n",
        "    model = DeepGraspResNet()\n",
        "    # optimizer_name = trial.suggest_categorical(\"optimizer\", [\"Adam\", \"RMSprop\", \"SGD\"])\n",
        "    lr = trial.suggest_loguniform(\"lr\", 1e-4, 5e-2)\n",
        "    # batchSize=trial.suggest_int(\"batch_size\", 8, 16)\n",
        "    # optimizer = getattr(optim, optimizer_name)(model.parameters(), lr=lr)\n",
        "    # usePreTrain = trial.suggest_int(\"pre_trainer?\", 1, 2)\n",
        "    pruned_trials = [t for t in study.trials if t.state == optuna.structs.TrialState.PRUNED]\n",
        "    pruned_trials = [t for t in study.trials if t.state == optuna.structs.TrialState.PRUNED]\n",
        "    complete_trials = [t for t in study.trials if t.state == optuna.structs.TrialState.COMPLETE]\n",
        "    print(\"Study statistics: \")\n",
        "    print(\"  Number of finished trials: \", len(study.trials))\n",
        "    print(\"  Number of pruned trials: \", len(pruned_trials))\n",
        "    print(\"  Number of complete trials: \", len(complete_trials))\n",
        "\n",
        "    print(\"Best trial:\")\n",
        "    trial = study.best_trial\n",
        "\n",
        "    print(\"  Value: \", trial.value)\n",
        "    print(\"  Params: \")\n",
        "    for key, value in trial.params.items():\n",
        "        print(\"    {}: {}\".format(key, value))\n",
        "# run_optuna()\n",
        "\n",
        "# result = {lr: 0.000103}"
      ]
    }
  ],
  "metadata": {
    "accelerator": "GPU",
    "colab": {
      "collapsed_sections": [],
      "name": "assignment1.ipynb",
      "provenance": []
    },
    "deepnote": {},
    "deepnote_execution_queue": [],
    "deepnote_notebook_id": "fd2d20f4-5301-458e-8e62-af75bc6e110a",
    "kernelspec": {
      "display_name": "Python (env)",
      "language": "python",
      "name": "myenv"
    },
    "language_info": {
      "codemirror_mode": {
        "name": "ipython",
        "version": 3
      },
      "file_extension": ".py",
      "mimetype": "text/x-python",
      "name": "python",
      "nbconvert_exporter": "python",
      "pygments_lexer": "ipython3",
      "version": "3.9.7"
    },
    "widgets": {
      "application/vnd.jupyter.widget-state+json": {
        "006d35fb96fe404aa3f499d9b21d1893": {
          "model_module": "@jupyter-widgets/base",
          "model_module_version": "1.2.0",
          "model_name": "LayoutModel",
          "state": {
            "_model_module": "@jupyter-widgets/base",
            "_model_module_version": "1.2.0",
            "_model_name": "LayoutModel",
            "_view_count": null,
            "_view_module": "@jupyter-widgets/base",
            "_view_module_version": "1.2.0",
            "_view_name": "LayoutView",
            "align_content": null,
            "align_items": null,
            "align_self": null,
            "border": null,
            "bottom": null,
            "display": null,
            "flex": null,
            "flex_flow": null,
            "grid_area": null,
            "grid_auto_columns": null,
            "grid_auto_flow": null,
            "grid_auto_rows": null,
            "grid_column": null,
            "grid_gap": null,
            "grid_row": null,
            "grid_template_areas": null,
            "grid_template_columns": null,
            "grid_template_rows": null,
            "height": null,
            "justify_content": null,
            "justify_items": null,
            "left": null,
            "margin": null,
            "max_height": null,
            "max_width": null,
            "min_height": null,
            "min_width": null,
            "object_fit": null,
            "object_position": null,
            "order": null,
            "overflow": null,
            "overflow_x": null,
            "overflow_y": null,
            "padding": null,
            "right": null,
            "top": null,
            "visibility": null,
            "width": null
          }
        },
        "10944c36eebf48ca9b45d491a2f504d6": {
          "model_module": "@jupyter-widgets/controls",
          "model_module_version": "1.5.0",
          "model_name": "FloatProgressModel",
          "state": {
            "_dom_classes": [],
            "_model_module": "@jupyter-widgets/controls",
            "_model_module_version": "1.5.0",
            "_model_name": "FloatProgressModel",
            "_view_count": null,
            "_view_module": "@jupyter-widgets/controls",
            "_view_module_version": "1.5.0",
            "_view_name": "ProgressView",
            "bar_style": "danger",
            "description": "",
            "description_tooltip": null,
            "layout": "IPY_MODEL_beffae2490e944d4a5e1ad66e02e1bff",
            "max": 29,
            "min": 0,
            "orientation": "horizontal",
            "style": "IPY_MODEL_c342f9b709394e90a8e820d3d1c0abea",
            "value": 0
          }
        },
        "1caa3fb428f94c089c07a6153ccc5e16": {
          "model_module": "@jupyter-widgets/controls",
          "model_module_version": "1.5.0",
          "model_name": "HTMLModel",
          "state": {
            "_dom_classes": [],
            "_model_module": "@jupyter-widgets/controls",
            "_model_module_version": "1.5.0",
            "_model_name": "HTMLModel",
            "_view_count": null,
            "_view_module": "@jupyter-widgets/controls",
            "_view_module_version": "1.5.0",
            "_view_name": "HTMLView",
            "description": "",
            "description_tooltip": null,
            "layout": "IPY_MODEL_2d2dd1b84817417cb90ea643677502f6",
            "placeholder": "​",
            "style": "IPY_MODEL_bfedb85abf004b44971b3568a9e9c676",
            "value": " 29/29 [02:39&lt;00:00,  4.90s/batch]"
          }
        },
        "261a03197ab0438185781a576c6a2eea": {
          "model_module": "@jupyter-widgets/base",
          "model_module_version": "1.2.0",
          "model_name": "LayoutModel",
          "state": {
            "_model_module": "@jupyter-widgets/base",
            "_model_module_version": "1.2.0",
            "_model_name": "LayoutModel",
            "_view_count": null,
            "_view_module": "@jupyter-widgets/base",
            "_view_module_version": "1.2.0",
            "_view_name": "LayoutView",
            "align_content": null,
            "align_items": null,
            "align_self": null,
            "border": null,
            "bottom": null,
            "display": null,
            "flex": null,
            "flex_flow": null,
            "grid_area": null,
            "grid_auto_columns": null,
            "grid_auto_flow": null,
            "grid_auto_rows": null,
            "grid_column": null,
            "grid_gap": null,
            "grid_row": null,
            "grid_template_areas": null,
            "grid_template_columns": null,
            "grid_template_rows": null,
            "height": null,
            "justify_content": null,
            "justify_items": null,
            "left": null,
            "margin": null,
            "max_height": null,
            "max_width": null,
            "min_height": null,
            "min_width": null,
            "object_fit": null,
            "object_position": null,
            "order": null,
            "overflow": null,
            "overflow_x": null,
            "overflow_y": null,
            "padding": null,
            "right": null,
            "top": null,
            "visibility": null,
            "width": null
          }
        },
        "2d2dd1b84817417cb90ea643677502f6": {
          "model_module": "@jupyter-widgets/base",
          "model_module_version": "1.2.0",
          "model_name": "LayoutModel",
          "state": {
            "_model_module": "@jupyter-widgets/base",
            "_model_module_version": "1.2.0",
            "_model_name": "LayoutModel",
            "_view_count": null,
            "_view_module": "@jupyter-widgets/base",
            "_view_module_version": "1.2.0",
            "_view_name": "LayoutView",
            "align_content": null,
            "align_items": null,
            "align_self": null,
            "border": null,
            "bottom": null,
            "display": null,
            "flex": null,
            "flex_flow": null,
            "grid_area": null,
            "grid_auto_columns": null,
            "grid_auto_flow": null,
            "grid_auto_rows": null,
            "grid_column": null,
            "grid_gap": null,
            "grid_row": null,
            "grid_template_areas": null,
            "grid_template_columns": null,
            "grid_template_rows": null,
            "height": null,
            "justify_content": null,
            "justify_items": null,
            "left": null,
            "margin": null,
            "max_height": null,
            "max_width": null,
            "min_height": null,
            "min_width": null,
            "object_fit": null,
            "object_position": null,
            "order": null,
            "overflow": null,
            "overflow_x": null,
            "overflow_y": null,
            "padding": null,
            "right": null,
            "top": null,
            "visibility": null,
            "width": null
          }
        },
        "37ad67cb154d431bb0d166c7ec039f41": {
          "model_module": "@jupyter-widgets/base",
          "model_module_version": "1.2.0",
          "model_name": "LayoutModel",
          "state": {
            "_model_module": "@jupyter-widgets/base",
            "_model_module_version": "1.2.0",
            "_model_name": "LayoutModel",
            "_view_count": null,
            "_view_module": "@jupyter-widgets/base",
            "_view_module_version": "1.2.0",
            "_view_name": "LayoutView",
            "align_content": null,
            "align_items": null,
            "align_self": null,
            "border": null,
            "bottom": null,
            "display": null,
            "flex": null,
            "flex_flow": null,
            "grid_area": null,
            "grid_auto_columns": null,
            "grid_auto_flow": null,
            "grid_auto_rows": null,
            "grid_column": null,
            "grid_gap": null,
            "grid_row": null,
            "grid_template_areas": null,
            "grid_template_columns": null,
            "grid_template_rows": null,
            "height": null,
            "justify_content": null,
            "justify_items": null,
            "left": null,
            "margin": null,
            "max_height": null,
            "max_width": null,
            "min_height": null,
            "min_width": null,
            "object_fit": null,
            "object_position": null,
            "order": null,
            "overflow": null,
            "overflow_x": null,
            "overflow_y": null,
            "padding": null,
            "right": null,
            "top": null,
            "visibility": null,
            "width": null
          }
        },
        "3db5853dbcc24ddba92979b86e073d1d": {
          "model_module": "@jupyter-widgets/controls",
          "model_module_version": "1.5.0",
          "model_name": "HTMLModel",
          "state": {
            "_dom_classes": [],
            "_model_module": "@jupyter-widgets/controls",
            "_model_module_version": "1.5.0",
            "_model_name": "HTMLModel",
            "_view_count": null,
            "_view_module": "@jupyter-widgets/controls",
            "_view_module_version": "1.5.0",
            "_view_name": "HTMLView",
            "description": "",
            "description_tooltip": null,
            "layout": "IPY_MODEL_4697882f236f442fa9b46158cd10af60",
            "placeholder": "​",
            "style": "IPY_MODEL_81aed58865ed442994f71f8f683caded",
            "value": " 29/29 [02:23&lt;00:00,  4.86s/batch]"
          }
        },
        "433d621e6ed7412da540db98bf019ee7": {
          "model_module": "@jupyter-widgets/controls",
          "model_module_version": "1.5.0",
          "model_name": "ProgressStyleModel",
          "state": {
            "_model_module": "@jupyter-widgets/controls",
            "_model_module_version": "1.5.0",
            "_model_name": "ProgressStyleModel",
            "_view_count": null,
            "_view_module": "@jupyter-widgets/base",
            "_view_module_version": "1.2.0",
            "_view_name": "StyleView",
            "bar_color": null,
            "description_width": ""
          }
        },
        "4697882f236f442fa9b46158cd10af60": {
          "model_module": "@jupyter-widgets/base",
          "model_module_version": "1.2.0",
          "model_name": "LayoutModel",
          "state": {
            "_model_module": "@jupyter-widgets/base",
            "_model_module_version": "1.2.0",
            "_model_name": "LayoutModel",
            "_view_count": null,
            "_view_module": "@jupyter-widgets/base",
            "_view_module_version": "1.2.0",
            "_view_name": "LayoutView",
            "align_content": null,
            "align_items": null,
            "align_self": null,
            "border": null,
            "bottom": null,
            "display": null,
            "flex": null,
            "flex_flow": null,
            "grid_area": null,
            "grid_auto_columns": null,
            "grid_auto_flow": null,
            "grid_auto_rows": null,
            "grid_column": null,
            "grid_gap": null,
            "grid_row": null,
            "grid_template_areas": null,
            "grid_template_columns": null,
            "grid_template_rows": null,
            "height": null,
            "justify_content": null,
            "justify_items": null,
            "left": null,
            "margin": null,
            "max_height": null,
            "max_width": null,
            "min_height": null,
            "min_width": null,
            "object_fit": null,
            "object_position": null,
            "order": null,
            "overflow": null,
            "overflow_x": null,
            "overflow_y": null,
            "padding": null,
            "right": null,
            "top": null,
            "visibility": null,
            "width": null
          }
        },
        "48f9510cbeb6439da5f074ac2edd6d58": {
          "model_module": "@jupyter-widgets/base",
          "model_module_version": "1.2.0",
          "model_name": "LayoutModel",
          "state": {
            "_model_module": "@jupyter-widgets/base",
            "_model_module_version": "1.2.0",
            "_model_name": "LayoutModel",
            "_view_count": null,
            "_view_module": "@jupyter-widgets/base",
            "_view_module_version": "1.2.0",
            "_view_name": "LayoutView",
            "align_content": null,
            "align_items": null,
            "align_self": null,
            "border": null,
            "bottom": null,
            "display": null,
            "flex": null,
            "flex_flow": null,
            "grid_area": null,
            "grid_auto_columns": null,
            "grid_auto_flow": null,
            "grid_auto_rows": null,
            "grid_column": null,
            "grid_gap": null,
            "grid_row": null,
            "grid_template_areas": null,
            "grid_template_columns": null,
            "grid_template_rows": null,
            "height": null,
            "justify_content": null,
            "justify_items": null,
            "left": null,
            "margin": null,
            "max_height": null,
            "max_width": null,
            "min_height": null,
            "min_width": null,
            "object_fit": null,
            "object_position": null,
            "order": null,
            "overflow": null,
            "overflow_x": null,
            "overflow_y": null,
            "padding": null,
            "right": null,
            "top": null,
            "visibility": null,
            "width": null
          }
        },
        "58c433a05f7946df931ad1f45efa57cd": {
          "model_module": "@jupyter-widgets/base",
          "model_module_version": "1.2.0",
          "model_name": "LayoutModel",
          "state": {
            "_model_module": "@jupyter-widgets/base",
            "_model_module_version": "1.2.0",
            "_model_name": "LayoutModel",
            "_view_count": null,
            "_view_module": "@jupyter-widgets/base",
            "_view_module_version": "1.2.0",
            "_view_name": "LayoutView",
            "align_content": null,
            "align_items": null,
            "align_self": null,
            "border": null,
            "bottom": null,
            "display": null,
            "flex": null,
            "flex_flow": null,
            "grid_area": null,
            "grid_auto_columns": null,
            "grid_auto_flow": null,
            "grid_auto_rows": null,
            "grid_column": null,
            "grid_gap": null,
            "grid_row": null,
            "grid_template_areas": null,
            "grid_template_columns": null,
            "grid_template_rows": null,
            "height": null,
            "justify_content": null,
            "justify_items": null,
            "left": null,
            "margin": null,
            "max_height": null,
            "max_width": null,
            "min_height": null,
            "min_width": null,
            "object_fit": null,
            "object_position": null,
            "order": null,
            "overflow": null,
            "overflow_x": null,
            "overflow_y": null,
            "padding": null,
            "right": null,
            "top": null,
            "visibility": null,
            "width": null
          }
        },
        "593ff30c3a6e4984a165e36127145eeb": {
          "model_module": "@jupyter-widgets/controls",
          "model_module_version": "1.5.0",
          "model_name": "HTMLModel",
          "state": {
            "_dom_classes": [],
            "_model_module": "@jupyter-widgets/controls",
            "_model_module_version": "1.5.0",
            "_model_name": "HTMLModel",
            "_view_count": null,
            "_view_module": "@jupyter-widgets/controls",
            "_view_module_version": "1.5.0",
            "_view_name": "HTMLView",
            "description": "",
            "description_tooltip": null,
            "layout": "IPY_MODEL_aeed2d908cf8490a9e6788fba506cd5c",
            "placeholder": "​",
            "style": "IPY_MODEL_a9c5d083714d455a9d6812175d680f58",
            "value": "Epoch 1: 100%"
          }
        },
        "63cfcceb808b4541b4d38499beb1081b": {
          "model_module": "@jupyter-widgets/controls",
          "model_module_version": "1.5.0",
          "model_name": "HTMLModel",
          "state": {
            "_dom_classes": [],
            "_model_module": "@jupyter-widgets/controls",
            "_model_module_version": "1.5.0",
            "_model_name": "HTMLModel",
            "_view_count": null,
            "_view_module": "@jupyter-widgets/controls",
            "_view_module_version": "1.5.0",
            "_view_name": "HTMLView",
            "description": "",
            "description_tooltip": null,
            "layout": "IPY_MODEL_fef7c51417a647f2a7001f4b6774030f",
            "placeholder": "​",
            "style": "IPY_MODEL_ad35071974e94dfeac5218c0abed5a45",
            "value": " 0/29 [00:01&lt;?, ?batch/s]"
          }
        },
        "7a22ae02f3d644acb609dd89100cb311": {
          "model_module": "@jupyter-widgets/controls",
          "model_module_version": "1.5.0",
          "model_name": "ProgressStyleModel",
          "state": {
            "_model_module": "@jupyter-widgets/controls",
            "_model_module_version": "1.5.0",
            "_model_name": "ProgressStyleModel",
            "_view_count": null,
            "_view_module": "@jupyter-widgets/base",
            "_view_module_version": "1.2.0",
            "_view_name": "StyleView",
            "bar_color": null,
            "description_width": ""
          }
        },
        "7ad91a947a094a30848f3af023ae1c35": {
          "model_module": "@jupyter-widgets/controls",
          "model_module_version": "1.5.0",
          "model_name": "HBoxModel",
          "state": {
            "_dom_classes": [],
            "_model_module": "@jupyter-widgets/controls",
            "_model_module_version": "1.5.0",
            "_model_name": "HBoxModel",
            "_view_count": null,
            "_view_module": "@jupyter-widgets/controls",
            "_view_module_version": "1.5.0",
            "_view_name": "HBoxView",
            "box_style": "",
            "children": [
              "IPY_MODEL_7bc033f08ac449b2a53615211c687ece",
              "IPY_MODEL_10944c36eebf48ca9b45d491a2f504d6",
              "IPY_MODEL_63cfcceb808b4541b4d38499beb1081b"
            ],
            "layout": "IPY_MODEL_f55263799e8343708b5681979c6609d9"
          }
        },
        "7bc033f08ac449b2a53615211c687ece": {
          "model_module": "@jupyter-widgets/controls",
          "model_module_version": "1.5.0",
          "model_name": "HTMLModel",
          "state": {
            "_dom_classes": [],
            "_model_module": "@jupyter-widgets/controls",
            "_model_module_version": "1.5.0",
            "_model_name": "HTMLModel",
            "_view_count": null,
            "_view_module": "@jupyter-widgets/controls",
            "_view_module_version": "1.5.0",
            "_view_name": "HTMLView",
            "description": "",
            "description_tooltip": null,
            "layout": "IPY_MODEL_37ad67cb154d431bb0d166c7ec039f41",
            "placeholder": "​",
            "style": "IPY_MODEL_e7d1ae86ebc94e3d9355dd333dae4c81",
            "value": "Epoch 0:   0%"
          }
        },
        "81aed58865ed442994f71f8f683caded": {
          "model_module": "@jupyter-widgets/controls",
          "model_module_version": "1.5.0",
          "model_name": "DescriptionStyleModel",
          "state": {
            "_model_module": "@jupyter-widgets/controls",
            "_model_module_version": "1.5.0",
            "_model_name": "DescriptionStyleModel",
            "_view_count": null,
            "_view_module": "@jupyter-widgets/base",
            "_view_module_version": "1.2.0",
            "_view_name": "StyleView",
            "description_width": ""
          }
        },
        "974a59a6d2f64c09b79f5cd37ff203e6": {
          "model_module": "@jupyter-widgets/controls",
          "model_module_version": "1.5.0",
          "model_name": "HTMLModel",
          "state": {
            "_dom_classes": [],
            "_model_module": "@jupyter-widgets/controls",
            "_model_module_version": "1.5.0",
            "_model_name": "HTMLModel",
            "_view_count": null,
            "_view_module": "@jupyter-widgets/controls",
            "_view_module_version": "1.5.0",
            "_view_name": "HTMLView",
            "description": "",
            "description_tooltip": null,
            "layout": "IPY_MODEL_b555838a227a49c5b81e4944bbd1e074",
            "placeholder": "​",
            "style": "IPY_MODEL_e2bf478ef20d49ae917891cdb248938d",
            "value": "Epoch 0: 100%"
          }
        },
        "a9c5d083714d455a9d6812175d680f58": {
          "model_module": "@jupyter-widgets/controls",
          "model_module_version": "1.5.0",
          "model_name": "DescriptionStyleModel",
          "state": {
            "_model_module": "@jupyter-widgets/controls",
            "_model_module_version": "1.5.0",
            "_model_name": "DescriptionStyleModel",
            "_view_count": null,
            "_view_module": "@jupyter-widgets/base",
            "_view_module_version": "1.2.0",
            "_view_name": "StyleView",
            "description_width": ""
          }
        },
        "ad35071974e94dfeac5218c0abed5a45": {
          "model_module": "@jupyter-widgets/controls",
          "model_module_version": "1.5.0",
          "model_name": "DescriptionStyleModel",
          "state": {
            "_model_module": "@jupyter-widgets/controls",
            "_model_module_version": "1.5.0",
            "_model_name": "DescriptionStyleModel",
            "_view_count": null,
            "_view_module": "@jupyter-widgets/base",
            "_view_module_version": "1.2.0",
            "_view_name": "StyleView",
            "description_width": ""
          }
        },
        "aeed2d908cf8490a9e6788fba506cd5c": {
          "model_module": "@jupyter-widgets/base",
          "model_module_version": "1.2.0",
          "model_name": "LayoutModel",
          "state": {
            "_model_module": "@jupyter-widgets/base",
            "_model_module_version": "1.2.0",
            "_model_name": "LayoutModel",
            "_view_count": null,
            "_view_module": "@jupyter-widgets/base",
            "_view_module_version": "1.2.0",
            "_view_name": "LayoutView",
            "align_content": null,
            "align_items": null,
            "align_self": null,
            "border": null,
            "bottom": null,
            "display": null,
            "flex": null,
            "flex_flow": null,
            "grid_area": null,
            "grid_auto_columns": null,
            "grid_auto_flow": null,
            "grid_auto_rows": null,
            "grid_column": null,
            "grid_gap": null,
            "grid_row": null,
            "grid_template_areas": null,
            "grid_template_columns": null,
            "grid_template_rows": null,
            "height": null,
            "justify_content": null,
            "justify_items": null,
            "left": null,
            "margin": null,
            "max_height": null,
            "max_width": null,
            "min_height": null,
            "min_width": null,
            "object_fit": null,
            "object_position": null,
            "order": null,
            "overflow": null,
            "overflow_x": null,
            "overflow_y": null,
            "padding": null,
            "right": null,
            "top": null,
            "visibility": null,
            "width": null
          }
        },
        "b2798b6399d74197a09d19d284af47ec": {
          "model_module": "@jupyter-widgets/controls",
          "model_module_version": "1.5.0",
          "model_name": "HBoxModel",
          "state": {
            "_dom_classes": [],
            "_model_module": "@jupyter-widgets/controls",
            "_model_module_version": "1.5.0",
            "_model_name": "HBoxModel",
            "_view_count": null,
            "_view_module": "@jupyter-widgets/controls",
            "_view_module_version": "1.5.0",
            "_view_name": "HBoxView",
            "box_style": "",
            "children": [
              "IPY_MODEL_593ff30c3a6e4984a165e36127145eeb",
              "IPY_MODEL_f6d74c92d30a4f8ebe709926521af7f7",
              "IPY_MODEL_3db5853dbcc24ddba92979b86e073d1d"
            ],
            "layout": "IPY_MODEL_261a03197ab0438185781a576c6a2eea"
          }
        },
        "b555838a227a49c5b81e4944bbd1e074": {
          "model_module": "@jupyter-widgets/base",
          "model_module_version": "1.2.0",
          "model_name": "LayoutModel",
          "state": {
            "_model_module": "@jupyter-widgets/base",
            "_model_module_version": "1.2.0",
            "_model_name": "LayoutModel",
            "_view_count": null,
            "_view_module": "@jupyter-widgets/base",
            "_view_module_version": "1.2.0",
            "_view_name": "LayoutView",
            "align_content": null,
            "align_items": null,
            "align_self": null,
            "border": null,
            "bottom": null,
            "display": null,
            "flex": null,
            "flex_flow": null,
            "grid_area": null,
            "grid_auto_columns": null,
            "grid_auto_flow": null,
            "grid_auto_rows": null,
            "grid_column": null,
            "grid_gap": null,
            "grid_row": null,
            "grid_template_areas": null,
            "grid_template_columns": null,
            "grid_template_rows": null,
            "height": null,
            "justify_content": null,
            "justify_items": null,
            "left": null,
            "margin": null,
            "max_height": null,
            "max_width": null,
            "min_height": null,
            "min_width": null,
            "object_fit": null,
            "object_position": null,
            "order": null,
            "overflow": null,
            "overflow_x": null,
            "overflow_y": null,
            "padding": null,
            "right": null,
            "top": null,
            "visibility": null,
            "width": null
          }
        },
        "beffae2490e944d4a5e1ad66e02e1bff": {
          "model_module": "@jupyter-widgets/base",
          "model_module_version": "1.2.0",
          "model_name": "LayoutModel",
          "state": {
            "_model_module": "@jupyter-widgets/base",
            "_model_module_version": "1.2.0",
            "_model_name": "LayoutModel",
            "_view_count": null,
            "_view_module": "@jupyter-widgets/base",
            "_view_module_version": "1.2.0",
            "_view_name": "LayoutView",
            "align_content": null,
            "align_items": null,
            "align_self": null,
            "border": null,
            "bottom": null,
            "display": null,
            "flex": null,
            "flex_flow": null,
            "grid_area": null,
            "grid_auto_columns": null,
            "grid_auto_flow": null,
            "grid_auto_rows": null,
            "grid_column": null,
            "grid_gap": null,
            "grid_row": null,
            "grid_template_areas": null,
            "grid_template_columns": null,
            "grid_template_rows": null,
            "height": null,
            "justify_content": null,
            "justify_items": null,
            "left": null,
            "margin": null,
            "max_height": null,
            "max_width": null,
            "min_height": null,
            "min_width": null,
            "object_fit": null,
            "object_position": null,
            "order": null,
            "overflow": null,
            "overflow_x": null,
            "overflow_y": null,
            "padding": null,
            "right": null,
            "top": null,
            "visibility": null,
            "width": null
          }
        },
        "bfedb85abf004b44971b3568a9e9c676": {
          "model_module": "@jupyter-widgets/controls",
          "model_module_version": "1.5.0",
          "model_name": "DescriptionStyleModel",
          "state": {
            "_model_module": "@jupyter-widgets/controls",
            "_model_module_version": "1.5.0",
            "_model_name": "DescriptionStyleModel",
            "_view_count": null,
            "_view_module": "@jupyter-widgets/base",
            "_view_module_version": "1.2.0",
            "_view_name": "StyleView",
            "description_width": ""
          }
        },
        "c342f9b709394e90a8e820d3d1c0abea": {
          "model_module": "@jupyter-widgets/controls",
          "model_module_version": "1.5.0",
          "model_name": "ProgressStyleModel",
          "state": {
            "_model_module": "@jupyter-widgets/controls",
            "_model_module_version": "1.5.0",
            "_model_name": "ProgressStyleModel",
            "_view_count": null,
            "_view_module": "@jupyter-widgets/base",
            "_view_module_version": "1.2.0",
            "_view_name": "StyleView",
            "bar_color": null,
            "description_width": ""
          }
        },
        "c6dc91bd85d54f04b970714a891c5aeb": {
          "model_module": "@jupyter-widgets/controls",
          "model_module_version": "1.5.0",
          "model_name": "FloatProgressModel",
          "state": {
            "_dom_classes": [],
            "_model_module": "@jupyter-widgets/controls",
            "_model_module_version": "1.5.0",
            "_model_name": "FloatProgressModel",
            "_view_count": null,
            "_view_module": "@jupyter-widgets/controls",
            "_view_module_version": "1.5.0",
            "_view_name": "ProgressView",
            "bar_style": "success",
            "description": "",
            "description_tooltip": null,
            "layout": "IPY_MODEL_006d35fb96fe404aa3f499d9b21d1893",
            "max": 29,
            "min": 0,
            "orientation": "horizontal",
            "style": "IPY_MODEL_7a22ae02f3d644acb609dd89100cb311",
            "value": 29
          }
        },
        "d82d3d8376a14e72b42d18bfe17ed420": {
          "model_module": "@jupyter-widgets/controls",
          "model_module_version": "1.5.0",
          "model_name": "HBoxModel",
          "state": {
            "_dom_classes": [],
            "_model_module": "@jupyter-widgets/controls",
            "_model_module_version": "1.5.0",
            "_model_name": "HBoxModel",
            "_view_count": null,
            "_view_module": "@jupyter-widgets/controls",
            "_view_module_version": "1.5.0",
            "_view_name": "HBoxView",
            "box_style": "",
            "children": [
              "IPY_MODEL_974a59a6d2f64c09b79f5cd37ff203e6",
              "IPY_MODEL_c6dc91bd85d54f04b970714a891c5aeb",
              "IPY_MODEL_1caa3fb428f94c089c07a6153ccc5e16"
            ],
            "layout": "IPY_MODEL_58c433a05f7946df931ad1f45efa57cd"
          }
        },
        "e2bf478ef20d49ae917891cdb248938d": {
          "model_module": "@jupyter-widgets/controls",
          "model_module_version": "1.5.0",
          "model_name": "DescriptionStyleModel",
          "state": {
            "_model_module": "@jupyter-widgets/controls",
            "_model_module_version": "1.5.0",
            "_model_name": "DescriptionStyleModel",
            "_view_count": null,
            "_view_module": "@jupyter-widgets/base",
            "_view_module_version": "1.2.0",
            "_view_name": "StyleView",
            "description_width": ""
          }
        },
        "e7d1ae86ebc94e3d9355dd333dae4c81": {
          "model_module": "@jupyter-widgets/controls",
          "model_module_version": "1.5.0",
          "model_name": "DescriptionStyleModel",
          "state": {
            "_model_module": "@jupyter-widgets/controls",
            "_model_module_version": "1.5.0",
            "_model_name": "DescriptionStyleModel",
            "_view_count": null,
            "_view_module": "@jupyter-widgets/base",
            "_view_module_version": "1.2.0",
            "_view_name": "StyleView",
            "description_width": ""
          }
        },
        "f55263799e8343708b5681979c6609d9": {
          "model_module": "@jupyter-widgets/base",
          "model_module_version": "1.2.0",
          "model_name": "LayoutModel",
          "state": {
            "_model_module": "@jupyter-widgets/base",
            "_model_module_version": "1.2.0",
            "_model_name": "LayoutModel",
            "_view_count": null,
            "_view_module": "@jupyter-widgets/base",
            "_view_module_version": "1.2.0",
            "_view_name": "LayoutView",
            "align_content": null,
            "align_items": null,
            "align_self": null,
            "border": null,
            "bottom": null,
            "display": null,
            "flex": null,
            "flex_flow": null,
            "grid_area": null,
            "grid_auto_columns": null,
            "grid_auto_flow": null,
            "grid_auto_rows": null,
            "grid_column": null,
            "grid_gap": null,
            "grid_row": null,
            "grid_template_areas": null,
            "grid_template_columns": null,
            "grid_template_rows": null,
            "height": null,
            "justify_content": null,
            "justify_items": null,
            "left": null,
            "margin": null,
            "max_height": null,
            "max_width": null,
            "min_height": null,
            "min_width": null,
            "object_fit": null,
            "object_position": null,
            "order": null,
            "overflow": null,
            "overflow_x": null,
            "overflow_y": null,
            "padding": null,
            "right": null,
            "top": null,
            "visibility": null,
            "width": null
          }
        },
        "f6d74c92d30a4f8ebe709926521af7f7": {
          "model_module": "@jupyter-widgets/controls",
          "model_module_version": "1.5.0",
          "model_name": "FloatProgressModel",
          "state": {
            "_dom_classes": [],
            "_model_module": "@jupyter-widgets/controls",
            "_model_module_version": "1.5.0",
            "_model_name": "FloatProgressModel",
            "_view_count": null,
            "_view_module": "@jupyter-widgets/controls",
            "_view_module_version": "1.5.0",
            "_view_name": "ProgressView",
            "bar_style": "success",
            "description": "",
            "description_tooltip": null,
            "layout": "IPY_MODEL_48f9510cbeb6439da5f074ac2edd6d58",
            "max": 29,
            "min": 0,
            "orientation": "horizontal",
            "style": "IPY_MODEL_433d621e6ed7412da540db98bf019ee7",
            "value": 29
          }
        },
        "fef7c51417a647f2a7001f4b6774030f": {
          "model_module": "@jupyter-widgets/base",
          "model_module_version": "1.2.0",
          "model_name": "LayoutModel",
          "state": {
            "_model_module": "@jupyter-widgets/base",
            "_model_module_version": "1.2.0",
            "_model_name": "LayoutModel",
            "_view_count": null,
            "_view_module": "@jupyter-widgets/base",
            "_view_module_version": "1.2.0",
            "_view_name": "LayoutView",
            "align_content": null,
            "align_items": null,
            "align_self": null,
            "border": null,
            "bottom": null,
            "display": null,
            "flex": null,
            "flex_flow": null,
            "grid_area": null,
            "grid_auto_columns": null,
            "grid_auto_flow": null,
            "grid_auto_rows": null,
            "grid_column": null,
            "grid_gap": null,
            "grid_row": null,
            "grid_template_areas": null,
            "grid_template_columns": null,
            "grid_template_rows": null,
            "height": null,
            "justify_content": null,
            "justify_items": null,
            "left": null,
            "margin": null,
            "max_height": null,
            "max_width": null,
            "min_height": null,
            "min_width": null,
            "object_fit": null,
            "object_position": null,
            "order": null,
            "overflow": null,
            "overflow_x": null,
            "overflow_y": null,
            "padding": null,
            "right": null,
            "top": null,
            "visibility": null,
            "width": null
          }
        }
      }
    }
  },
  "nbformat": 4,
  "nbformat_minor": 0
}
