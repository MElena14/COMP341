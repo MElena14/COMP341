{
 "cells": [
  {
   "cell_type": "markdown",
   "metadata": {
    "cell_id": "755ef7cc755043beb90e20360bfdce13",
    "deepnote_cell_type": "text-cell-h1",
    "is_collapsed": false,
    "tags": []
   },
   "source": [
    "# Grasp Detection"
   ]
  },
  {
   "cell_type": "markdown",
   "metadata": {
    "cell_id": "0def3a9428bd4f8bbf7b388bc4d45457",
    "deepnote_cell_type": "text-cell-h3",
    "is_collapsed": false,
    "tags": []
   },
   "source": [
    "### Comp 341"
   ]
  },
  {
   "cell_type": "markdown",
   "metadata": {
    "cell_id": "2f56a80690d44e6f88ae70c842898f0e",
    "deepnote_cell_type": "text-cell-h3",
    "is_collapsed": false,
    "tags": []
   },
   "source": [
    "### Imports"
   ]
  },
  {
   "cell_type": "code",
   "execution_count": 1,
   "metadata": {
    "cell_id": "d4b7ca9e-c9dd-4abf-ad85-6e9057749156",
    "colab": {
     "base_uri": "https://localhost:8080/"
    },
    "deepnote_cell_height": 688,
    "deepnote_cell_type": "code",
    "deepnote_to_be_reexecuted": false,
    "execution_millis": 2511,
    "execution_start": 1648410279844,
    "id": "69WPLPGqOKxv",
    "outputId": "5581b27b-fa42-41ca-aa34-92821dd4f1e9",
    "source_hash": "fc484c80"
   },
   "outputs": [
    {
     "name": "stdout",
     "output_type": "stream",
     "text": [
      "Using torch 1.11.0\n"
     ]
    }
   ],
   "source": [
    "import os\n",
    "import multiprocessing\n",
    "import numpy as np \n",
    "import time\n",
    "from PIL import Image\n",
    "\n",
    "#matplotlib\n",
    "import matplotlib.pyplot as plt\n",
    "%matplotlib inline\n",
    "\n",
    "import seaborn as sns\n",
    "sns.set()\n",
    "\n",
    "## Progress bar\n",
    "from tqdm.notebook import tqdm\n",
    "# from tqdm.std import tqdm, trange\n",
    "# from tqdm import notebook\n",
    "# notebook.tqdm = tqdm\n",
    "# notebook.trange = trange\n",
    "\n",
    "#torch\n",
    "import torch\n",
    "import torch.nn as nn\n",
    "import torch.nn.functional as F\n",
    "import torch.utils.data as td\n",
    "import torch.optim as optim\n",
    "torch.backends.cudnn.benchmark = True \n",
    "import torchvision as tv\n",
    "\n",
    "from visualisation import cv2_imshow, rotated_rectangle, imshow\n",
    "from rect_metric import compare_grasps, grasp_accuracy\n",
    "\n",
    "\n",
    "print(\"Using torch\", torch.__version__)"
   ]
  },
  {
   "cell_type": "code",
   "execution_count": 2,
   "metadata": {
    "cell_id": "00001-73f19767-3ba4-47f2-bec2-34704d6bb0f6",
    "deepnote_cell_height": 225,
    "deepnote_cell_type": "code",
    "deepnote_to_be_reexecuted": false,
    "execution_millis": 2,
    "execution_start": 1648410282275,
    "id": "-AWEfQ0LslM2",
    "source_hash": "caf0da3f"
   },
   "outputs": [],
   "source": [
    "def set_seed(seed):\n",
    "    np.random.seed(seed)\n",
    "    torch.manual_seed(seed)\n",
    "    if torch.cuda.is_available():  # GPU operation have separate seed\n",
    "        torch.cuda.manual_seed(seed)\n",
    "        torch.cuda.manual_seed_all(seed)\n",
    "\n",
    "\n",
    "set_seed(42)"
   ]
  },
  {
   "cell_type": "code",
   "execution_count": 3,
   "metadata": {
    "cell_id": "00002-26d813dc-a3a7-482b-b91d-9ac10d216d93",
    "colab": {
     "base_uri": "https://localhost:8080/"
    },
    {
     "name": "stdout",
     "output_type": "stream",
     "text": [
      "not in drive\n",
      "Using device cuda:1\n"
     ]
    }
   ],
   "source": [
    "# Fetching the device that will be used throughout this notebook\n",
    "\n",
    "try:\n",
    "    from google.colab import drive\n",
    "    drive.mount('/content/drive')\n",
    "    DATASET_PATH = \"drive/MyDrive/Liverpool/Assignments/Year 3/COMP341/COMP341 - Assignment 01 - Data/Data/\"\n",
    "    device = torch.device(\"cpu\") if not torch.cuda.is_available() else torch.device(\"cuda:0\")\n",
    "    !pip install shapely\n",
    "except:\n",
    "    print('not in drive')\n",
    "    DATASET_PATH = 'ass1_data/Data'\n",
    "    device = torch.device(\"cpu\") if not torch.cuda.is_available() else torch.device(\"cuda:1\")\n",
    "print(\"Using device\", device)"
   ]
  },
  {
   "cell_type": "code",
   "execution_count": 4,
   "metadata": {},
   "outputs": [],
   "source": [
    "featureExtractionPretrainModel = 'model.pretrain.json'\n",
    "finalModel = 'finalmodel.json'"
   ]
  },
  {
   "cell_type": "markdown",
   "metadata": {
    "cell_id": "35d2629159834089a66f83aa85345585",
    "deepnote_cell_type": "text-cell-h3",
    "is_collapsed": false,
    "tags": []
   },
   "source": [
    "### Load Dataset"
   ]
  },
  {
   "cell_type": "code",
   "execution_count": 5,
   "metadata": {
    "cell_id": "00003-3f91b71f-b4ea-41c7-a27f-9fed29001f32",
    "deepnote_cell_height": 1107,
    "deepnote_cell_type": "code",
    "deepnote_to_be_reexecuted": false,
    "execution_millis": 1,
    "execution_start": 1648410282336,
    "id": "HPGyY2z4RiWt",
    "source_hash": "190b3550"
   },
   "outputs": [],
   "source": [
    "class GraspDataset(td.Dataset):\n",
    "  def __init__(self, root_dir, transforms=None, depth_image=None):\n",
    "      self.root_dir = root_dir\n",
    "      self.depth_image = {'perfect':'pDepth', 'stereo': 'sDepth'}.get(depth_image)\n",
    "      self.transforms = transforms if transforms else tv.transforms.Compose([tv.transforms.ToTensor()])\n",
    "\n",
    "      # List of all scenes for all objects in the dataset\n",
    "      self.scene_paths = []\n",
    "      for object_name in os.listdir(root_dir):\n",
    "        scene_nums = os.listdir(f\"{root_dir}/{object_name}\")\n",
    "        scene_nums = set([file.split(\"_\")[0] for file in scene_nums])\n",
    "        for scene_index in scene_nums: # Scene index ranges from 0 to 4 for all objects\n",
    "          scene_root = f\"{root_dir}/{object_name}/{scene_index}_{object_name}_\"\n",
    "\n",
    "          # Make sure a scene with this index exists for this object\n",
    "          grasp_path = scene_root + \"grasps.txt\"\n",
    "          if os.path.exists(grasp_path):\n",
    "            processLine = lambda line: np.array([float(number) for number in line.split(\";\")])\n",
    "            with open(grasp_path) as file:\n",
    "              grasps = np.array([processLine(line) for line in file.readlines()], dtype=np.float32)\n",
    "          else:\n",
    "            raise Exception(f\"grasp file does not exist!! ({grasp_path})\")\n",
    "\n",
    "          # Add scene files and appened to the list\n",
    "          for grasp in grasps:\n",
    "            scene = {\n",
    "                \"grasp\": grasp,\n",
    "                \"rgb\": scene_root + \"RGB.png\",\n",
    "                \"mask\": scene_root + \"mask.png\",\n",
    "                \"pDepth\": scene_root + \"perfect_depth.tiff\",\n",
    "                \"sDepth\": scene_root + \"stereo_depth.tiff\"\n",
    "            }\n",
    "            self.scene_paths.append(scene)\n",
    "\n",
    "  # This must return the length of the dataset\n",
    "  def __len__(self):\n",
    "    return len(self.scene_paths)\n",
    "\n",
    "  # This must return the single dataset item at index idx\n",
    "  def __getitem__(self, idx):\n",
    "    grasp = self.scene_paths[idx]['grasp'] #load a grasp\n",
    "    # Load the RGB image\n",
    "    image = Image.open(self.scene_paths[idx][\"rgb\"])\n",
    "    if self.transforms: #do transforms\n",
    "        image = self.transforms(image)\n",
    "\n",
    "    if self.depth_image is not None:\n",
    "      depth = Image.open(self.scene_paths[idx][self.depth_image])\n",
    "      return (image, depth, grasp)\n",
    "\n",
    "    return (image, grasp)"
   ]
  },
  {
   "cell_type": "code",
   "execution_count": null,
   "metadata": {},
   "outputs": [],
   "source": [
    "def save_tensor_image(img):\n",
    "    image = UnNormalize(mean=(0.5, 0.5, 0.5), std=(0.5, 0.5, 0.5))(image)\n",
    "    image = image.permute(1, 2, 0).numpy().astype('uint8')\n",
    "    image = cv2.cvtColor(cv2.cvtColor(image, cv2.COLOR_RGB2BGR), cv2.COLOR_BGR2RGB)"
   ]
  },
  {
   "cell_type": "markdown",
   "metadata": {
    "cell_id": "d3371b98962b479ca0dc2735c1c0aab0",
    "deepnote_cell_type": "text-cell-h3",
    "is_collapsed": false,
    "tags": []
   },
   "source": [
    "### Lets look at an image"
   ]
  },
  {
   "cell_type": "code",
   "execution_count": 6,
   "metadata": {
    "cell_id": "00005-2894ac23-7ab0-42e6-b4ff-a9df42b252b5",
    "colab": {
     "base_uri": "https://localhost:8080/",
     "height": 411
    },
    {
     "data": {
      "image/png": "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",
      "text/plain": [
       "<Figure size 432x288 with 1 Axes>"
      ]
     },
     "metadata": {},
     "output_type": "display_data"
    }
   ],
   "source": [
    "# Show off the dataset\n",
    "index = 4\n",
    "\n",
    "dataset = GraspDataset(DATASET_PATH + \"/training\")\n",
    "loader = td.DataLoader(dataset, batch_size=4, shuffle=False, drop_last=False, num_workers=2)\n",
    "batch = next(iter(loader))\n",
    "imshow(batch[0][index%4])\n",
    "\n",
    "\n",
    "# print(\"grasp:\", batch[2][index])\n",
    "# print(\"depth:\", batch[1][index])"
   ]
  },
  {
   "cell_type": "markdown",
   "metadata": {
    "cell_id": "71ab9baff04e49c1ad903e70e97d5d66",
    "deepnote_cell_type": "text-cell-h2",
    "is_collapsed": false,
    "tags": []
   },
   "source": [
    "## Boilerplate Code"
   ]
  },
  {
   "cell_type": "markdown",
   "metadata": {
    "cell_id": "c7c5f3e2fb3443cc91ae06d3001ae8e2",
    "deepnote_cell_type": "text-cell-h3",
    "is_collapsed": false,
    "tags": []
   },
   "source": [
    "### helpers"
   ]
  },
  {
   "cell_type": "code",
   "execution_count": 7,
   "metadata": {
    "cell_id": "00014-081b308a-c665-423b-8944-82f039a24f2a",
    "deepnote_cell_height": 315,
    "deepnote_cell_type": "code",
    "deepnote_to_be_reexecuted": false,
    "execution_millis": 0,
    "execution_start": 1648410283604,
    "id": "9yRDLP48OKx3",
    "source_hash": "3e818651"
   },
   "outputs": [],
   "source": [
    "colors = [[31, 120, 180], [51, 160, 44]]\n",
    "colors = [(r / 255, g / 255, b / 255) for (r, g, b) in colors]\n",
    "\n",
    "def plot_epochs(train_history, validation_history=None, plotType=\"loss\"):\n",
    "    x = np.arange(1, len(train_history) + 1)\n",
    "    plt.figure(figsize=(8, 6))\n",
    "    if validation_history:\n",
    "        plt.plot(x, validation_history, color=colors[1], label=f\"Validation {plotType}\", linewidth=2)\n",
    "    plt.plot(x, train_history, color=colors[0], label=f\"Training {plotType}\", linewidth=2)\n",
    "    plt.ylabel(f'{plotType}')\n",
    "    plt.xlabel('Epoch')\n",
    "    plt.legend(loc='upper right')\n",
    "    plt.title(f\"Evolution of the training and validation {plotType}\")\n",
    "    plt.show()"
   ]
  },
  {
   "cell_type": "code",
   "execution_count": 8,
   "metadata": {
    "cell_id": "00007-c5dd868e-efaa-495f-9d94-d10d26ffa36c",
    "deepnote_cell_height": 153,
    "deepnote_cell_type": "code",
    "deepnote_to_be_reexecuted": false,
    "execution_millis": 4,
    "execution_start": 1648471834552,
    "id": "JD85qwRvOKx4",
    "source_hash": "5e1bf912"
   },
   "outputs": [],
   "source": [
    "def get_cnn_output_size(in_size, kernel_size, stride=1, padding=0):\n",
    "    integer = int((in_size - kernel_size + 2 * padding) / stride) == ((in_size - kernel_size + 2 * padding) / stride)\n",
    "    if not integer:\n",
    "        print(\"not int\", ((in_size - kernel_size + 2 * padding) / stride))\n",
    "    return int((in_size - kernel_size + 2 * padding) / stride) + 1"
   ]
  },
  {
   "cell_type": "code",
   "execution_count": 9,
   "metadata": {
    "cell_id": "00008-39ed4c93-deff-4fb9-bbc2-168c4973ac86",
    "colab": {
     "base_uri": "https://localhost:8080/"
    },
    {
      "cell_type": "code",
      "execution_count": 37,
      "metadata": {
        "cell_id": "d4b7ca9e-c9dd-4abf-ad85-6e9057749156",
        "colab": {
          "base_uri": "https://localhost:8080/"
        },
        "deepnote_cell_height": 688,
        "deepnote_cell_type": "code",
        "deepnote_to_be_reexecuted": false,
        "execution_millis": 2511,
        "execution_start": 1648410279844,
        "id": "69WPLPGqOKxv",
        "outputId": "d8131fb8-3e08-4357-86ee-90a8866d87f5",
        "source_hash": "fc484c80"
      },
      "outputs": [
        {
          "output_type": "stream",
          "name": "stdout",
          "text": [
            "Using torch 1.10.0+cu111\n"
          ]
        }
      ],
      "source": [
        "import os\n",
        "import numpy as np \n",
        "from numpy import cos, sin\n",
        "import matplotlib.pyplot as plt\n",
        "import multiprocessing\n",
        "import time\n",
        "\n",
        "from visualisation import draw_box, cv2_imshow\n",
        "from rect_metric import compare_grasps, grasp_accuracy, visul_grasps\n",
        "\n",
        "%matplotlib inline\n",
        "\n",
        "import seaborn as sns\n",
        "sns.set()\n",
        "\n",
        "## Progress bar\n",
        "from tqdm.std import tqdm, trange\n",
        "from tqdm import notebook\n",
        "\n",
        "notebook.tqdm = tqdm\n",
        "notebook.trange = trange\n",
        "\n",
        "import torch\n",
        "import torch.nn as nn\n",
        "import torch.nn.functional as F\n",
        "import torch.utils.data as td\n",
        "import torch.optim as optim\n",
        "torch.backends.cudnn.benchmark = True \n",
        "\n",
        "import torchvision as tv\n",
        "\n",
        "\n",
        "print(\"Using torch\", torch.__version__)"
      ]
    },
    {
      "cell_type": "code",
      "execution_count": 38,
      "metadata": {
        "cell_id": "00001-73f19767-3ba4-47f2-bec2-34704d6bb0f6",
        "deepnote_cell_height": 225,
        "deepnote_cell_type": "code",
        "deepnote_to_be_reexecuted": false,
        "execution_millis": 2,
        "execution_start": 1648410282275,
        "id": "-AWEfQ0LslM2",
        "source_hash": "caf0da3f"
      },
      "outputs": [],
      "source": [
        "def set_seed(seed):\n",
        "    np.random.seed(seed)\n",
        "    torch.manual_seed(seed)\n",
        "    if torch.cuda.is_available():  # GPU operation have separate seed\n",
        "        torch.cuda.manual_seed(seed)\n",
        "        torch.cuda.manual_seed_all(seed)\n",
        "\n",
        "\n",
        "set_seed(42)"
      ]
     },
     "execution_count": 9,
     "metadata": {},
     "output_type": "execute_result"
    }
   ],
   "source": [
    "get_cnn_output_size(64, kernel_size=3, stride=2, padding=0)"
   ]
  },
  {
   "cell_type": "markdown",
   "metadata": {
    "cell_id": "b67a576736304490a68eea06d251349b",
    "deepnote_cell_type": "text-cell-h3",
    "is_collapsed": false,
    "tags": []
   },
   "source": [
    "### loss and optimisers"
   ]
  },
  {
   "cell_type": "code",
   "execution_count": 10,
   "metadata": {
    "cell_id": "00009-15cb4d78-fd6d-41d2-8b78-6714f62c138e",
    "deepnote_cell_height": 189,
    "deepnote_cell_type": "code",
    "deepnote_to_be_reexecuted": false,
    "execution_millis": 1,
    "execution_start": 1648410283610,
    "id": "4SzI9dlCOKx6",
    "source_hash": "9f3fb0a6"
   },
   "outputs": [],
   "source": [
    "def getLoss(regression=True):\n",
    "    if regression:\n",
    "        return nn.MSELoss()\n",
    "    else:\n",
    "        return nn.CrossEntropyLoss()\n",
    "\n",
    "def getOptimiser(model, learningRate):\n",
    "    #optimiser = optim.SGD(model.parameters(), lr=learning_rate, momentum=0.9)\n",
    "    optimiser = optim.Adam(model.parameters(), lr=learningRate)\n",
    "    return optimiser"
   ]
  },
  {
   "cell_type": "markdown",
   "metadata": {
    "cell_id": "644ad420d15f4c9f94f875b628aa72dd",
    "deepnote_cell_type": "text-cell-h3",
    "is_collapsed": false,
    "tags": []
   },
   "source": [
    "### Data Loaders"
   ]
  },
  {
   "cell_type": "code",
   "execution_count": 23,
   "metadata": {
    "cell_id": "00010-6ee948aa-3823-4f03-b77d-81fba404cb80",
    "deepnote_cell_height": 297,
    "deepnote_cell_type": "code",
    "deepnote_to_be_reexecuted": false,
    "execution_millis": 1,
    "execution_start": 1648410283614,
    "id": "oNSAt2C3OKx5",
    "source_hash": "da9344d9"
   },
   "outputs": [],
   "source": [
    "def gen_transforms(resize=None, imgs_mean=(0.5,), imgs_std=(0.5,)):\n",
    "    tst_trans = [tv.transforms.ToTensor()]\n",
    "    if resize is not None:\n",
    "        tst_trans.append(tv.transforms.Resize(resize[0]))\n",
    "        tst_trans.append(tv.transforms.CenterCrop(resize[1]))\n",
    "    tst_trans.append(tv.transforms.Normalize(mean=imgs_mean, std=imgs_std))\n",
    "    return tv.transforms.Compose(tst_trans)\n",
    "\n",
    "def get_train_loader(batchSize, resize = None, dataset='grasp'):\n",
    "    transforms = gen_transforms(resize)\n",
    "    if dataset == 'grasp':\n",
    "        trainData = GraspDataset(root_dir=f'{DATASET_PATH}/training', transforms=transforms)\n",
    "        trainLoader = td.DataLoader(trainData, batch_size=batchSize, shuffle=True, drop_last=False, num_workers=int(multiprocessing.cpu_count()/2))\n",
    "    elif dataset == 'imageNet':\n",
    "        trainData = tv.datasets.ImageNet(root=f'imageNet/', transform=transforms, split='val')\n",
    "        imagenetSampler = torch.utils.data.RandomSampler(trainData, num_samples=1000)\n",
    "        trainLoader = td.DataLoader(trainData, batch_size=batchSize, sampler=imagenetSampler, shuffle=False, drop_last=False, num_workers=int(multiprocessing.cpu_count()/2))\n",
    "    return trainLoader\n"
   ]
  },
  {
   "cell_type": "markdown",
   "metadata": {
    "cell_id": "a1773a7c323b4b018543d595d5ad26b8",
    "deepnote_cell_type": "text-cell-h3",
    "is_collapsed": false,
    "tags": []
   },
   "source": [
    "### Training function"
   ]
  },
  {
   "cell_type": "code",
   "execution_count": 12,
   "metadata": {
    "cell_id": "00012-eb3559ff-2239-4fee-91d9-8265c782624b",
    "deepnote_cell_height": 981,
    "deepnote_cell_type": "code",
    "deepnote_to_be_reexecuted": false,
    "execution_millis": 11,
    "execution_start": 1648410283619,
    "id": "m2KPusVhOKx6",
    "source_hash": "fc925ae4"
   },
   "outputs": [],
   "source": [
    "def train(model, batch_size, n_epochs, learning_rate, resize=None, mode = 'train'): #mode = 'pretrain' or 'train'\n",
    "    print(f\"batch size: {batch_size}\")\n",
    "    print(f\"n epochs: {n_epochs}\")\n",
    "    print(f\"learning rate: {learning_rate}\")\n",
    "    print(\"=\"*20)\n",
    "    \n",
    "    trainLoader = get_train_loader(batch_size, resize, 'grasp' if mode == 'train' else 'imageNet')\n",
    "    lossFn = getLoss(mode == 'train')\n",
    "    optimizer = getOptimiser(model, learning_rate)\n",
    "\n",
    "    train_history = []\n",
    "    accuracy_history = []\n",
    "    training_start_time = time.time()\n",
    "    \n",
    "    model = model.to(device) # Move model to gpu\n",
    "    model.train() # Set the model to training mode (for DropOut)\n",
    "    if mode == 'pretrain':\n",
    "        model.featureExtractionBlock.load_state_dict(torch.load(featureExtractionPretrainModel))\n",
    "\n",
    "    for epoch in range(n_epochs):  # loop over the dataset for n_epoch\n",
    "        epoch_loss = 0\n",
    "        epoch_accuracy = 0\n",
    "\n",
    "        with tqdm(trainLoader, unit=\"batch\") as tepoch:\n",
    "            tepoch.set_description(f\"Epoch {epoch}\")\n",
    "            for rgb, grasp in tepoch:   #for each batch\n",
    "                rgb, grasp = rgb.to(device), grasp.to(device)   # Move tensors to gpu\n",
    "                optimizer.zero_grad()   # zero the parameter gradients\n",
    "\n",
    "                # forward + backward + optimize\n",
    "                outputs = model(rgb)    \n",
    "                loss = lossFn(outputs,  grasp)\n",
    "                loss.backward()\n",
    "                optimizer.step()\n",
    "                # add to running totals\n",
    "                epoch_loss += loss.item()\n",
    "                with torch.no_grad():\n",
    "                    accs = grasp_accuracy(outputs, grasp) if mode == 'train' else 0.0\n",
    "                    epoch_accuracy += accs\n",
    "        epoch_loss = epoch_loss / len(trainLoader)\n",
    "        # print(f\"Epoch #{epoch + 1} train_loss: {round(epoch_loss,2)} accuracy: {round(epoch_accuracy,1)}% took: {round(time.time() - start_time,2)}s\") \n",
    "        train_history.append(epoch_loss)\n",
    "        batch_acc = epoch_accuracy/len(trainLoader)\n",
    "        accuracy_history.append(batch_acc)\n",
    "    if mode == 'train':\n",
    "        with torch.no_grad():\n",
    "            for i in range(batch_size):\n",
    "                print('predicted:', outputs[i].cpu())\n",
    "                rotated_rectangle(rgb[i].cpu(), outputs[i].cpu(), grasp[i].cpu())\n",
    "            accuracy_history = [i.cpu().numpy().item() for i in accuracy_history]\n",
    "    elif mode == 'pretrain':\n",
    "        torch.save(model.featureExtractionBlock.state_dict(), featureExtractionPretrainModel)\n",
    "    print(accuracy_history)\n",
    "    print(f\"Training Finished, took {round(time.time() - training_start_time,1)}s\")\n",
    "    return train_history, accuracy_history"
   ]
  },
  {
   "cell_type": "markdown",
   "metadata": {
    "cell_id": "c72bc27cbdf24f158b03a64642764b30",
    "deepnote_cell_type": "text-cell-h2",
    "is_collapsed": false,
    "tags": []
   },
   "source": [
    "## Our Models"
   ]
  },
  {
   "cell_type": "markdown",
   "metadata": {},
   "source": [
    "### Conv Net"
   ]
  },
  {
   "cell_type": "code",
   "execution_count": 13,
   "metadata": {
    "cell_id": "00006-7fe6daab-7d99-4085-8da2-aace175e2d75",
    "deepnote_cell_height": 783,
    "deepnote_cell_type": "code",
    "deepnote_to_be_reexecuted": false,
    "execution_millis": 0,
    "execution_start": 1648410283631,
    "id": "-AJhum8iOKx8",
    "source_hash": "ca0d5a43"
   },
   "outputs": [],
   "source": [
    "class ConvNN(nn.Module):\n",
    "    def __init__(self):\n",
    "        super(ConvNN, self).__init__()\n",
    "\n",
    "        # Input image is size 1024x1024\n",
    "        self.conv1 = nn.Conv2d(3, 64, kernel_size=6, stride=2, padding=0) # output is 510x510\n",
    "        #torch.nn.init.xavier_uniform_(self.conv1.weight)\n",
    "        self.batchN = nn.BatchNorm2d(64)\n",
    "        \n",
    "        self.pool1 = nn.MaxPool2d(kernel_size=2, stride=2, padding=0) # output is 255x255\n",
    "        \n",
    "        self.conv2 = nn.Conv2d(64, 128, kernel_size=3, stride=2, padding=1) # output is 128x128\n",
    "        #torch.nn.init.xavier_uniform_(self.conv2.weight)\n",
    "        self.batchN2 = nn.BatchNorm2d(128)\n",
    "        \n",
    "        self.pool2 = nn.MaxPool2d(kernel_size=2, stride=2, padding=0) # output is 64x64\n",
    "        \n",
    "        self.conv3 = nn.Conv2d(128, 128, kernel_size=3, stride=2, padding=0) # output is 31x31\n",
    "        #torch.nn.init.xavier_uniform_(self.conv2.weight)\n",
    "        self.batchN3 = nn.BatchNorm2d(128)\n",
    "\n",
    "        self.fc1 = nn.Linear(128 * 31 * 31, 5)\n",
    "\n",
    "    def forward(self, x):\n",
    "\n",
    "        x = self.conv1(x)\n",
    "        x = self.batchN(x)\n",
    "        x = F.relu(x)\n",
    "        x = self.pool1(x)\n",
    "        x = self.conv2(x)\n",
    "        x = self.batchN2(x)\n",
    "        x = F.relu(x)\n",
    "        x = self.conv3(x)\n",
    "        x = self.batchN3(x)\n",
    "        x = F.relu(x)\n",
    "        x = self.pool2(x)\n",
    "        # flatten tensor\n",
    "        x = x.view(x.size()[0], -1)\n",
    "\n",
    "        x = self.fc1(x)\n",
    "\n",
    "        return x"
   ]
  },
  {
   "cell_type": "markdown",
   "metadata": {},
   "source": [
    "### ResNet"
   ]
  },
  {
   "cell_type": "code",
   "execution_count": 14,
   "metadata": {
    "cell_id": "1138c8426ff44608ad112142f692d7af",
    "deepnote_cell_height": 567,
    "deepnote_cell_type": "code",
    "deepnote_to_be_reexecuted": false,
    "execution_millis": 1,
    "execution_start": 1648410283652,
    "source_hash": "99529ab",
    "tags": []
   },
   "outputs": [],
   "source": [
    "class ResNetBlock(nn.Module):\n",
    "    def __init__(self, depth_in, activation_func, depth_out=-1):\n",
    "        super().__init__()\n",
    "        self.downSampleResidul = True\n",
    "        if depth_out == -1:\n",
    "            depth_out = depth_in\n",
    "            self.downSampleResidul = False\n",
    "\n",
    "        self.resBlock = nn.Sequential(\n",
    "            nn.BatchNorm2d(depth_in),\n",
    "            activation_func(inplace=True),\n",
    "            nn.Conv2d(depth_in, depth_out, kernel_size=3, padding=1, stride=1 if not self.downSampleResidul else 2, bias=False),\n",
    "            nn.BatchNorm2d(depth_out),\n",
    "            activation_func(inplace=True),\n",
    "            nn.Conv2d(depth_out, depth_out, kernel_size=3, padding=1, bias=False)\n",
    "        )\n",
    "\n",
    "        self.downsampleRes = nn.Sequential(\n",
    "            nn.BatchNorm2d(depth_in),\n",
    "            activation_func(inplace=True),\n",
    "            nn.Conv2d(depth_in, depth_out, kernel_size=1, stride=2, bias=False)\n",
    "        )\n",
    "\n",
    "    def forward(self, x):\n",
    "        z = self.resBlock(x)\n",
    "        if self.downSampleResidul:\n",
    "            x = self.downsampleRes(x)\n",
    "        return z + x"
   ]
  },
  {
   "cell_type": "code",
   "execution_count": 15,
   "metadata": {
    "cell_id": "3fdfcc12209f46fca0bdb857715a708b",
    "deepnote_cell_height": 927,
    "deepnote_cell_type": "code",
    "deepnote_to_be_reexecuted": false,
    "execution_millis": 0,
    "execution_start": 1648410283653,
    "source_hash": "6feae1a5",
    "tags": []
   },
   "outputs": [],
   "source": [
    "class DeepGraspResNet(nn.Module):\n",
    "    def __init__(self, mode = 'train'):\n",
    "        super(DeepGraspResNet, self).__init__()\n",
    "        # self.classificationMode = classificationMode\n",
    "        #in = 1024 x 1024\n",
    "        self.block1 = nn.Sequential(\n",
    "            nn.Conv2d(3, 16, kernel_size=3, stride=2, padding=0), #out = 511x511\n",
    "            nn.SiLU(inplace=True),\n",
    "            nn.BatchNorm2d(16),\n",
    "            # nn.Dropout(0.3),\n",
    "            nn.Conv2d(16, 32, kernel_size=3, stride=1, padding=0), #out = 509x509\n",
    "            nn.SiLU(inplace=True),\n",
    "            nn.BatchNorm2d(32),\n",
    "            # nn.Dropout(0.3),\n",
    "            nn.Conv2d(32, 32, kernel_size=3, stride=1, padding=0), #out = 507x507\n",
    "            nn.SiLU(inplace=True),\n",
    "            nn.BatchNorm2d(32),\n",
    "            nn.Conv2d(32, 32, kernel_size=3, stride=2, padding=0) #out = 253x253\n",
    "            # nn.MaxPool2d(kernel_size=3, stride=2, padding=0) #out = 253x253\n",
    "        )\n",
    "\n",
    "        self.block2 = ResNetBlock(32, nn.SiLU, 64)      #out = 127x127\n",
    "        self.block3 = ResNetBlock(64, nn.SiLU, 128)     #out = 64x64\n",
    "        self.block4 = ResNetBlock(128, nn.SiLU, 256)    #out = 32x32\n",
    "        self.block5 = ResNetBlock(256, nn.SiLU, 256)    #out = 16x16\n",
    "\n",
    "        self.pool = nn.MaxPool2d(kernel_size=2, stride=2, padding=0)  #out = 8x8\n",
    "        # self.pool = nn.AdaptiveAvgPool2d((4,4))\n",
    "        self.flattened_size = 256 * 8 * 8\n",
    "\n",
    "        self.featureExtractionBlock = nn.Sequential(\n",
    "            self.block1, \n",
    "            self.block2, \n",
    "            self.block3, \n",
    "            self.block4, \n",
    "            self.block5\n",
    "        )\n",
    "\n",
    "        self.regressionBlock = nn.Sequential(\n",
    "            nn.Dropout(0.3),\n",
    "            nn.Linear(self.flattened_size, 1024),\n",
    "            nn.Dropout(0.2),\n",
    "            nn.SiLU(inplace=True),\n",
    "            nn.Linear(1024, 5 if mode == 'train' else 1000),\n",
    "        )\n",
    "        # self.classification = nn.SoftMax()\n",
    "\n",
    "    def forward(self, x):\n",
    "        x = self.featureExtractionBlock(x)\n",
    "        x = self.pool(x)\n",
    "        x = x.view(-1, self.flattened_size)\n",
    "        x = self.regressionBlock(x)\n",
    "        # if self.classificationMode:\n",
    "        #     x = self.classification(x)\n",
    "        return x"
   ]
  },
  {
   "cell_type": "markdown",
   "metadata": {},
   "source": [
    "### Pretrained resNet"
   ]
  },
  {
   "cell_type": "code",
   "execution_count": null,
   "metadata": {},
   "outputs": [],
   "source": [
    "import torchvision.models as models\n",
    "def get_pre_trained_model():\n",
    "    model = models.resnet18(pretrained=True)\n",
    "    model.fc = nn.Linear(512, 5)\n",
    "    return model"
   ]
  },
  {
   "cell_type": "markdown",
   "metadata": {},
   "source": [
    "## Test Networks"
   ]
  },
  {
   "cell_type": "code",
   "execution_count": 27,
   "metadata": {
    "cell_id": "00013-ace27dd5-0202-493a-906d-789a3862f4ab",
    "colab": {
     "base_uri": "https://localhost:8080/",
     "height": 424,
     "referenced_widgets": [
      "854fbd5bd2404a97be63cc97248e2fef",
      "dd6a0a9d6c4d40d2b60f43a4d66a7d4c",
      "e2824d739c9c45048cc04ebb8df7e1a5",
      "a4967bb38bff4ba290cf633287df458f",
      "9e3ce0ea7cb345768f6f2c47c5cf4b63",
      "8df53722f68f42db84dfd859325e8e38",
      "da2b436fa02346a8b9be4b31d09fbafb",
      "0adc0f07ff854211b9927aee7c79354a",
      "f011aab37915479abd7832919d2b23aa",
      "5b77c217c68d4077bd9de0a8de6f9a71",
      "f3ca2c0484624958b1727a9ce68efc1b",
      "b949da651c2942a9bb0c7aaba07d9ead",
      "2fa91956785645af9036ddfb9f28a7a8",
      "56cf2724dfe44c3b9f2ebf33d9948465",
      "b30ef01e6b5443618e94675b59bbbde5",
      "d1ea92d7b3f94867ab354b319252e2ee",
      "2ee62f3f839549779c02287fbea68037",
      "b3cc36d51ec74f649b34dfc124cd896a",
      "921d8c5322be4700a70eccb0294f0bce",
      "fc1b0dc58d8c4cd29e04b7e7f6f38cfd",
      "6a93f8d982614566a17cc0d6a03b3302",
      "7ec7b8a052cc4a39aa0ca6f774142700",
      "cc93e23d4cba4378863a5441c6dfe794",
      "2b5111fff8d44325879618016e277d43",
      "1fa5d3edb8af4909b3f5160c810e5a74",
      "3103c4937f8c4cb3ad0e644efcecb217",
      "9e5277821d4445e1b0e5626a3268f739",
      "4d18c7d8fd2d484bb36548e9d2034c29",
      "a81a6e2aac2f4838ac0d77b5369e00bc",
      "f98cb2c8e3bc434095c61991b4b7f229",
      "79a4fadc99e74cd597961ed889c35e95",
      "a3aa20d878f846269226fb320045edaa",
      "6e49ccaa0b244e488767c04ae4ba9bf9",
      "0cf9120e45744ebf8a3d57540a5ed558",
      "2b4b2db77a0746c39a02225fd4105a2b",
      "3f4166da035e41c09851b1b80b402bd2",
      "d58e111bd6a34de59fcd3c082d0a4738",
      "49480b3349cb4de697a0a0f6a11e196a",
      "4524102635a540f2b4b1e6a48792b620",
      "5bdfdc87b6f74d7e92014888d906d578",
      "f0d5298e858a468595da28931f0fd75f",
      "709e08099b3445a5a14b9bc62d7bba30",
      "1c235e0d75e3452c88986d0a112ac752",
      "d4b48e520ac7460682ae9a4c77afd65e",
      "3e8f2818f301404ca2cc9d62ab846ce8",
      "74140e0187b14bf59ea03b3baa647f91",
      "1787b01d530b467a8ac2180642e30239",
      "c69130d0123b4f419f32ed693cae3673",
      "288a77b5e20b45c8abef01adc1900c9d",
      "15db26d3e8a54de4803bbc95effcf61c",
      "2a303503f59d455585c36fe1013db6a3",
      "7be8a899c7a540f1aef188cef1d66976",
      "80f464d13e6747189e553a249c6b35c8",
      "921a622e541b41698bf6a6aae73621e5",
      "f6ca88ec1fdf4d09ab4803b08492918f",
      "a116c60af8f2426882f2faab81e7ce39",
      "f184af38b5294af09981694663379dd0",
      "259e2df1d0a34ef69ae4d98c5bed0c34",
      "5e8950d9266a43218d5b3a69dcc59361",
      "1974bf2daa3345b792089cc5a5e734c4",
      "4af3d340e29d47a6b6f6fac6fcac9abd",
      "9c99b342668547b0a71345a9a7cea9a0",
      "a5c4f775e5e64da1b6888eccfa1cce34",
      "d618755c04ec4d458e62240b9489fd7f",
      "278bb267c9a341468e28bb940db10eb2",
      "dd3d6db3e0bf4613bd38a8c705a867ad",
      "3e7085ab976b414a846f593be5824b71",
      "578cb900b1064ddc8ca17a14d7f7bafd",
      "d505d4bcc9cf4d7487e07bfd7fc81ce7",
      "7a452021fd2146b69956765b42539181",
      "48c985ba585a45f9955e7fb473c5dcba",
      "57c767a0ac3245f2b7a5689d73690172",
      "4a4197eab1434d2590c9e0e083bdf99c",
      "500c4d2b12db48a7b77231fd98dda558",
      "880aad375b6540e6a202c49da7564ba2",
      "9c181319fb424298926b94e107bc4690",
      "0d84be40649541c2a8a1ee656ce9b665",
      "16bd01a4cdda4ea1ac4e1cc946173bab",
      "b8e1d5f5b2d84beb9cfee8573fb21150",
      "df89ae86bb3647ea8a8230c5131f5519",
      "a2b5a0661d5e4bf3bb765e57b83be896",
      "855529dc6066418484eafa4a34f6be35",
      "8e8a9a2514a04f3d942e81f1200ed173",
      "0211d0ea4100459aad8f3951f276345a",
      "60561af7bfe74d73a1ca036c33cea633",
      "2c24722941bc43599de90be6260f8ae7",
      "ce957593823846859893e780deb22860",
      "d8dd8e837ccf444e90b9833ecba69336",
      "abc7e1277f4b4e9e8743574b89f6d97e",
      "7e92b44aeef64b0da7d46df4e05269d0",
      "799a3fc6fad444dda70a3ad7d422b235",
      "1103148145fb4afd89f67782db325a9c",
      "bb5e4669270e4e1c8c8fc93be69d7f3b",
      "d7a10b50fda8465d9cec5c5be6932d52",
      "6d7185a3dfb84ef09a30815a2ac72df7",
      "3aec3aea81fb41da98d37f79ae4caf20",
      "8a260ff506be4334831ef536b491cbfb",
      "595b56988090460a9bedb7d68fb781c0",
      "941181d1189247f29efd3a456a9fe576",
      "d70700c7078c4806a0353fc86af30aef",
      "d3be34085d414fb1bb2c33662b214f8c",
      "c3928a31f38a4adb9a4bed3b792643c1",
      "aceeafe6c1904bcc9b11cdb887c60e41",
      "dcab21f9d1134b2a9c2bda98b7ca5671",
      "3bf1a8caff91472bb1277139f915bbb6",
      "7be75390bffb429f9b219267fed19989",
      "f0632671cebf4dea801d3c3eda5cb24e",
      "18e907d631624b5e8c80d5de22e18873",
      "e8adead945d742e3b884b35d0f496999",
      "d1865f59b8be4be4a000148c60d65bbb"
     ]
    },
    {
     "name": "stdout",
     "output_type": "stream",
     "text": [
      "batch size: 16\n",
      "n epochs: 20\n",
      "learning rate: 0.01\n",
      "====================\n"
     ]
    },
    {
     "data": {
      "application/vnd.jupyter.widget-view+json": {
       "model_id": "7d3ed4e4b36a46f6a6ab84f7414555b3",
       "version_major": 2,
       "version_minor": 0
      },
      "text/plain": [
       "  0%|          | 0/189 [00:00<?, ?batch/s]"
      ]
     },
     "metadata": {},
     "output_type": "display_data"
    }
   ],
   "source": [
    "network = 'DeepResNet' # choices are 'DeepResNet' or 'Conv'\n",
    "mode = 'train' # choices are 'pretrain' or 'train'\n",
    "\n",
    "torch.cuda.empty_cache()\n",
    "\n",
    "if network == 'DeepResNet':\n",
    "  resize = None # (1047, 1047)\n",
    "  BATCH_SIZE = 16\n",
    "  EPOCHS = 20\n",
    "  LEARNING_RATE = 0.01\n",
    "  nnet = DeepGraspResNet(mode=mode)\n",
    "  if mode == 'pretrain':\n",
    "    resize = (1024, 1024)\n",
    "    EPOCHS = 10\n",
    "  # nnet = nn.DistributedDataParallel(nnet)\n",
    "  # device = torch.device(\"cuda\" if torch.cuda.is_available() else \"cpu\")\n",
    "elif network == 'Conv':\n",
    "  resize = None\n",
    "  BATCH_SIZE = 4\n",
    "  EPOCHS = 8\n",
    "  LEARNING_RATE = 0.001\n",
    "  nnet = ConvNN()\n",
    "elif network == 'PreTrainedResNet':\n",
    "  nnet = get_pre_trained_model()\n",
    "  BATCH_SIZE = 8\n",
    "  EPOCHS = 30\n",
    "  LEARNING_RATE = 0.000001\n",
    "\n",
    "train_loss, train_acc = train(nnet, BATCH_SIZE, EPOCHS, LEARNING_RATE, resize=resize, mode=mode)"
   ]
  },
  {
   "cell_type": "code",
   "execution_count": null,
   "metadata": {},
   "outputs": [],
   "source": [
    "def learning_rate_search(lrs):\n",
    "    results = {}\n",
    "    for lr in lrs:\n",
    "        train_loss, train_acc = train(nnet, BATCH_SIZE, EPOCHS, lr, resize=resize, mode=mode)\n",
    "        results[lr] = (train_loss, train_acc)\n",
    "    return results\n",
    "lrResults = learning_rate_search([0.1, 0.01, 0.001, 0.0001, 0.00001])"
   ]
  },
  {
   "cell_type": "markdown",
   "metadata": {
    "cell_id": "56445f7c0ccb40fd91752ed5276d3936",
    "deepnote_cell_type": "text-cell-h3",
    "is_collapsed": false,
    "tags": []
   },
   "source": [
    "### loss and accuracy plots"
   ]
  },
  {
   "cell_type": "code",
   "execution_count": 26,
   "metadata": {
    "cell_id": "00015-de286b2a-7da2-4aa4-aa95-a61ac30fafc3",
    "colab": {
     "base_uri": "https://localhost:8080/",
     "height": 410
    },
    {
     "data": {
      "image/png": "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",
      "text/plain": [
       "<Figure size 576x432 with 1 Axes>"
      ]
     },
     "metadata": {},
     "output_type": "display_data"
    },
    {
     "data": {
      "image/png": "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",
      "text/plain": [
       "<Figure size 576x432 with 1 Axes>"
      ]
     },
     "metadata": {},
     "output_type": "display_data"
    }
   ],
   "source": [
    "plot_epochs(train_loss[1:])\n",
    "plot_epochs(train_acc, plotType=\"accuracy\")"
   ]
  },
  {
   "cell_type": "code",
   "execution_count": null,
   "metadata": {},
   "outputs": [],
   "source": []
  }
 ],
 "metadata": {
  "accelerator": "GPU",
  "colab": {
   "collapsed_sections": [],
   "name": "assignment1.ipynb",
   "provenance": []
  },
  "deepnote": {},
  "deepnote_execution_queue": [],
  "deepnote_notebook_id": "fd2d20f4-5301-458e-8e62-af75bc6e110a",
  "kernelspec": {
   "display_name": "Python [conda env:.conda-torch] *",
   "language": "python",
   "name": "conda-env-.conda-torch-py"
  },
  "language_info": {
   "codemirror_mode": {
    "name": "ipython",
    "version": 3
   },
   "file_extension": ".py",
   "mimetype": "text/x-python",
   "name": "python",
   "nbconvert_exporter": "python",
   "pygments_lexer": "ipython3",
   "version": "3.9.7"
  },
  "orig_nbformat": 4,
  "widgets": {
   "application/vnd.jupyter.widget-state+json": {
    "0211d0ea4100459aad8f3951f276345a": {
     "model_module": "@jupyter-widgets/controls",
     "model_module_version": "1.5.0",
     "model_name": "DescriptionStyleModel",
     "state": {
      "_model_module": "@jupyter-widgets/controls",
      "_model_module_version": "1.5.0",
      "_model_name": "DescriptionStyleModel",
      "_view_count": null,
      "_view_module": "@jupyter-widgets/base",
      "_view_module_version": "1.2.0",
      "_view_name": "StyleView",
      "description_width": ""
     }
    },
    "0adc0f07ff854211b9927aee7c79354a": {
     "model_module": "@jupyter-widgets/base",
     "model_module_version": "1.2.0",
     "model_name": "LayoutModel",
     "state": {
      "_model_module": "@jupyter-widgets/base",
      "_model_module_version": "1.2.0",
      "_model_name": "LayoutModel",
      "_view_count": null,
      "_view_module": "@jupyter-widgets/base",
      "_view_module_version": "1.2.0",
      "_view_name": "LayoutView",
      "align_content": null,
      "align_items": null,
      "align_self": null,
      "border": null,
      "bottom": null,
      "display": null,
      "flex": null,
      "flex_flow": null,
      "grid_area": null,
      "grid_auto_columns": null,
      "grid_auto_flow": null,
      "grid_auto_rows": null,
      "grid_column": null,
      "grid_gap": null,
      "grid_row": null,
      "grid_template_areas": null,
      "grid_template_columns": null,
      "grid_template_rows": null,
      "height": null,
      "justify_content": null,
      "justify_items": null,
      "left": null,
      "margin": null,
      "max_height": null,
      "max_width": null,
      "min_height": null,
      "min_width": null,
      "object_fit": null,
      "object_position": null,
      "order": null,
      "overflow": null,
      "overflow_x": null,
      "overflow_y": null,
      "padding": null,
      "right": null,
      "top": null,
      "visibility": null,
      "width": null
     }
    },
    "0cf9120e45744ebf8a3d57540a5ed558": {
     "model_module": "@jupyter-widgets/controls",
     "model_module_version": "1.5.0",
     "model_name": "HBoxModel",
     "state": {
      "_dom_classes": [],
      "_model_module": "@jupyter-widgets/controls",
      "_model_module_version": "1.5.0",
      "_model_name": "HBoxModel",
      "_view_count": null,
      "_view_module": "@jupyter-widgets/controls",
      "_view_module_version": "1.5.0",
      "_view_name": "HBoxView",
      "box_style": "",
      "children": [
       "IPY_MODEL_2b4b2db77a0746c39a02225fd4105a2b",
       "IPY_MODEL_3f4166da035e41c09851b1b80b402bd2",
       "IPY_MODEL_d58e111bd6a34de59fcd3c082d0a4738"
      ],
      "layout": "IPY_MODEL_49480b3349cb4de697a0a0f6a11e196a"
     }
    },
    {
      "cell_type": "markdown",
      "metadata": {
        "cell_id": "d3371b98962b479ca0dc2735c1c0aab0",
        "deepnote_cell_type": "text-cell-h3",
        "is_collapsed": false,
        "tags": [],
        "id": "A78MA6vR5BYg"
      },
      "source": [
        "### Lets look at an image"
      ]
    },
    {
      "cell_type": "code",
      "execution_count": 41,
      "metadata": {
        "cell_id": "00004-9d85998a-391f-4e3f-95d1-18b47a34c9d0",
        "deepnote_cell_height": 297,
        "deepnote_cell_type": "code",
        "deepnote_to_be_reexecuted": false,
        "execution_millis": 0,
        "execution_start": 1648410282337,
        "id": "x61DkC3lvDzT",
        "source_hash": "7335087d"
      },
      "outputs": [],
      "source": [
        "# functions to show an image\n",
        "def imshow(img):\n",
        "    \"\"\"\n",
        "    :param img: (PyTorch Tensor)\n",
        "    \"\"\"\n",
        "    # unnormalize\n",
        "    img = img / 2 + 0.5     \n",
        "    # Convert tensor to numpy array\n",
        "    npimg = img.numpy()\n",
        "    # Color channel first -> color channel last\n",
        "    npimg = np.transpose(npimg, (1, 2, 0))\n",
        "    \n",
        "    plt.imshow(npimg)"
      ]
    },
    {
      "cell_type": "code",
      "execution_count": 42,
      "metadata": {
        "cell_id": "00005-2894ac23-7ab0-42e6-b4ff-a9df42b252b5",
        "colab": {
          "base_uri": "https://localhost:8080/",
          "height": 272
        },
        "deepnote_cell_height": 570,
        "deepnote_cell_type": "code",
        "deepnote_output_heights": [
          257
        ],
        "deepnote_to_be_reexecuted": false,
        "execution_millis": 1234,
        "execution_start": 1648410282338,
        "id": "UMna7vFPf8v7",
        "outputId": "766b03f1-6bc1-45d7-d9c0-d3887efb93f9",
        "source_hash": "a8f42bcf"
      },
      "outputs": [
        {
          "output_type": "display_data",
          "data": {
            "text/plain": [
              "<Figure size 432x288 with 1 Axes>"
            ],
            "image/png": "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\n"
          },
          "metadata": {}
        }
      ],
      "source": [
        "# Show off the dataset\n",
        "index = 4\n",
        "\n",
        "dataset = GraspDataset(DATASET_PATH + \"/training\")\n",
        "loader = td.DataLoader(dataset, batch_size=4, shuffle=False, drop_last=False, num_workers=2)\n",
        "batch = next(iter(loader))\n",
        "imshow(batch[0][index%4])\n",
        "\n",
        "\n",
        "# print(\"grasp:\", batch[2][index])\n",
        "# print(\"depth:\", batch[1][index])\n",
        "\n"
      ]
    },
    {
      "cell_type": "markdown",
      "metadata": {
        "cell_id": "71ab9baff04e49c1ad903e70e97d5d66",
        "deepnote_cell_type": "text-cell-h2",
        "is_collapsed": false,
        "tags": [],
        "id": "VDm0bNGF5BYi"
      },
      "source": [
        "## Boilerplate Code"
      ]
    },
    {
      "cell_type": "markdown",
      "metadata": {
        "cell_id": "c7c5f3e2fb3443cc91ae06d3001ae8e2",
        "deepnote_cell_type": "text-cell-h3",
        "is_collapsed": false,
        "tags": [],
        "id": "pH6gB0yZ5BYi"
      },
      "source": [
        "### helpers"
      ]
    },
    {
      "cell_type": "code",
      "execution_count": 43,
      "metadata": {
        "cell_id": "00014-081b308a-c665-423b-8944-82f039a24f2a",
        "deepnote_cell_height": 315,
        "deepnote_cell_type": "code",
        "deepnote_to_be_reexecuted": false,
        "execution_millis": 0,
        "execution_start": 1648410283604,
        "id": "9yRDLP48OKx3",
        "source_hash": "3e818651"
      },
      "outputs": [],
      "source": [
        "colors = [[31, 120, 180], [51, 160, 44]]\n",
        "colors = [(r / 255, g / 255, b / 255) for (r, g, b) in colors]\n",
        "\n",
        "def plot_epochs(train_history, validation_history=None, plotType=\"loss\"):\n",
        "    x = np.arange(1, len(train_history) + 1)\n",
        "    plt.figure(figsize=(8, 6))\n",
        "    if validation_history:\n",
        "        plt.plot(x, val_history, color=colors[1], label=f\"Validation {plotType}\", linewidth=2)\n",
        "    plt.plot(x, train_history, color=colors[0], label=f\"Training {plotType}\", linewidth=2)\n",
        "    plt.ylabel(f'{plotType}')\n",
        "    plt.xlabel('Epoch')\n",
        "    plt.legend(loc='upper right')\n",
        "    plt.title(f\"Evolution of the training and validation {plotType}\")\n",
        "    plt.show()"
      ]
    },
    {
      "cell_type": "code",
      "execution_count": 44,
      "metadata": {
        "cell_id": "00007-c5dd868e-efaa-495f-9d94-d10d26ffa36c",
        "deepnote_cell_height": 153,
        "deepnote_cell_type": "code",
        "deepnote_to_be_reexecuted": false,
        "execution_millis": 4,
        "execution_start": 1648471834552,
        "id": "JD85qwRvOKx4",
        "source_hash": "5e1bf912"
      },
      "outputs": [],
      "source": [
        "def get_cnn_output_size(in_size, kernel_size, stride=1, padding=0):\n",
        "    integer = int((in_size - kernel_size + 2 * padding) / stride) == ((in_size - kernel_size + 2 * padding) / stride)\n",
        "    if not integer:\n",
        "        print(\"not int\", ((in_size - kernel_size + 2 * padding) / stride))\n",
        "    return int((in_size - kernel_size + 2 * padding) / stride) + 1"
      ]
    },
    {
      "cell_type": "code",
      "execution_count": 45,
      "metadata": {
        "cell_id": "00008-39ed4c93-deff-4fb9-bbc2-168c4973ac86",
        "colab": {
          "base_uri": "https://localhost:8080/"
        },
        "deepnote_cell_height": 164,
        "deepnote_cell_type": "code",
        "deepnote_output_heights": [
          21,
          21
        ],
        "deepnote_to_be_reexecuted": false,
        "execution_millis": 217,
        "execution_start": 1648472019236,
        "id": "RcKas80MOKx8",
        "outputId": "e97e6310-cf24-4fd0-8798-c0e401c0d2c5",
        "source_hash": "b986b29d"
      },
      "outputs": [
        {
          "output_type": "stream",
          "name": "stdout",
          "text": [
            "not int 30.5\n"
          ]
        },
        {
          "output_type": "execute_result",
          "data": {
            "text/plain": [
              "31"
            ]
          },
          "metadata": {},
          "execution_count": 45
        }
      ],
      "source": [
        "get_cnn_output_size(64, kernel_size=3, stride=2, padding=0)"
      ]
    },
    {
      "cell_type": "markdown",
      "metadata": {
        "cell_id": "b67a576736304490a68eea06d251349b",
        "deepnote_cell_type": "text-cell-h3",
        "is_collapsed": false,
        "tags": [],
        "id": "tTfTQ4ET5BYj"
      },
      "source": [
        "### loss and optimisers"
      ]
    },
    {
      "cell_type": "code",
      "execution_count": 46,
      "metadata": {
        "cell_id": "00009-15cb4d78-fd6d-41d2-8b78-6714f62c138e",
        "deepnote_cell_height": 189,
        "deepnote_cell_type": "code",
        "deepnote_to_be_reexecuted": false,
        "execution_millis": 1,
        "execution_start": 1648410283610,
        "id": "4SzI9dlCOKx6",
        "source_hash": "9f3fb0a6"
      },
      "outputs": [],
      "source": [
        "def getLoss():\n",
        "    return nn.MSELoss()\n",
        "\n",
        "def getOptimiser(model, learningRate):\n",
        "    #optimiser = optim.SGD(model.parameters(), lr=learning_rate, momentum=0.9)\n",
        "    optimiser = optim.Adam(model.parameters(), lr=learningRate)\n",
        "    return optimiser"
      ]
    },
    {
      "cell_type": "markdown",
      "metadata": {
        "cell_id": "644ad420d15f4c9f94f875b628aa72dd",
        "deepnote_cell_type": "text-cell-h3",
        "is_collapsed": false,
        "tags": [],
        "id": "Zj-SUcN05BYk"
      },
      "source": [
        "### Data Loaders"
      ]
    },
    {
      "cell_type": "code",
      "execution_count": 47,
      "metadata": {
        "cell_id": "00010-6ee948aa-3823-4f03-b77d-81fba404cb80",
        "deepnote_cell_height": 297,
        "deepnote_cell_type": "code",
        "deepnote_to_be_reexecuted": false,
        "execution_millis": 1,
        "execution_start": 1648410283614,
        "id": "oNSAt2C3OKx5",
        "source_hash": "da9344d9"
      },
      "outputs": [],
      "source": [
        "def gen_transforms(resize=None, imgs_mean=(0.5,), imgs_std=(0.5,)):\n",
        "    tst_trans = [tv.transforms.ToTensor()]\n",
        "    if resize is not None:\n",
        "        tst_trans.append(tv.transforms.Resize(resize[0]))\n",
        "        tst_trans.append(tv.transforms.CenterCrop(resize[1]))\n",
        "    tst_trans.append(tv.transforms.Normalize(mean=imgs_mean, std=imgs_std))\n",
        "    return tv.transforms.Compose(tst_trans)\n",
        "\n",
        "def get_train_loader(batchSize, resize=None, depth_image=None):\n",
        "    transforms = gen_transforms(resize)\n",
        "    trainData = GraspDataset(root_dir=f'{DATASET_PATH}/training', transforms=transforms, depth_image=depth_image)\n",
        "    trainLoader = td.DataLoader(trainData, batch_size=batchSize, shuffle=True, drop_last=False, num_workers=2)\n",
        "    return trainLoader"
      ]
    },
    {
      "cell_type": "markdown",
      "metadata": {
        "cell_id": "a1773a7c323b4b018543d595d5ad26b8",
        "deepnote_cell_type": "text-cell-h3",
        "is_collapsed": false,
        "tags": [],
        "id": "l_SbAiQ45BYl"
      },
      "source": [
        "### Training functions"
      ]
    },
    {
      "cell_type": "markdown",
      "source": [
        "RGB Only Training"
      ],
      "metadata": {
        "id": "GT2HVpmlAskR"
      }
    },
    {
      "cell_type": "code",
      "execution_count": 48,
      "metadata": {
        "cell_id": "00012-eb3559ff-2239-4fee-91d9-8265c782624b",
        "deepnote_cell_height": 981,
        "deepnote_cell_type": "code",
        "deepnote_to_be_reexecuted": false,
        "execution_millis": 11,
        "execution_start": 1648410283619,
        "id": "m2KPusVhOKx6",
        "source_hash": "fc925ae4"
      },
      "outputs": [],
      "source": [
        "def train(model, batch_size, n_epochs, learning_rate, resize=None):\n",
        "    print(f\"batch size: {batch_size}\")\n",
        "    print(f\"n epochs: {n_epochs}\")\n",
        "    print(f\"learning rate: {learning_rate}\")\n",
        "    print(\"=\"*20)\n",
        "    \n",
        "    trainLoader = get_train_loader(batch_size, resize)\n",
        "    lossFn = getLoss()\n",
        "    optimizer = getOptimiser(model, learning_rate)\n",
        "\n",
        "    train_history = []\n",
        "    accuracy_history = []\n",
        "    training_start_time = time.time()\n",
        "    \n",
        "    model = model.to(device) # Move model to gpu\n",
        "    model.train() # Set the model to training mode (for DropOut)\n",
        "\n",
        "    for epoch in range(n_epochs):  # loop over the dataset for n_epoch\n",
        "        epoch_loss = 0\n",
        "        epoch_accuracy = 0\n",
        "        \n",
        "        with tqdm(trainLoader, unit=\"batch\") as tepoch:\n",
        "            for rgb, grasp in tepoch:   #for each batch\n",
        "                tepoch.set_description(f\"Epoch {epoch}\")\n",
        "                # Move tensors to gpu\n",
        "                rgb, grasp = rgb.to(device), grasp.to(device)\n",
        "               \n",
        "                # zero the parameter gradients\n",
        "                optimizer.zero_grad()\n",
        "\n",
        "                # forward + backward + optimize\n",
        "                outputs = model(rgb)\n",
        "                # _, predicted = outputs.argmax(dim=1, keepdim=True).squeeze()\n",
        "                #  = torch.max(outputs, 1)\n",
        "                # print('out', outputs.size(), 'targets', grasps.size())\n",
        "                # g = torch.FloatTensor(grasp.cpu().numpy()).to(device)\n",
        "                loss = lossFn(outputs,  grasp)\n",
        "                loss.backward()\n",
        "                optimizer.step()\n",
        "                # add to running totals\n",
        "                epoch_loss += loss.item()\n",
        "                with torch.no_grad():\n",
        "                    accs = grasp_accuracy(outputs.cpu().numpy(), grasp.cpu().numpy())\n",
        "                    epoch_accuracy += accs\n",
        "        epoch_loss = epoch_loss / len(trainLoader)\n",
        "        # print(f\"Epoch #{epoch + 1} train_loss: {round(epoch_loss,2)} accuracy: {round(epoch_accuracy,1)}% took: {round(time.time() - start_time,2)}s\") \n",
        "        train_history.append(epoch_loss)\n",
        "        accuracy_history.append(epoch_accuracy/len(trainLoader))\n",
        "        \n",
        "    print(f\"Training Finished, took {round(time.time() - training_start_time,1)}s\")\n",
        "    return train_history, accuracy_history"
      ]
    },
    {
      "cell_type": "markdown",
      "source": [
        "RGB + Depth Training"
      ],
      "metadata": {
        "id": "fUrbib5CAvus"
      }
    },
    {
      "cell_type": "code",
      "source": [
        "def train_depth(model, batch_size, n_epochs, learning_rate, resize=None):\n",
        "    print(f\"batch size: {batch_size}\")\n",
        "    print(f\"n epochs: {n_epochs}\")\n",
        "    print(f\"learning rate: {learning_rate}\")\n",
        "    print(\"=\"*20)\n",
        "    \n",
        "    trainLoader = get_train_loader(batch_size, resize, depth_image=\"perfect\")\n",
        "    lossFn = getLoss()\n",
        "    optimizer = getOptimiser(model, learning_rate)\n",
        "\n",
        "    train_history = []\n",
        "    accuracy_history = []\n",
        "    training_start_time = time.time()\n",
        "    \n",
        "    model = model.to(device) # Move model to gpu\n",
        "    model.train() # Set the model to training mode (for DropOut)\n",
        "\n",
        "    for epoch in range(n_epochs):  # loop over the dataset for n_epoch\n",
        "        epoch_loss = 0\n",
        "        epoch_accuracy = 0\n",
        "        \n",
        "        with tqdm(trainLoader, unit=\"batch\") as tepoch:\n",
        "            for rgb, depth, grasp in tepoch:   #for each batch\n",
        "                tepoch.set_description(f\"Epoch {epoch}\")\n",
        "                # Move tensors to gpu\n",
        "                rgb, depth, grasp = rgb.to(device), depth.to(device), grasp.to(device)\n",
        "               \n",
        "                # zero the parameter gradients\n",
        "                optimizer.zero_grad()\n",
        "\n",
        "                # forward + backward + optimize\n",
        "                outputs = model(rgb, depth)\n",
        "                # _, predicted = outputs.argmax(dim=1, keepdim=True).squeeze()\n",
        "                #  = torch.max(outputs, 1)\n",
        "                # print('out', outputs.size(), 'targets', grasps.size())\n",
        "                # g = torch.FloatTensor(grasp.cpu().numpy()).to(device)\n",
        "                loss = lossFn(outputs,  grasp)\n",
        "                loss.backward()\n",
        "                optimizer.step()\n",
        "                # add to running totals\n",
        "                epoch_loss += loss.item()\n",
        "                with torch.no_grad():\n",
        "                    accs = grasp_accuracy(outputs.cpu().numpy(), grasp.cpu().numpy())\n",
        "                    epoch_accuracy += accs\n",
        "        epoch_loss = epoch_loss / len(trainLoader)\n",
        "        # print(f\"Epoch #{epoch + 1} train_loss: {round(epoch_loss,2)} accuracy: {round(epoch_accuracy,1)}% took: {round(time.time() - start_time,2)}s\") \n",
        "        train_history.append(epoch_loss)\n",
        "        accuracy_history.append(epoch_accuracy/len(trainLoader))\n",
        "        \n",
        "    print(f\"Training Finished, took {round(time.time() - training_start_time,1)}s\")\n",
        "    return train_history, accuracy_history"
      ],
      "metadata": {
        "id": "UISOKiJ5AnWD"
      },
      "execution_count": 49,
      "outputs": []
    },
    {
      "cell_type": "markdown",
      "metadata": {
        "cell_id": "c72bc27cbdf24f158b03a64642764b30",
        "deepnote_cell_type": "text-cell-h2",
        "is_collapsed": false,
        "tags": [],
        "id": "ewLO4phy5BYl"
      },
      "source": [
        "## Our Models"
      ]
    },
    {
      "cell_type": "markdown",
      "source": [
        "RGB Only Models"
      ],
      "metadata": {
        "id": "phmmbO6Tv89E"
      }
    },
    {
      "cell_type": "code",
      "execution_count": 50,
      "metadata": {
        "cell_id": "1138c8426ff44608ad112142f692d7af",
        "deepnote_cell_height": 567,
        "deepnote_cell_type": "code",
        "deepnote_to_be_reexecuted": false,
        "execution_millis": 1,
        "execution_start": 1648410283652,
        "source_hash": "99529ab",
        "tags": [],
        "id": "0Vy2iute5BYm"
      },
      "outputs": [],
      "source": [
        "class ResNetBlock(nn.Module):\n",
        "    def __init__(self, depth_in, activation_func, depth_out=-1):\n",
        "        super().__init__()\n",
        "        if depth_out == -1:\n",
        "            depth_out = depth_in\n",
        "        else:\n",
        "            self.downSampleResidul = True\n",
        "\n",
        "        self.resBlock = nn.Sequential(\n",
        "            nn.BatchNorm2d(depth_in),\n",
        "            activation_func(),\n",
        "            nn.Conv2d(depth_in, depth_out, kernel_size=3, padding=1, stride=1 if not self.downSampleResidul else 2, bias=False),\n",
        "            nn.BatchNorm2d(depth_out),\n",
        "            activation_func(),\n",
        "            nn.Conv2d(depth_out, depth_out, kernel_size=3, padding=1, bias=False)\n",
        "        )\n",
        "\n",
        "        self.downsampleRes = nn.Sequential(\n",
        "            nn.BatchNorm2d(depth_in),\n",
        "            activation_func(),\n",
        "            nn.Conv2d(depth_in, depth_out, kernel_size=1, stride=2, bias=False)\n",
        "        )\n",
        "\n",
        "    def forward(self, x):\n",
        "        z = self.resBlock(x)\n",
        "        if self.downSampleResidul:\n",
        "            x = self.downsampleRes(x)\n",
        "        return z + x"
      ]
    },
    {
      "cell_type": "code",
      "execution_count": 51,
      "metadata": {
        "id": "9nbacFsn5Tqd"
      },
      "outputs": [],
      "source": [
        "class DeepConvNN(nn.Module):\n",
        "    def __init__(self, applyFC=True):\n",
        "        super(DeepConvNN, self).__init__()\n",
        "        self.applyFC = applyFC\n",
        "\n",
        "        #in = 1024 x 1024\n",
        "        self.block1 = nn.Sequential(\n",
        "            nn.Conv2d(3, 16, kernel_size=3, stride=2, padding=0), #out = 511x511\n",
        "            nn.ReLU(),\n",
        "            nn.BatchNorm2d(16),\n",
        "            # nn.Dropout(0.3),\n",
        "            nn.Conv2d(16, 32, kernel_size=3, stride=1, padding=0), #out = 509x509\n",
        "            nn.ReLU(),\n",
        "            nn.BatchNorm2d(32),\n",
        "            # nn.Dropout(0.3),\n",
        "            nn.Conv2d(32, 32, kernel_size=3, stride=1, padding=0), #out = 507x507\n",
        "            nn.ReLU(),\n",
        "            nn.BatchNorm2d(32),\n",
        "            nn.Conv2d(32, 32, kernel_size=3, stride=2, padding=0) #out = 253x253\n",
        "            # nn.MaxPool2d(kernel_size=3, stride=2, padding=0) #out = 253x253\n",
        "        )\n",
        "\n",
        "        self.block2 = ResNetBlock(32, nn.SiLU, 64)      #out = 127x127\n",
        "        self.block3 = ResNetBlock(64, nn.SiLU, 128)     #out = 64x64\n",
        "        self.block4 = ResNetBlock(128, nn.SiLU, 256)    #out = 32x32\n",
        "        self.block5 = ResNetBlock(256, nn.SiLU, 256)    #out = 16x16\n",
        "\n",
        "        self.pool = nn.MaxPool2d(kernel_size=2, stride=2, padding=0)\n",
        "        # self.pool = nn.AdaptiveAvgPool2d((4,4))\n",
        "        self.flattened_size = 256 * 8 * 8 #36864\n",
        "\n",
        "        self.regressionBlock = nn.Sequential(\n",
        "            nn.Dropout(0.3),\n",
        "            nn.Linear(self.flattened_size, 512),\n",
        "            nn.Dropout(0.2),\n",
        "            nn.Linear(512, 5),\n",
        "            \n",
        "            # nn.Linear(2048, 5)\n",
        "        )\n",
        "\n",
        "    def forward(self, x):\n",
        "        x = self.block1(x)\n",
        "        x = self.block2(x)\n",
        "        x = self.block3(x)\n",
        "        x = self.block4(x)\n",
        "        x = self.block5(x)\n",
        "        x = self.pool(x)\n",
        "        x = x.view(-1, self.flattened_size)\n",
        "        if not self.applyFC: return x\n",
        "        x = self.regressionBlock(x)\n",
        "        return x"
      ]
    },
    {
      "cell_type": "markdown",
      "source": [
        "RGB + Depth Model"
      ],
      "metadata": {
        "id": "NloaAju1wCed"
      }
    },
    {
      "cell_type": "code",
      "source": [
        "class DeepConvDepthNN(nn.Module):\n",
        "    def __init__(self):\n",
        "        super(DeepConvDepthNN, self).__init__()\n",
        "        self.rgb_side = DeepConvNN(applyFC=False)\n",
        "\n",
        "        #in = 1024 x 1024\n",
        "        self.block1 = nn.Sequential(\n",
        "            nn.Conv2d(1, 16, kernel_size=3, stride=2, padding=0), #out = 511x511\n",
        "            nn.ReLU(),\n",
        "            nn.BatchNorm2d(16),\n",
        "            # nn.Dropout(0.3),\n",
        "            nn.Conv2d(16, 32, kernel_size=3, stride=1, padding=0), #out = 509x509\n",
        "            nn.ReLU(),\n",
        "            nn.BatchNorm2d(32),\n",
        "            # nn.Dropout(0.3),\n",
        "            nn.Conv2d(32, 32, kernel_size=3, stride=1, padding=0), #out = 507x507\n",
        "            nn.ReLU(),\n",
        "            nn.BatchNorm2d(32),\n",
        "            nn.Conv2d(32, 32, kernel_size=3, stride=2, padding=0) #out = 253x253\n",
        "            # nn.MaxPool2d(kernel_size=3, stride=2, padding=0) #out = 253x253\n",
        "        )\n",
        "\n",
        "        self.block2 = ResNetBlock(32, nn.SiLU, 64)      #out = 127x127\n",
        "        self.block3 = ResNetBlock(64, nn.SiLU, 128)     #out = 64x64\n",
        "        self.block4 = ResNetBlock(128, nn.SiLU, 256)    #out = 32x32\n",
        "        self.block5 = ResNetBlock(256, nn.SiLU, 256)    #out = 16x16\n",
        "\n",
        "        self.pool = nn.MaxPool2d(kernel_size=2, stride=2, padding=0)\n",
        "        # self.pool = nn.AdaptiveAvgPool2d((4,4))\n",
        "        self.flattened_size = 256 * 8 * 8 #36864\n",
        "\n",
        "        self.regressionBlock = nn.Sequential(\n",
        "            nn.Dropout(0.3),\n",
        "            nn.Linear(self.flattened_size, 512),\n",
        "            nn.Dropout(0.2),\n",
        "            nn.Linear(512, 5),\n",
        "            \n",
        "            # nn.Linear(2048, 5)\n",
        "        )\n",
        "\n",
        "    def forward(self, rgb, x):\n",
        "        rgb_output = self.rgb_side(rgb)\n",
        "        x = self.block1(x)\n",
        "        x = self.block2(x)\n",
        "        x = self.block3(x)\n",
        "        x = self.block4(x)\n",
        "        x = self.block5(x)\n",
        "        x = self.pool(x)\n",
        "        x = x.view(-1, self.flattened_size)\n",
        "        torch.cat((rgb_output, x))\n",
        "        x = self.regressionBlock(x)\n",
        "        return x"
      ],
      "metadata": {
        "id": "hyOgHDSpv4O_"
      },
      "execution_count": 65,
      "outputs": []
    },
    {
      "cell_type": "markdown",
      "source": [
        "### Training the Models"
      ],
      "metadata": {
        "id": "Lx3dorFAAcSA"
      }
    },
    {
      "cell_type": "markdown",
      "source": [
        "RGB Only Model Training"
      ],
      "metadata": {
        "id": "vm01zDN-BuAY"
      }
    },
    {
      "cell_type": "code",
      "execution_count": 68,
      "metadata": {
        "cell_id": "00013-ace27dd5-0202-493a-906d-789a3862f4ab",
        "colab": {
          "base_uri": "https://localhost:8080/"
        },
        "deepnote_cell_height": 642,
        "deepnote_cell_type": "code",
        "deepnote_to_be_reexecuted": false,
        "execution_millis": 192003,
        "execution_start": 1648410283654,
        "id": "2TTKm5biOKx9",
        "outputId": "e2418e79-b8cc-493d-e505-da1b312d021a",
        "source_hash": "86fd4a0f"
      },
      "outputs": [
        {
          "output_type": "stream",
          "name": "stdout",
          "text": [
            "batch size: 4\n",
            "n epochs: 8\n",
            "learning rate: 0.001\n",
            "====================\n"
          ]
        },
        {
          "output_type": "stream",
          "name": "stderr",
          "text": [
            "Epoch 0: 100%|██████████| 8/8 [00:03<00:00,  2.49batch/s]\n",
            "Epoch 1: 100%|██████████| 8/8 [00:03<00:00,  2.61batch/s]\n",
            "Epoch 2: 100%|██████████| 8/8 [00:03<00:00,  2.63batch/s]\n",
            "Epoch 3: 100%|██████████| 8/8 [00:03<00:00,  2.61batch/s]\n",
            "Epoch 4: 100%|██████████| 8/8 [00:03<00:00,  2.65batch/s]\n",
            "Epoch 5: 100%|██████████| 8/8 [00:03<00:00,  2.65batch/s]\n",
            "Epoch 6: 100%|██████████| 8/8 [00:02<00:00,  2.68batch/s]\n",
            "Epoch 7: 100%|██████████| 8/8 [00:02<00:00,  2.67batch/s]"
          ]
        },
        {
          "output_type": "stream",
          "name": "stdout",
          "text": [
            "Training Finished, took 24.5s\n"
          ]
        },
        {
          "output_type": "stream",
          "name": "stderr",
          "text": [
            "\n"
          ]
        }
      ],
      "source": [
        "network = 'DeepConv' # choices are 'DeepConv' or 'Conv'\n",
        "\n",
        "if network == 'DeepConv':\n",
        "  resize = None # (1047, 1047)\n",
        "  BATCH_SIZE = 4\n",
        "  EPOCHS = 8\n",
        "  LEARNING_RATE = 0.001\n",
        "  nnet = DeepConvNN()\n",
        "elif network == 'Conv':\n",
        "  resize = None\n",
        "  BATCH_SIZE = 4\n",
        "  EPOCHS = 8\n",
        "  LEARNING_RATE = 0.001\n",
        "  nnet = ConvNN()\n",
        "\n",
        "train_loss, train_acc = train(nnet, BATCH_SIZE, EPOCHS, LEARNING_RATE, resize=resize)"
      ]
    },
    {
      "cell_type": "code",
      "source": [
        "plot_epochs(train_loss)\n",
        "plot_epochs(train_acc, plotType=\"accuracy\")"
      ],
      "metadata": {
        "colab": {
          "base_uri": "https://localhost:8080/",
          "height": 803
        },
        "id": "2e20YqAbE505",
        "outputId": "ed0759f3-5f99-4586-8c67-1b42ccbd35c6"
      },
      "execution_count": 69,
      "outputs": [
        {
          "output_type": "display_data",
          "data": {
            "text/plain": [
              "<Figure size 576x432 with 1 Axes>"
            ],
            "image/png": "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\n"
          },
          "metadata": {}
        },
        {
          "output_type": "display_data",
          "data": {
            "text/plain": [
              "<Figure size 576x432 with 1 Axes>"
            ],
            "image/png": "iVBORw0KGgoAAAANSUhEUgAAAgYAAAGJCAYAAADxMfswAAAABHNCSVQICAgIfAhkiAAAAAlwSFlzAAALEgAACxIB0t1+/AAAADh0RVh0U29mdHdhcmUAbWF0cGxvdGxpYiB2ZXJzaW9uMy4yLjIsIGh0dHA6Ly9tYXRwbG90bGliLm9yZy+WH4yJAAAgAElEQVR4nOzdeXhU1fnA8e/MZN+AhCwTwq7ECASCYV9UCBBKQhBFkIIrIALiVgq/2rIVbUFrKxRqKSpitSIoKjGCgMqqLIIBSdgTQvaQfZ/t/v4IGYlJYIBJZpK8n+fhITNz7pn3zJ1k3jnn3HNUiqIoCCGEEEIAalsHIIQQQgj7IYmBEEIIIcwkMRBCCCGEmSQGQgghhDCTxEAIIYQQZpIYCCGEEMJMEgNhV4KDg7l06dItHXv06FFGjx5t5Yhu7OLFi8TExBAWFsbGjRstOuZ22tkQxo4dy6FDh6xe1pYa4jVOTU0lODgYg8EAwPTp09m6datFZW/WW2+9xcsvv3zLsQpxqxxsHYBomoYPH86VK1fQaDTm+x544AEWLVrUaDEEBwfz9ddf07FjRwDCw8PZsWNHoz1/tfXr19O/f38+//zzOh+fNm0a48aNY+LEiVZ/7tTUVEaMGMGpU6dwcLj1X+cvv/yyQco2d+vXr7dKPYcOHWL+/Pns3bvXfN+sWbOsUrcQN0sSA3HL3nrrLQYNGmTrMGwuPT2dsWPH2jqMehkMhttKGoSwJnk/2j8ZShBWpdPpCA8P5+zZs+b78vLyCA0NJTc3F4CPP/6YkSNH0q9fP2bNmkVWVladdU2bNo3Nmzebb3/66ac88sgjAPz2t78FMHfhx8XFcejQIYYNG2Yuf+HCBaZNm0Z4eDhjx45l9+7d5scWLlzI0qVLmTlzJmFhYUycOJGUlJR627V7927Gjh1LeHg406ZN48KFCwA8+uijHDp0iGXLlhEWFkZSUlKN4/7+979z9OhR8+PLli0zP3bw4EFGjRpFeHg4S5cu5dpFSLds2cKYMWPo27cvTz31FGlpaXXGNXXqVAD69u1LWFgYx48f59NPP2Xy5Mm8+uqr9O/fn9WrV5OSksKjjz5K//796d+/Py+99BJFRUXmeoYPH87BgwcBWL16Nc899xy///3vCQsLY+zYsZw8efKWyp46dYrx48cTFhbGvHnzeP755/n73/9eZ1ssifHtt98mOjqae+65h+eff57Kykrz4+vXr2fIkCEMGTKELVu21PkcAHFxcUyYMKHGfRs2bDB/Q//uu+8YP348ffr04d5772X16tX11nXte9RoNLJixQr69+/PiBEj2LNnT42yn3zyCWPGjCEsLIwRI0bw0UcfAVBWVsaMGTPIzs4mLCyMsLAwsrKyWL16Nb/73e/Mx9f3HrTktbmZ1zkjI4O5c+cyYMAA+vfvX+M9+/HHH5vb8Jvf/IZTp04BtYdtFi5caD7P1b+X69atY/Dgwfzf//0fhYWFPP300wwYMIC+ffvy9NNPk5mZaT6+oKCA//u//2PIkCH07duX2bNnAxAVFcU333xjLqfX6+nfvz8JCQn1niNxCxQhbsH999+vHDhwoM7HFi5cqLzxxhvm2//973+VJ598UlEURTl48KDSr18/5eeff1YqKyuVZcuWKVOmTDGX7datm5KcnKwoiqJMnTpV+fjjj82PffLJJ8rkyZPrLKsoivLDDz8oQ4cOVRRFUXQ6nRIREaH861//UiorK5WDBw8qvXv3Vi5cuKAoiqIsWLBA6devnxIfH6/o9XrlxRdfVJ5//vk623Px4kWlV69eyv79+xWdTqesW7dOiYiIUCorK+uM89fqerxbt27KzJkzlcLCQiUtLU3p37+/smfPHkVRFGXnzp1KRESEcv78eUWv1ytr1qxRJk2aVGfdly9fVrp166bo9foar1NISIiyceNGRa/XK+Xl5UpycrKyf/9+pbKyUsnNzVWmTJmiLF++3HzMtedz1apVSo8ePZTvvvtOMRgMyuuvv65MnDjxpstWVlYq9913n7JhwwZFp9MpO3bsULp3717jvXEtS2J88MEHlczMTCU/P1+JjIxUPvzwQ0VRFGXPnj3KwIEDlTNnziilpaXKiy++WOv9Ua2srEzp3bu3kpSUZL5vwoQJSmxsrKIoVe+j06dPK0ajUUlMTFQGDhyo7Ny5s87X+9pz++GHHyqjR49W0tPTlfz8fGXq1Kk1yn777bfKpUuXFJPJpBw6dEgJDQ1Vfv75Z/NzVr93q61atUp56aWXFEW58Xvweq/NzbzOBoNBiY6OVl555RWltLRUqaioUI4cOaIoiqLExcUpQ4YMUeLj4xWTyaQkJycrqampiqLU/l1csGCB+Tz/8MMPSkhIiLJy5UqlsrJSKS8vV/Ly8pTt27crZWVlSnFxsfLss88qzzzzjPn4GTNmKM8995xSUFCg6HQ65dChQ4qiKMq6deuU5557zlxu586dSlRUVJ3tFLdOegzELZszZw7h4eHmfx9//DEA0dHRNcaht23bRnR0tPnnBx98kO7du+Pk5MSLL77ITz/9RGpqqlVji4+Pp6ysjJkzZ+Lk5MTAgQO5//77a8QVERFBaGgoDg4OjBs3jsTExDrriouL495772Xw4ME4Ojry1FNPUVFRwfHjx28rxhkzZuDl5UVgYCD9+/fn9OnTAHz00UfMnDmTrl274uDgwKxZs0hMTKy316Aufn5+TJs2DQcHB1xcXOjYsSODBw/GyckJb29vnnjiCY4cOVLv8ffccw/33nsvGo2GmJgYc2w3UzY+Ph6DwcCjjz6Ko6Mjo0aNomfPnvXWY0mM06ZNw9/fn9atW3P//febz9lXX33FhAkT6NatG25ubsydO7fe53F1dWXEiBHExsYCkJyczMWLFxk+fDgA/fv3Jzg4GLVazV133cXYsWM5fPhwvfVV++qrr3jsscfQarW0bt2ap59+usbj9913Hx06dEClUtGvXz8GDx7M0aNHb1gvWPYerO+1+bXrvc4nTpwgOzub3//+97i5ueHs7Ex4eDhQ1Ys1ffp0QkNDUalUdOzYkXbt2lkUv1qtZt68eTg5OeHi4kKbNm0YPXo0rq6ueHh48Mwzz5hjyM7OZu/evSxdupRWrVrh6OhIv379ABg3bhx79uyhpKQEgC+++IJx48ZZFIOwnAz0iFu2Zs2aOucY9O/fn4qKCuLj4/Hx8eH06dNEREQAVb/03bt3N5d1d3endevWZGVlERQUZLXYsrOzCQgIQK3+JfcNDAysMWzRtm1b888uLi6UlZXVW1dgYKD5tlqtRqvV1jsEYilfX1/zz66urpSWlgJVcxZeffVVVqxYYX5cURSysrIs/kMcEBBQ4/aVK1d45ZVXOHr0KKWlpSiKgpeXV73H//q1qaysrHdsuL6y2dnZ+Pv7o1KpzI9rtdp6n9OSGH/9mmVnZwNV56hHjx7mx270OkVHR/PXv/6VuXPnEhsbS0REBK6urkBVQvP6669z7tw59Ho9Op2OyMjI69ZXHcO17bv2PQOwZ88e1qxZQ3JyMiaTiYqKCrp163bDeqvrvtF7sL7X5teu9zpnZGQQGBhY53nOyMigQ4cOFsX7a23atMHZ2dl8u7y8nL/85S/s27ePwsJCAEpLSzEajWRmZtKqVStatWpVqx5/f3/69OnDjh07GDlyJHv37pUrNxqA9BgIq9NoNERGRhIbG8uXX37Jfffdh4eHB1D1Tfbab75lZWUUFBTg7+9fqx5XV1fKy8vNt69cuWJxDH5+fmRmZmIymcz3ZWRk1Pk8ltSVnp5uvq0oyi3XZQmtVsvSpUs5evSo+d+JEyfo06dPrbLXfuhe7/433ngDlUrFtm3bOHbsGK+99lqNOQ0NwdfXl6ysrBrPk5GRUW/524nRz8+vRt3Xnq+6DBo0iLy8PBITE4mNjSUqKsr82EsvvWSeI/Djjz8yefJki+Lw9fWtEcO1P+t0OubNm8eTTz7JgQMHOHr0KMOGDTPXW995vLZ91noPXu911mq1ZGRk1HmJpVarrXcezq9/V3Nycmo8/uv2vfPOOyQlJfHxxx9z7NgxPvjgA3O7AgICKCwsrDHv4VoPPPAAX3zxBdu3b6d3794N9nvYkkliIBpEdHQ0X331Fdu2bavxRzcqKopPP/2UxMREdDodb7zxBqGhoXX2FoSEhLBz507Ky8u5dOlSrQllbdu25fLly3U+f2hoKC4uLqxfvx69Xs+hQ4f45ptv+M1vfnPTbRkzZgx79uzh+++/R6/X88477+Dk5ERYWJhFx18vzrpMnjyZdevWce7cOQCKi4v56quv6izr7e2NWq2+Yf2lpaW4ubnh6elJVlaW1S6zu57evXuj0Wj473//i8FgYNeuXTUmJlozxsjISLZu3cr58+cpLy/nn//853XLOzo6EhkZycqVKyksLGTw4ME14mjVqhXOzs6cOHHCPORwI2PGjOH9998nMzOTwsJC1q1bZ35Mp9Oh0+nw9vbGwcGBPXv2cODAAfPjPj4+FBQUUFxcXG/dt/MevNb1XufQ0FB8fX3529/+RllZGZWVlfz4448APPTQQ7zzzjv8/PPPKIrCpUuXzEn+XXfdRWxsLEajkb179153mKo6BmdnZ7y8vCgoKKhxvvz8/Bg2bBhLly6lsLAQvV5fo76IiAgSEhLYuHEj48ePv+n2ixuTxEDcslmzZplnUYeFhTFnzhzzY7169TJ3Z157pcCgQYN47rnnePbZZxkyZAiXL1+ud5b6Y489hqOjI4MGDWLBggXmeQrV5s6dy8KFCwkPDycuLq7GY05OTrz11lvs3buXAQMGsHTpUlauXEnXrl1vup1dunThtdde489//jMDBgzg22+/5a233sLJycmi4x999FF27NhB3759Wb58+Q3Ljxw5kunTp/Piiy/Sp08foqKialzffi1XV1dmzZrFI488Qnh4OD/99FOd5ebOnUtCQgLh4eHMnDmTUaNGWRT77XBycmL16tVs2bKFvn378sUXX3DffffV+7rdToz33nsvjz32GI899hgjR45kwIABNzwmOjqagwcPEhkZWaPrfPHixaxatYqwsDDWrFnDmDFjLIrh4YcfZsiQIcTExPDAAw/UiN/Dw4M//vGPPP/88/Tt25fY2FjznAaArl27MnbsWCIiIggPD681THW778FrXe911mg0vPXWW1y6dIn777+fYcOGmZPSMWPGMGvWLF566SX69OnDnDlzzMMAL7/8Mt9++y3h4eFs27bNPHRYn8cee4zKykoGDBjApEmTGDp0aI3HV65ciYODA2PGjGHQoEG899575sdcXFwYNWoUqampjBw58qbbL25MpTR0f6IQQlw1ceJEJk+ezIMPPmjrUEQT9s9//pPk5GRef/11W4fSLEmPgRCiwRw+fJicnBwMBgNbt27lzJkztb4dCnEzCgoK+OSTT5g0aZKtQ2m25KoEIUSDSUpK4vnnn6e8vJygoCBWrVqFn5+frcMSTdTHH3/Mq6++yrhx4+jbt6+tw2m2ZChBCCGEEGYylCCEEEIIM0kMhBBCCGEmiYEQQgghzGTy4VX5+aWYTNaZbuHj40FubolV6rJn0s7mRdrZvEg7mxdrtlOtVtGmjXu9j0ticJXJpFgtMaiuryWQdjYv0s7mRdrZvDRWO2UoQQghhBBmkhgIIYQQwkwSAyGEEEKYNdocg6SkJBYuXEhBQQGtW7dmxYoVdOrUqUYZo9HI8uXL2bdvHyqVipkzZzJx4kQAPvnkEzZs2IBarcZkMjFx4kQeffRRAFavXs2HH35oXlGtT58+LF68uLGaJoQQNmM0GsjPz8Fg0NW4PztbXWPb8eZK2nl9Dg5OtGnji0Zj+cd9oyUGixcvZsqUKcTExPD555+zaNEiNm7cWKPMtm3bSElJ4euvv6agoIDx48czcOBAgoKCGD16NBMmTEClUlFSUkJ0dDT9+vXjrrvuAmD8+PEsWLCgsZojhBB2IT8/BxcXN9zdA1CpVOb7HRzUGAzN/wNT2lk/RVEoLS0iPz+Htm21Fh/XKEMJubm5JCQkEBUVBUBUVBQJCQnk5eXVKBcXF8fEiRNRq9V4e3sTERHB9u3bgaptS6vf9BUVFej1+hq/BEII0RIZDDrc3b3k76GoRaVS4e7uVas36UYaJTHIyMjA398fjUYDVO357efnR0ZGRq1ygYGB5ttarZbMzEzz7d27dzN27Fjuv/9+pk+fTnBwsPmxL7/8kujoaJ588kmOHz/ewC0SQgj7IUmBqM+tvDea1DoGI0aMYMSIEaSnpzNnzhyGDRtGly5dmDx5MrNmzcLR0ZEDBw4we/Zs4uLiaNOmjcV1+/h4WDVWX19Pq9Znr6SdzYu0s+nJzlbj4FD3d7z67m8oTz75KHq9Dr1ez+XLKXTp0hWAbt2C+dOfllpUx6efbqGysoJHHpl63XJ79+4hPv4Yzz77QqO301ZutZ1qtfqm3vONkhhotVqysrIwGo1oNBqMRiPZ2dlotdpa5dLT0wkNDQVq9yBUCwwMpGfPnnz33Xd06dIFX19f82ODBw9Gq9Vy7tw5+vXrZ3GMubklVls8wtfXk5ycYqvUZc+knc2LtLNpMplMdY4922Lsfd26DQBkZKQzffo03n33Q/Nj1bEYDAYcHOr/6Bk3bkKN8vUZNGgogwYNtaisPbvR61Htds6nyWSq8Z5Xq1XX/TLcKImBj48PISEhxMbGEhMTQ2xsLCEhIXh7e9coFxkZyebNmxk1ahQFBQXs2rWLDz74AIALFy7QtWtV9pmXl8ehQ4cYNWoUAFlZWfj7+wOQmJhIWloanTt3boymCSGEuIGHHopmxIhRHDt2hC5d7mDmzNksWfIypaWl6HQ6Bg0azOzZzwHw9tv/pry8nLlznycubhs7d27H09OLixcv4OnpwfLlK/HxaUtc3DYOHtzHX//6OseOHWXVqje4++7unDp1ElCxdOmrdOpU9Tnw73+v4ZtvduLl1YqwsHv48ccjvP32+7Xi/N///svu3V9jNBpwcnLmd79byJ13Vg1Z//zzCdaseZOysjIA5sx5jn79BpCcnMSbb75OXl4uiqLwyCPTGDMmioceimblyr/Tpcsd5teg+vbNvB56vZ5//3sNhw9/j0qlJjCwHX/5y+tMm/Ywf/jDYkJCugPw0Uf/5dKlSyxY8PJtn69GG0pYsmQJCxcuZO3atXh5ebFixQoAZsyYwbx58+jZsycxMTHEx8ebP/DnzJlD+/btAdi0aRMHDhzAwcEBRVGYOnUqQ4YMAeCNN97g1KlTqNVqHB0dWblyZY1eBCGEaCme3/ozB5LyblzwFgzu7M0/HuhxS8eWlpbyn/9UXYlWWVnJihV/x83NDYPBwIsvzuWHHw4yYMCgWsclJibw3nv/w98/gBUrlrNlyyaefnpOrXJJSRf4wx8W8fvfv8x7773Ne++9zeLFy9m/fy8HD+5nw4b/4ezszB//WP/Va5GRY81DGEeOHOK11/7CunUbKCoq5A9/mM8rr6ykZ89eGI1GSktLMRgMLFz4EjNnzmb48AgACgsLrPp6vP/+u6Snp7Jhw4eo1RoKCqrqf/DBh9m6dQshId1RFIXPPvuEP/95hUXPfSONlhh07dqVzZs317r/P//5j/lnjUbD0qV1j0P94Q9/qLfu6iRDCCGEfYqMHGv+2WQysXbtm5w8eQJQyM3N5dy5s3UmBqGhvfD3DwCge/ceHDlyqM76O3ToSLdud10t15MDB/YBcPz4UYYPj8DV1RWAMWPGsmHD23XWceZMIu+//y5FRYWo1WouX04B4OefT9KpU2d69uwFVI3Ze3h6cvHieYxGA0OGDadCb0RRwMHVg5JKAyZFobjCQH6ZDkUBo6KQV6bHvbgSo0khfGgEaQXlmIDy8jI+eHstZ0//jKIoFObn8f1PJ2nTJZTde/Yw8bFnuJhXQWdvN1q3bg3A6NFjeffd9RQVFZKQcIo2bby5885uN3lW6takJh8KIYS4vupv9PZ2fb+bm6v5502bPqC4uIh16zbg7OzMihWvoNNV1nmck5OT+We1umqOWt3lnKs2w0NBQYXBYKBCb0RvNKEzmiiuNFRd168zYjQp5JbqUBQFE1XX+1fq9Lz8xwUs+etqOnUNJvdKDnOfmMDF3FLSiyoo0xk5m12CSVFQFFCA9Lxy9EaF81dKa8WjqNRkFVXgWFTVrsrKSvLL9LiV6jApCnqVE4UVBgBit3xEYVERC19di6OTE++/9TqVlTqMV+e9qQC1SsW11xe4uroycmQkX365jePHf2TChImWn4wbaBlTOYUQQtiN4uJifHza4uzsTE5ONvv377mleioNJk6lF5GSX06F3sjp7BLOZpeSWlBBpcHExdwyArr24JtvdnM+M5+UvDLivvoSvdFEVnEl2SU6rpToyC3Vk1NYWjW3wNOH4koDcbGfAlChN9GxawjpqcmcSfwZk1K1Sm9ZaTGBQR3QaDT89MMenB3UuDqqMVaU4OGsQRsYRFbKOVq7OpJ6Np6ignzauDni5+mMRq3C192Rdq1cCGrtgoOxgvZaf7oFtMbLVMLPP36Pj7sjwX4eDL/3Xg7t+ozO3s6o1SrzUALAhAkT2bz5f5w5k8h9942wyrkB6TEQQgjRyCZOnMyf/rSAadMextfXn3vu6XvTdRhMCpUGE0ZT1Td4ALWq6rp9B03V/y4OagYNGsbl8wks/910PDy8uPOuu9GVl+Lt7ogaFSrV1W/jXs5MfWwmK/7wDF5erRgybDgAnX3cULd1Y/krr/HWmn9QUVGBWq1izpznubtrf/722t/5+99Xsv3T91Gp1DzyyFR6Ro7l2Wfm8MorS9gdt5V77gnH3z8AbzdH2ro7oVap8HJ1pJWrIwBTJk/hT39awMynHjG/HmqVCo1axbSpj/Pvf/+TadMm4+DgSFBQEMuXrwQgMLAdHTp05O67e+Do6GidkwOoFEVpGRtZ34BcrnjzpJ3Ni7SzacrMvERAQMda99vbUIK1ZRZVkFemp7WbIwEezqhU9S/mU1ZWipubOyaTib/+9c+0bevLzJmzGzni21PX+SwtLWHKlIdYv34jvr5+9R776/eIXVyuKIQQQliLwWiioFwPgJ+nC+obLO735z8vJjMzncrKSoKDQ/jtbx9thCgb1mefbeG9995h8uSp100KboUkBkIIIZqUvDI9JgU8XRxwcbxxz8hf/vJ6I0XWeMaPf4jx4x9qkLpl8qEQQogmw2hSyL/aW+Dj5nSD0uJWSGIghBBNXEuaKpZfXnUZn7uTBjcnja3DsXu38t6QxEAIIZowBwcnSkuLWkRyYDIp5JVe7S1wl96CG1EUhdLSIhwcbu61kjkGQgjRhLVp40t+fg4lJTWX4lWr1ZhMzeuqhFKdkdIKA45qFcWKEyWq5tnOutxqOx0cnGjT5ua2CJDEQAghmjCNxoG2bbW17m9ul2UajCZmvHOEzOJKVkTfTQ9tW6D5tbM+jdlOGUoQQghh97afziazuJJO3q7cd4ePrcNp1iQxEEIIYddMisJ7Ry4D8Fjf9qjrWchIWIckBkIIIezad+dzSc4rJ8DTmci7rLuYj6hNEgMhhBB2S1EUNhyu2v54WngQDhr52Gpo8goLIYSwW4dTCkjMKqGNqyPjegTYOpwWQRIDIYQQdqu6t+CRe9rh4igLGjUGSQyEEELYpZPpRRy9XIi7k4aJvQJtHU6LIYmBEEIIu7Th6pUIE3sH4uEsy+40FkkMhBBC2J3zV0rZeyEXZ42aR/q0s3U4LYokBkIIIezOe4eregtiegbgLbsoNipJDIQQQtiV1IJydp7JRqNWMTU8yNbhtDiSGAghhLAr/z2ailGByLv80Hq52DqcFkcSAyGEEHbjSkkl205loqJq+WPR+CQxEEIIYTc+PJaGzqhw3x1t6ezjZutwWiRJDIQQQtiFogo9n8RnAPB4P+ktsBVJDIQQQtiFj39Kp0xvpF+H1twd4GnrcFosSQyEEELYXLneyEfH0gB4ol8HG0fTskliIIQQwua2nsygsMJAjwBP7mnfytbhtGiSGAghhLApvdHEB0dTAXi8fwdUKpWNI2rZJDEQQghhU3EJWWSX6Oji48bQLt62DqfFk8RACCGEzRhNChuPXO0t6NcetfQW2JwkBkIIIWzmm3NXSCkoJ7CVCyOD/WwdjkASAyGEEDaiKAobDqcA8Gh4EA5q6S2wB42WGCQlJTFp0iRGjx7NpEmTSE5OrlXGaDSydOlSIiIiGDlyJJs3bzY/9sknnxAdHU1MTAzR0dFs3LjRouOEEELYp++T8zmbU4qPuxNR3QNsHY64yqGxnmjx4sVMmTKFmJgYPv/8cxYtWlTjwx1g27ZtpKSk8PXXX1NQUMD48eMZOHAgQUFBjB49mgkTJqBSqSgpKSE6Opp+/fpx1113Xfc4IYQQ9qm6t+C3fdrh7CAd2PaiUc5Ebm4uCQkJREVFARAVFUVCQgJ5eXk1ysXFxTFx4kTUajXe3t5ERESwfft2ADw8PMyXsFRUVKDX6823r3ecEEII+/NTWiHH04rwdHZgQi+trcMR12iUxCAjIwN/f380Gg0AGo0GPz8/MjIyapULDAw039ZqtWRmZppv7969m7Fjx3L//fczffp0goODLTpOCCGEfdlw+DIAD/cOxN2p0TqvhQWa1NkYMWIEI0aMID09nTlz5jBs2DC6dOlilbp9fDysUk81X9+Wsc63tLN5kXY2L/bazlPphRxIysPVUcOckcF4uzvdVn322k5ra6x2NkpioNVqycrKwmg0otFoMBqNZGdno9Vqa5VLT08nNDQUqN0TUC0wMJCePXvy3Xff0aVLF4uPu57c3BJMJuUWW1iTr68nOTnFVqnLnkk7mxdpZ/Niz+38x9dnAIjpEYCxrJKcsspbrsue22lN1mynWq267pfhRhlK8PHxISQkhNjYWABiY2MJCQnB27vmCleRkZFs3rwZk8lEXl4eu3btYvTo0QBcuHDBXC4vL49Dhw7RrVu3Gx4nhBDCfqTkl7P7bA4OahW/DW9n63BEHRptKGHJkiUsXLiQtWvX4uXlxYoVKwCYMWMG8+bNo2fPnsTExBAfH8+oUaMAmDNnDu3bV+3JvWnTJg4cOICDgwOKohpeMv8AACAASURBVDB16lSGDBkCcN3jhBBC2I+NRy5jUiDqbj8CPF1sHY6og0pRFOv0nzdxMpRw86SdzYu0s3mxx3ZmF1cS8/ZhjCaFzU+E07GN223XaY/tbAjNbihBCCGE+ODHVAwmhRHd2lolKRANQxIDIYQQDa6gXM+nJ6ouUX+8XwcbRyOuRxIDIYQQDW7T8TQqDCYGdmpDsJ91Lw8X1iWJgRBCiAZVqjPw8fF0AJ6Q3gK7J4mBEEKIBrX1RCZFlQZ6BXoRFtTK1uGIG5DEQAghRIPRGUx88GMqIL0FTYUkBkIIIRpMbEIWV0p13OnrzqDObWwdjrCAJAZCCCEahMGksPFI1WZJj/drb94RV9g3SQyEEBhNCjnFt75evRB12X02h7TCCtq3dmHEnb62DkdYSBIDIVo4RVFYsC2BAX/dzbmcEluHI5oJRVHMWytPC2+PRi29BU2FJAZCtHBbT2ay50IuRpPCvot5tg5HNBP7k/I4f6UUX3cnxt7tb+twxE2QxECIFiy1oJx/7Pll59LjqYU2jEY0F4qi8O6hqt6C34YH4eQgHzVNiZwtIVook6KwbMdZyvUmwtu3BuBkRhFGK20mJlquY6mFnMwoopWLAw/01No6HHGTJDEQooX66Fgax9MK8XZz5C9RIXTwdqNUZ5R5BuK2Vc8tmBTWDjcnjY2jETdLEgMhWqCk3DLW7E8C4OWR3Wjt6kjfTt4AHE8rsmVooolLzCrmh0v5uDqqebh3oK3DEbdAEgMhWhiDSWHx9tPojArR3f0Z1tUHgL6dqhaf+SlN5hmIW1fdWzAhNJBWro42jkbcCkkMhGhhNhxOITGrhABPZ168r6v5/uoeg5/SClEUmWcgbl5yXhnfnruCo0bFb+9pZ+twxC2SxECIFuR0VjHrf0gBYNHobng4O5gf69LWHW83R/LK9FwuqLBViKIJ23jkMgoQdbc/vh7Otg5H3CJJDIRoIXQGE4u3n8FoUpjUO5C+HWquW69SqegVWLXznQwniJuVWVRBXGI2ahU82re9rcMRt0ESAyFaiH8fTOZibhkdWrsyd2jnOsv0DvIC4LgkBuIm/ffHVIwmhZHdfAlq7WrrcMRtkMRAiBYgPr2Q94+molbB4shgXBzrvoQsrN3VHgNZ6EjchPwyHZ+dzATgsX7SW9DUSWIgRDNXrjey5KszKFStWR8a6FVv2Tt9PXBz1JBaWMGVEtlUSVjmo+NpVBpMDOnizZ2+HrYOR9wmSQyEaOZW700itbCCO9q6M3Ngx+uWdVCrzImDrGcgLFFSaeDjn9KBqq2VRdMniYEQzdihS/lsjk/HQa1iSWSwRWvW925XlRjIBERhiU/iMyipNNInqJV58qpo2iQxEKKZKqk0sGzHGQBmDOxIsJ9lXby9r84zkAmI4kYq9EY+PJYKSG9BcyKJgRDN1OvfXiC7REf3AM+bunyse4AnDmoV53NKKa4wNGCEoqnbdiqLvDI9d/l5MKBjmxsfIJoESQyEaIb2nL/ClwlZOGvULIkMxkGtsvhYF0cNIf6eKMCJdJlnIOpmMJp4/2jV8seP92uPSmX5e0zYN0kMhGhm8st0vLrrHABzhnamk7fbTdcR1k7WMxDX9/WZHDKKKunYxpX77mhr63CEFUliIEQzoigKf919nrwyPfcEtWJS2K3tbtc7qGqeQXy6JAaiNpOimDdLerRvezQ30SMl7J8kBkI0IztO5/DNuSu4OWpYNDoY9S127/YK9EIFnMosptJgsm6QosnbeyGXpLwy/D2dGRPiZ+twhJVJYiBEM5FdXMnKb84D8MJ9XQhs5XLLdXm5ONK1rTt6o0JCZrG1QhTNgHJNb8HUe4Jw1MjHSHMjZ1SIZkBRFJbvPEtxpYHBnb2J6RFw23XKegaiLkcuF3Aqs5jWro6M73n77zNhfyQxEKIZ2Hoyk++T8/FyduDlkXdaZYZ4mKxnIOpQ3VvwSJ929e65IZo2SQyEaOJSC8r5x54LACwYcQe+Hs5Wqbd6oaMT6UUYTYpV6hRN26mMIo6kFODupGFir1ub2Crsn0NjPVFSUhILFy6koKCA1q1bs2LFCjp16lSjjNFoZPny5ezbtw+VSsXMmTOZOHEiAGvWrCEuLg61Wo2joyMvvPACQ4cOBWDhwoUcPHiQNm2qFtiIjIzkmWeeaaymCWEzJkVh2Y6zlOtNRHRry8hgX6vV7efpTGArF9ILKzh/pdTilRNF81XdW/Bgr0A8XRrt40M0skY7s4sXL2bKlCnExMTw+eefs2jRIjZu3FijzLZt20hJSeHrr7+moKCA8ePHM3DgQIKCgggNDeXJJ5/E1dWV06dPM3XqVPbv34+LS9UEq5kzZzJ16tTGao4QduGjY2kcTyvE282RBSOsM4RwrbB2XqQXVnA8tVASgxbuwpVSvruQi5NGxSN92tk6HNGAGmUoITc3l4SEBKKiogCIiooiISGBvLy8GuXi4uKYOHEiarUab29vIiIi2L59OwBDhw7F1dUVgODgYBRFoaCgoDHCF8IuJeWWsWZ/EgAvj+xGa1dHqz9H9XCCTEAUG49U9RaM6xFAW3cnG0cjGlKjJAYZGRn4+/uj0VRNVNFoNPj5+ZGRkVGrXGDgL+NWWq2WzMzMWvV99tlndOjQgYCAX2bEvvvuu0RHRzN79mwuXLjQQC0Rwj4YjCYWbz+NzqgQ3d2fYV19GuR5rt1QSVFknkFLlVZYzo7T2WhUMC1cNktq7prcINHhw4d58803eeedd8z3vfDCC/j6+qJWq/nss8+YPn06u3btMicilvDxsW43qa+vp1Xrs1fSTttYtfsciVkltGvtyqsP9cLTxTq9Bb9uZ9u2Hvi4O5FbqqNMraFTW3erPI+t2dv5bCjWaueqg5cwKjAhrB297rDePBZrkfNpXY2SGGi1WrKysjAajWg0GoxGI9nZ2Wi12lrl0tPTCQ0NBWr3IBw/fpz58+ezdu1aunTpYr7f39/f/PP48eP5y1/+QmZmJu3aWT4OlptbgslKM699fT3JyWn+i8JIO23jdFYxb35TtRfCyxF3UFFcQUVxxW3XW187e2o9+e58LrtPpjPOCusj2Jq9nc+GYq12XinVselICgAP9wywu9dOzufNU6tV1/0y3ChDCT4+PoSEhBAbGwtAbGwsISEheHt71ygXGRnJ5s2bMZlM5OXlsWvXLkaPHg3AiRMneOGFF1i1ahXdu3evcVxWVpb553379qFWq2skC0I0FzqDicXbz2A0KUzqHUjfDg2/1W2YzDNo0f53LA2dUeG+rj50bSY9RuL6Gm0oYcmSJSxcuJC1a9fi5eXFihUrAJgxYwbz5s2jZ8+exMTEEB8fz6hRowCYM2cO7dtXjWctXbqUiooKFi1aZK5z5cqVBAcHs2DBAnJzc1GpVHh4ePCvf/0LB4cmN0oixA39+2AyF3PL6NDalblDOzfKc8oExJaruMLAJ/HpQNXWyqJlaLRPz65du7J58+Za9//nP/8x/6zRaFi6dGmdx3/yySf11r1hw4bbjk8IexefXsj7R1NRq2BxZHCjrTrXzc8DN0cNlwsquFKqkxnpLcjm+HRKdUb6dmhNd62XrcMRjURWPhSiCSjXG1ny1RkUqmaFhwY23h9pB7WKnoFVk56k16DlqNAb+d+xNEB6C1oaSQyEaAJW700itbCCO9u6M3Ngx0Z/fvNwQqokBi3FZyczKSjX0z3Ak77tW9s6HNGIJDEQws4dupTP5vh0HNQqlowJxsmh8X9tZUOllkVvNPHfH1OBqt4Ca6+oKeybJAZC2LHiCgPLdpwBYMbAjnTztc2yxN0DPHFQqziXU0pJpcEmMYjG81ViNlnFlXT2cWuwxbOE/ZLEQAg79rfvLpBdoqN7gCeP9rXdOK+Lo4YQf08UID69yGZxiIZnNCnm5Y8f79setfQWtDiSGAhhp/acv8KXCVk4a9QsiQzGQW3bP9C921VNeJQJiM3bd+evcCm/HK2XM6OsuFunaDokMRDCDuWX6Xh1V9XqhnOGdqaTt5uNI/plAmK8JAbNlqIo5q2Vp4W3x0EjHxEtkZx1IeyMoij8dfd58sr03BPUiklhgTc+qBH0unqJ5KnMYnQGk42jEQ3hh0v5nM4uwdvNkejusnpsSyWJgRB2ZsfpHL45dwV3Jw2LRgfbzRhvK1dHuvq4oTMqJGQ1/7XpW6Lq3oIpfYIabQEtYX8kMRDCjmQXV7Lym/MAvHBvFwJbudg4opp6B8lli81VfHohx1IL8XDW8GAv7Y0PEM2WJAZC2AlFUVi+8yzFlQaGdPa2y50Mw2Sho2arurfg4d6BeDjLXjMtmSQGQtiJrScz+T45Hy9nB14eeaddLipjnoCYXoTRStuUC9s7l1PC/ot5ODuomRxm+Xb1onmSxEAIO5BaUM4/9lwAYMGIO2jr4WzjiOrm7+lMoJczpToj56+U2jocYSXvXe0tGN8zgDZusklWSyeJgRA2ZlIUlu04S7neREQ3X0bd5WfrkK5LtmFuXlILytl5NgeNWsXUe4JsHY6wA5IYCGFj/zuWxvG0QrzdHFkw4g5bh3NDkhg0LxuPXMakwG9C/Ajwsq/JrsI2JDEQwoaScstYuz8JgJdHdqO1q6ONI7qx3uYNlYpQFJln0JTllFQSm5CFCmy65LawL5IYCGEjBqOJxdtPozMqRHf3bzKb1XTydqW1qyO5pTpSCypsHY64DR/8mIbeqDD8zrZ2sbqmsA+SGAhhIxuOXCYxq4QAT2devK+rrcOxmEqlovfVVRB/SpfhhKaqsFzPpyfSgaqtlYWoJomBEDZwOquY9T+kALBodLcmd9149UJHsp5B0/XxT+mU600M6NiGu/w9bR2OsCOSGAjRyHQGE4u3n8FoUpjUO5C+HdrYOqSb9ssERNmCuSkq0xnZdDwNkN4CUZskBkI0sn8fTOZibhkdWrsyd2hnW4dzS4L9PHB1VJNSUM6VUp2twxE3aevJDAorDPTUetHnau+PENUkMRCiEcWnF/L+0VTUKlgSGdxkN6pxUKvoqa2aZyDbMDctOoOJD46mAvBE//Z2ucKmsC1JDIRoJOV6I0u+OoNC1aVhPa9O4GuqfrlsURKDpuTLhCxySnXc0dadIZ29bR2OsEOSGAjRSFbtvUhqYQV3tnVnxoCOtg7ntoXJPIMmx2BS2Hikavnjx/tJb4GomyQGQjSCQ5fy2RKfgYNaxZIxwTg5NP1fvR5aTxzUKs7llFBSabB1OMIC35zNIbWwgnatXBjRzdfW4Qg71fT/Oglh54orDCzbcQaAGQM70s3Xw8YRWYeLo4YQfw9MCpxIl14De6coChuu9hY82rc9DmrpLRB1k8RAiAb2t+8ukF2io0eAZ7NbdrZXoOyb0FQcTMrnXE4pbd2diLrb39bhCDsmiYEQDWjP+St8mZCFs0bN4sjgZvctzbzQkcwzsHvvHq5aUOu39wQ1i6Es0XDk3SFEA8kv0/HqrnMAzBnauVmuRd/r6pUVpzKL0BlMNo5G1Od4aiHx6UV4OTvwQGiArcMRdk4SAyEagKIo/HX3efLK9NwT1IpJYYG2DqlBtHZ1pIuPGzqjQmJWsa3DEfWo7i2YFBaIu1PTWn5bND5JDIRoADtO5/DNuSu4O2lYNDoYdTO+LCxM1jOwa2eyS/g+OR9XRzUPh7WzdTiiCZDEQAgryy6uZOU35wF44d4uBLZysXFEDUv2TbBvG672FjzQU0trV0cbRyOaAkkMhLAiRVFYvvMsxZUGhnT2ZlyP5j+e2zvo6tLI6YUYTYqNoxHXupRfxu6zV3BQq/jtPUG2Dkc0EZIYCGFFW09m8n1yPl7ODrw88s4WsbJcgKcLWi9nSiqNXMgttXU44hobD19GAcbe7Y+fp7OtwxFNRKMlBklJSUyaNInRo0czadIkkpOTa5UxGo0sXbqUiIgIRo4cyebNm82PrVmzhrFjxxIdHc2ECRPYt2+f+bHy8nKef/55Ro4cSWRkJN9++21jNEmIGlILyvnHngsALBhxB209Ws4fYvNwQqrMM7AX6QXlxCVmo1bR7NbPEA2r0RKDxYsXM2XKFHbs2MGUKVNYtGhRrTLbtm0jJSWFr7/+mk2bNrF69WpSU6t2AQsNDWXLli1s27aNV199lRdeeIGKigoA3n77bTw8PNi5cydvvfUWf/zjHyktlW8uovGYFIVlO85QrjcR0c2XUXf52TqkRvXLhkoyz8Be/GffRQwmhRHdfOnQxtXW4YgmpFESg9zcXBISEoiKigIgKiqKhIQE8vLyapSLi4tj4sSJqNVqvL29iYiIYPv27QAMHToUV9eqN3dwcDCKolBQUADAV199xaRJkwDo1KkTPXr0YO/evY3RNCEA+N+xNI6nFeHt5siCEXfYOpxG98uGSoUoiswzsLWCcj0fXbNZkhA3w+LEYM6cOezatQu9Xn/TT5KRkYG/vz8aTdXe8xqNBj8/PzIyMmqVCwz85XpvrVZLZmZmrfo+++wzOnToQEBA1cSu9PR02rVrd8PjhGgISbllrN2fBMAfR3VrkTO/O3m70srFgSulOtIKK2wdTov30bE0yvVGBnf2bjZ7c4jGY/FKF+Hh4axZs4aXX36ZyMhIYmJi6NOnT0PGVqfDhw/z5ptv8s4771i1Xh8f6/7y+Pp6WrU+e9XS26k3mli+KR6dUeHh8CAm9O/UuIFZ2e2cz35dfNiZkMWFIh1hd9r3UEpzft+aTAqxiVkAzBvZrVm3tVpLaCM0XjstTgyeeOIJnnjiCc6dO8cXX3zBSy+9hKOjI+PGjWPcuHF06NCh3mO1Wi1ZWVkYjUY0Gg1Go5Hs7Gy0Wm2tcunp6YSGhgK1exCOHz/O/PnzWbt2LV26dDHfHxgYSFpaGt7e3ubj+vfvb2nTAMjNLcFkpUutfH09yclp/qvASTth/Q+XOJFWSICnM8/079CkX4/bPZ93t3VnJ7DvdBb3dmhlvcCsrLm/b39KKySrqJJ2rV3p7O7YrNsKzf98VrNmO9Vq1XW/DN/0HIM777yTl156iddeew0XFxfWrFnDAw88wOOPP87p06frPMbHx4eQkBBiY2MBiI2NJSQkxPxBXi0yMpLNmzdjMpnIy8tj165djB49GoATJ07wwgsvsGrVKrp3717ruE2bNgGQnJzMyZMnGTp06M02TYibcjqrmPU/VC0es2h0NzycW/ZSs2HtqtYzkBUQbWvXmRwAokK1LeJyWWF9N/WX7OLFi3zxxRfExsbi6OhITEwMMTExeHt78+GHHzJ79my++eabOo9dsmQJCxcuZO3atXh5ebFixQoAZsyYwbx58+jZsycxMTHEx8czatQooGpeQ/v2VRNnli5dSkVFRY2rGVauXElwcDBPPfUUCxcuZOTIkajVapYtW4aHh4yriYajM5hYvP0MRpPCpN6B9O3QxtYh2VywnwcuDmpS8svJLdXh4+5k65BaHKNJYde5KwCM7am9QWkh6qZSLJxCPGHCBNLS0vjNb37D+PHj6dWrV60yw4cPrzcxsHcylHDzWnI7V++9yMajqXRo7coH0/rg4qixUXTWY43zOXvLCY6kFLAiKoTh3XytFJl1Nef37Y+XC5i1+QTtWrmwf8FwrlwpsXVIDa45n89rNeZQgsU9BjNnzmT48OE4OdX/LaCpJgVC3Iz4tELeP5qKWgVLIoObRVJgLWHtWnEkpYDjaUV2mxg0Z7vOVg0jRHTzlWEEccssnmPg4eFBWlpajfsuXrzIgQMHrB6UEPaqXG9kyfYzKFStJtcz0MvWIdmV3lfnGfwk8wwandGk8M3VYYSRwZKUiVtncWKwbNky3N3da9zn7u7OsmXLrB6UEPZq1d6LpBZWcGdbd2YM6GjrcOxOT60XGrWKszkllFQabB1Oi3I8tZC8Mj3tW7vQzdf9xgcIUQ+LE4Pc3Fz8/Gpem+zn50dOTo7VgxLCHh26lM+W+Awc1CqWjAnGyUH2IPs1F0cNIX4emBQ4mSHLIzemnTKMIKzE4r9s7du35/vvv69x36FDhwgKkq08RfNXXGFg2Y4zAMwc2FFWk7uO3tcsjywah0GGEYQVWTz5cO7cuTz77LM89NBDtG/fnsuXL/Ppp5/y6quvNmR8QtiFv313gewSHT0CPJkmO9VdV+92Xvz3RzieKj0GjeXHywUUlOvp2MaVO9rKMIK4PRb3GERERPDOO+9QVlbGnj17KCsrY/369URERDRkfELY3NcJmXyZkIWzRs3iyGAc1NJNez29rvYYJGQWozOYbBxNyyBXIwhruqkFjkJDQ83LFQvREuSX6fjD1pMAzBnamU7ebjaOyP61dnWks48bSbllJGYX0yvQfpdHbg4MRhPfXh1GiJBhBGEFN5UYJCYmcvToUfLz82tsrfrcc89ZPTAh7MEb313kSomOe4JaMSks8MYHCKBqPYOk3DJ+Si2SxKCBHblcQGGFgc7ebnT1kcRV3D6LhxI2bdrEI488wg8//MB//vMfzp49y7vvvktKSkpDxieEzSRmFbP9dDZOGjV/Gt0NtXTRWkzWM2g81XsjRHRrK8MIwiosTgzWr1/P+vXrWbNmjXnzpDfffBMHh5a9cYxonhRFYfW+JAAeG9SRdq1cbRxR0xJ2dZ5BfHoRJstWXRe3QG808d35XECGEYT13NQ6BuHh4VUHqdWYTCbuvfdevv322wYLTghb+eFSPkdSCvB0dmDOfXfYOpwmJ8DLhQBPZ4orDVy4UmrrcJqtwykFFFUa6OrjRhcfuRpBWIfFiUFAQACpqakAdOrUid27d3P06FEcHR0bLDghbMF0TW/B4/3a09pNdgm8FdXrGRxPk8sWG4r5agTpLRBWZHFiMH36dC5cuADA7NmzmT9/Po899hhz5sxpsOCEsIXtidmcyynFz8OJh3vLhMNbFRYk8wwaUtUwwtWrEWTDKmFFFk0QUBSFvn37otVW7e997733cvjwYfR6fa39E4RoyioNJv51IBmAWYM7yc6Jt8G8AmJqIYqiyMQ4K/vhUj4llUbubOsul9EKq7Kox0ClUhEdHY1a/UtxJycnSQpEs7P5p3Qyiyu5o607vwnxt3U4TVpnbzdauTiQU6ojrbDC1uE0O9VXI8gSyMLaLB5KCAkJISkpqSFjEcKmiir0vHuo6vLbuUM7o5EVDm+LSqUyr4IowwnWVWkwsedC1dUII2QYQViZxdca9uvXjxkzZvDAAw8QEBBQo1vwoYceapDghGhMGw5fpqjSQHj7Vgzq1MbW4TQLvdt5sfdCLj+lFRHVPcDW4TQbP1zKp1RnJNjPgw5t5FJaYV0WJwbHjh2jXbt2HD58uMb9KpVKEgPR5GUWVbDpeBoAzw7tIuPhVhImPQYN4tpFjYSwNosTg/fff78h4xDCpt46eAmdUWFksC93B3jaOpxm4y4/D1wc1FzKLyevTIe3XPp52yr0RvZeHUaQqxFEQ7B4joHJZKr3nxBN2bmcEuISsnBQq5g9uJOtw2lWHDRqemirL1uU9Qys4fvkfMr0RkL8PQhqLcMIwvos7jG4++676+1eTUxMtFpAQjS2f+5LQgEeDNXKH9oGENbOi6OXC/gprZDhd0rX9+2qXtRopPQWiAZicWKwe/fuGrdzcnJYt24d999/v9WDEqKxHE0p4GByPu5OGp4a0MHW4TRLvYNknoG1VOiN7LsoVyOIhmVxYtCuXbtat1esWMFDDz3ExIkTrR6YEA3NpCis2ncRgGnhQbSR8e8G0VPrhUat4kx2CaU6A+5OsvHarTqYlEe53kT3AE8CW7nYOhzRTFk8x6AuJSUl5OXlWSsWIRrVrrM5JGaV0NbdiSn3BNk6nGbL1VHDXX4emBQ4mS7zDG7Hzuq9EaS3QDQgi1P3+fPn15hjUFFRwZEjRxg3blyDBCZEQ9IbTazdnwzAjIEdcZWljxtU73atOJVZzPG0IgZ08rZ1OE1Sud7IvotVX8TkMkXRkCxODDp27FjjtqurK5MnT2bQoEFWD0qIhvbpiQzSCivo5O3KuB6y8E5D693Oiw9+lHkGt2P/xTwqDSZ6ar0I8JJhBNFwLE4M5s6d25BxCNFoSioNrP+haunjOUM64yBLHze46g2VTmUUozeacNTc1ihmi/TLFsvSWyAalsW/ncuXL+fYsWM17jt27BivvPKK1YMSoiG9fzSVgnI9oYFe3NvVx9bhtAitXR3p7O1GpdFEYlaJrcNpcsp0Rg5cHUYYcafMLxANy+LEIDY2lh49etS4r0ePHsTGxlo9KCEaypWSSj78MRWAecM6y9LHjah3u+qFjmQ44Wbtv5hLpdFEr0Av/D2dbR2OaOYsTgxUKhWKotS4z2g0ysqHoklZ9/0lKgwm7uvqQ6/AVrYOp0WpHk44LonBTdt5Rq5GEI3H4sQgPDycf/zjH+ZEwGQysXr1asLDwxssOCGsKTmvjC9+zkSjgjlDO9s6nBYn7OpCRyfSijD96kuGqF9JpYGDyXmogBFyNYJoBBZPPnz55Zd5+umnGTJkCIGBgWRkZODr68tbb73VkPEJYTVr9iVhVGBCqJZO3m62DqfF0Xq54O/pTFZxJRevlHGHr7utQ2oS9l3MRWdUCGvXCl8PGUYQDc/ixCAgIICtW7dy4sQJMjIy0Gq1hIaGolbL7GJh/+LTCvnuQi4uDmpmyNLHNtO7nRc7TudwPK1QEgML7Tp7BYCIYBlGEI3D4k/1xMREsrKy6N27N2PGjKF3795kZWVx+vRpi45PSkpi0qRJjB49mkmTJpGcnFyrjNFoZOnSpURERDBy5Eg2b95sfmz//v1MmDCBHj16sGLFihrHrV69moEDBxITE0NMTAxLly61tFmiBVAUhVX7kgD47T1BtJVvXTYT1k72TbgZJZUGvr86jCAbUInGYnFiMH/+fAwGQ4379Ho98+fPt+j4xYsXM2XKFHbs2MGUKVNYtGhRrTLbtm0jJSWFr7/+mk2bNrF69WpSU6tmkLdvaSRB6gAAIABJREFU355XXnmFp556qs76x48fz+eff87nn3/O4sWLLW2WaAG+O5/LifQi2rg6Mq2vLH1sS72vSQx+PZlZ1LbnQi56o0KfoFa0dZe9PETjsDgxSE9Pp3379jXu69ChA2lpaTc8Njc3l4SEBKKiogCIiooiISGh1j4LcXFxTJw4EbVajbe3NxEREWzfvh2oWnkxJCQEBwfZgEVYzmBSWLO/qrdg+oAOsoGPjXX2caOViwPZJTrSiypsHY7d21V9NYIMI4hGZHFiEBAQwKlTp2rcd+rUKfz8/G54bEZGBv7+/mg0VevRazQa/Pz8yMjIqFUuMDDQfFur1ZKZmWlRfF9++SXR0dE8+eSTHD9+3KJjRPP3xc8ZXMovJ6iVCw+Eam0dTounVqkIDaxez0A2VLqeogo9P1zKR62SYQTRuCz++vT4448ze/Zspk+fTocOHUhJSeGdd95h1qxZDRmfRSZPnsysWbNwdHTkwIEDzJ49m7i4ONq0aWNxHT4+HlaNydfX06r12St7bmeZzsD6Q5cBWPibEAIDbn3dAntupzU1RjuHBPux72IeZ3LLeNxGr2tTOJ/f/XgZg0lhcFcfgjve2gqdTaGd1iDttC6LE4OHH34YT09PtmzZQmZmJlqtlgULFhAZGXnDY7VaLVlZWRiNRjQaDUajkezsbLRaba1y6enphIaGArV7EOrj6/tLN9vgwYPRarWcO3eOfv36Wdo8cnNLMJmsM+bp6+tJTk6xVeqyZ/bezvU/XCKnuJK7/T3pF+Bxy7HaezutpbHaeWerqg2Avr9wxSava1M5n1uPViW1wzp731K8TaWdt0vaefPUatV1vwzf1LWGffv2ZcqUKTzxxBNERkZSUlLCli1bbnicj48PISEh5uWTY2NjCQkJwdu75varkZGRbN68GZPJRF5eHrt27WL06NE3rD8rK8v8c2JiImlpaXTuLAvYtGR5ZTrePyJLH9uju/w9cHZQk5xXTn6Zztbh2KWCcj2HUgrQqOD+O2Q/D9G4LO4x2LVrF/Pnz6djx46cP3+eO+64g3PnztGnTx8eeuihGx6/ZMkSFi5cyNq1a/Hy8jJfcjhjxgzmzZtHz549iYmJIT4+nlGjRgEwZ84c84THo0eP8uKLL1JSUoKiKHz5/+3deZTU5b3n8XdV9b7vUE1DAw20HQWaQEBQQKGhMRcFzRAiycRRg+OAS5LjmJzkXhVzdQ7mDuMeo8l1rqPX3KC4gFzZiSwiLoBs3Wy9d3VX7/taVfNHd5cSlLW6frV8Xud4Tje/X1V9H6psvv18n+f7fPABTzzxBDNnzmTNmjUcPXoUs9lMaGgoTz311FmzCBJ8/ryvlPYeB9eNSmLy8ASjw5GvCbWYGW+N5bOyJg5WNHOj6ufn+NupWhxOF9MyE0iM0m4E8a6LTgyefvppnnzySW666Sa+973v8e677/L2229z6tSpi3p8VlbWWX0JBrzyyivury0Wy7f2IJgyZQofffTRN177+74GEtzKGjp4+0sbJuC+6zVz5Ityh8X3JwZNSgy+gbupkc5GEANc0nbFm2666aw/u/XWW3n33Xc9HpTIlXhxTzEOp4t/uHqIuuv5KB2o9O0aO3r4tLQBi9nEDWOUNIn3XXRikJycTG1tXxY7bNgwDhw4QGlpqU5XFJ9ytKqFrSdqCLeY+e8zMo0OR77FeGscFhOcsLfS3u0wOhyfsuNkLQ4XTB2RQEJkqNHhSBC66MRgyZIlfP7550Df1sWf/vSnLFq0iNtvv33QghO5FC6Xi+c+OgPA0knpDI2NMDgi+TZRYRay02JxuOCwTf0Mvm7rCR2xLMa66DUG99xzj/vrxYsXM3XqVDo6OsjKyhqUwEQu1d6iBj4vbyIuPIQ7pg6/8APEULkZcRyrbuFAeRPTMi++50ggq2/v5rOyRkLMJm7QbgQxyGUfjZienq6kQHyGw+niuV19swV3ThtBXISmYH2dDlQ6146TtThdMC0zUZ9hMYzOTJaAsPF4Nafr2rHGhbMk98JNscR4E/tbIx+xtdDj0Fol+KqMME9nI4iBlBiI3+vscfDSnmIA7p0xkvAQfaz9QWJUGCOTIulyOCmobjU6HMPVtnXzRXkToRYTs0arjCDG0U9Q8Xt/PViJvbWbcanRLMi58KFe4jtyVU5wGygjXJuZSGyETgEV4ygxEL/W1NHD/93f11P+/pmjMKv1sV+ZpH4GblsKtRtBfIMSA/Frr+4vo6Wrl6kjErh2ZNKFHyA+ZWDG4FBFM06XZw4x80c1rV0crGgizGJiVpbKCGIsJQbityqbOvnrwQqgb7ZA/I81Lpy0mDCau3o5U9dudDiG2X6yFhcwfWQSMeEqI4ixlBiI33ppbzE9Dhf5V6Vy1ZDgOI890JhMJm1bRLsRxLcoMRC/VGhv5cPjdkItJv7HdSONDkeuQG5Gf2JQHpyJgb2li4MVzYRbzFw/WuUwMZ4SA/FLz+8qwgX8l4npDIuPNDocuQJfP1DJFYTrDLae7JstmDEqiegwlRHEeEoMxO98UtLAvpIGosMs3DVthNHhyBUanRxFXHgI9tZubM1dRofjdVsL+49YztZJiuIblBiIX3G6XDy3qwiAO6YO1+lzAcBsMjFxWF8XxGBbZ1DV3MlhWzPhIWauH6XdCOIblBiIX9lcUEOhvZW0mDBunzTM6HDEQ4K10dG2k32zBTNHJxEVZjE4GpE+SgzEb3T3OvnDnr7ZgnumZxIRqh+kgeKrxCC4jmDeqqZG4oOUGIjfeOvLSiqbuxiVHMU/XD3U6HDEg3KGxBAeYqaovp3Gjh6jw/GKyqZOjlS1EBFi5rpR2o0gvkOJgfiF1q5e/nVfKQD3XT+KELNaHweSUIuZa4b29aIIlnLCtv7eBTOzkjX7JT5FiYH4hX/7tIymzl4mDYtjpvZ6B6TcIDs3YcsJlRHENykxEJ9nb+nizS8GWh+PxqSDkgLSJHejo8BfZ1De2MHx6laiQi3MGJlodDgiZ1FiID7v5Y9L6Op1MndsCuPT44wORwbJeGscFhMU2lto73YYHc6g2naifzdCVpLKCOJzlBiITztT18b6o1VYzCZWXK+DkgJZVJiFcWkxOFxw2BbYswbusxFURhAfpMRAfNrzu4pwuuDW8UMZkajWx4EuGA5UKmvooMDeSnSYRUeFi09SYiA+60B5E7vO1BMVauFn12YaHY54QTA0OhqYLZiVlUx4iH4Ei+/Rp1J8ksvl4rldZwD4yZQMkqPDDI5IvCG3vzXyYVsLPQ6nwdEMDu1GEF+nxEB80o6TtRy2tZAUFcqPJ2cYHY54SWJUGJmJkXT1Oim0txodjscV17dzsqaNmHAL12ZqN4L4JiUG4nN6HU5e2F0MwPLpmeohH2QCuZ/BQFOj2VkphKmMID5Kn0zxOe8crqK0sYMRiZEsvkatj4ONu59BAJ6bsKVQuxHE9ykxEJ/S1t3Ln/aVALDyupGEWPQRDTYD6wwOVTThdLkMjsZzztS1cbqundjwEKZmJhgdjsi30k9d8SlvfFZOfXsP462x3Dg2xehwxADpcRGkxYTR1NlLUV270eF4zEBToxvGJBOqhFd8mD6d4jNq27p5/fNyQK2Pg5nJZArIbYvajSD+QomB+Iw/7Suho8fJzNFJ7jqzBKdAW4B4uraNorp24iNCmDpCZQTxbV5LDIqKili6dCn5+fksXbqU4uLic+5xOBysWrWKvLw85s2bx9q1a93Xdu/ezW233cY111zD6tWrL/px4h9KGtp590sbZhPcN1Otj4PdVx0QA2MB4kBToxvGpGjdjPg8r31CH330UZYtW8amTZtYtmwZjzzyyDn3rF+/ntLSUjZv3sx//Md/8Nxzz1Fe3je1PHz4cJ544gnuvvvuS3qc+IcXdxfjcMHNVw9ldHK00eGIwUanRBEXHkJ1Sxe25k6jw7kiLpfrq90I2SojiO/zSmJQV1fHsWPHWLhwIQALFy7k2LFj1NfXn3Xfxo0bWbJkCWazmaSkJPLy8vjwww8ByMzMJCcnh5CQkHOe/3yPE993uLKZ7SdrCQ8xc890tT4WMJtMTOjfnXCg3L/LCadq2yhp6CA+IoTJw1VGEN/nlcTAZrMxZMgQLJa+RjUWi4W0tDRsNts596Wnp7u/t1qtVFVVXdTzX87jxHhfb318+3eHkRYbbnBE4ity0wNjAeJAGWHO2BRCzFpQK77v3F+/g1RycoxHny81Ndajz+errnScW49Xc6CimcSoUH55Uw5xEaEeisyz9H56343XDOX53UUcqW71eFzeGqfL5WLHqb6Z0SXTMr3+9+tL7+dg0jg9yyuJgdVqpbq6GofDgcViweFwYLfbsVqt59xXWVnJhAkTgHNnAs73/JfzuK+rq2vF6fRMM5XU1Fhqalo88ly+7ErH2et08cQHxwC4c+oIulo6qWnxvXqy3k9jWMMthFvMnLS3crK0noRIzySN3hxnob2Voro2kqJCGRUT5tW/X197PweLxnnpzGbTeX8Z9kopITk5mZycHDZs2ADAhg0byMnJISnp7LPIFyxYwNq1a3E6ndTX17N161by8/Mv+PyX+zgx1gdHqyiqayc9PoIfTLBe+AESVEItZq629v2GdMhPywkDiw5vVBlB/IjXdiU89thjvP766+Tn5/P666+zatUqAJYvX87hw4cBWLRoERkZGcyfP58f/vCHrFy5kuHDhwPw2WefMWvWLF599VX+8pe/MGvWLHbt2nXBx4lv6uxx8Me9fa2PV1w3UgfKyDf6qp+B/21bdLlc7vUFOhtB/InX1hhkZWV9Y3+BV155xf21xWJxJwx/b8qUKXz00UffeO18jxPf9OaBCmrauskZEqMtXPKtJvXvTPDHBYgF9lYqmjpJigp1Jzgi/kC/ponXNXb08G/7y4C+ZkZmtT6WbzE+PQ6zqe8f2Y4eh9HhXJKt/WWEuWNTsaiMIH5EiYF43b9+Ukpbt4NrMxOZOiLR6HDEh0WHhZCdFoPD6eKwzX/KCWeVETQjJn5GiYF4VUVTB2sPVmIC7p+l1sdyYe4Dlfyo0dGxqhYqm7tIiQ5jYn85RMRfKDEQr/rDnmJ6nS5uykljXKpne0dIYPLHBYhb+o9YnjsuRaUy8TtKDMRrCqpb2FRQQ6jFxL3XjTQ6HPETuf2/cR+xNdPrcBoczYVpN4L4OyUG4hUul4tndxUB8MPcYVjjIgyOSPxFUlQYIxIj6ex1UmBvNTqcCzpia6G6pYu0mDDGp6uMIP5HiYF4xb6SBj4tbSQ2PIQ7p6rHhFwafzqGeWC2IG9cqsoI4peUGMigc7pcPNc/W/Dfpg4n3kOtbSV45PpJPwPn18oIeSojiJ9SYuBhtW3d/Pv+Ukoa2o0OxWd8eNzOyZo20mLC+GHupZ1hIQJf25lQ0YTT5ZkzTQbD4cpm7K3dDI0N5xprcBzsI4FHpyt62BuflfP65+UAZKfFkJ+dyrzsVIYGaU29q9fJH/YUA3DvdSOJCLUYG5D4pWHxEaRGh1HT1k1xfTujk6ONDukbbemfLZg7LhWTygjip5QYeNjt3x1Ghws+PGKj0N5Kob2VZ3cVMTE9jvnZqcwdl0pydJjRYXrN2oOVVLV0MSYlmu/nDDE6HPFTJpOJ3Ix4thTWcLCiyScTA6fLxbb+bYrzxqUYHI3I5VMpwcPSYsP530smsune6Tx183fIG5dKeIiZQ5XN/H7Hab7/8j5WvvUl7x+pormzx+hwB1VzZw+vflIK9LU+VltYuRLufgblvrkA8VBFM7Vt3aTHhfOdoSojiP/SjMEgCQ8xc+PYFG4cm0Jbdy+7TtezqdDOvuIG9pc2sr+0kf+11cSMUUnMz05lVlYykQE2zf5v+8to7uplyvB4ZoxU62O5Mr5+oNLXFx2qjCD+TImBF0SHhbAgJ40FOWk0dfSw41Qtmwtr+LyskY9O1/HR6ToiQszMzEomPzuV6SOT/P4Y4qqWTv5yoAKA+2eO1g9KuWJZKdHEhodQ1dJFVXOnT63bcThdbDvZV0bI09kI4ueUGHhZfGQoi8dbWTzeSm1bN9tO1LCpoIbDtma2FNawpbCGmHALN45JYX52KlNGJBLih1Pwf9xbQrfDxbzsVE2rikeYTSYmpsexu6ieAxVN3ORDicHBiibq2roZFh/BVWlq9S3+TYmBgVKiw1g6aRhLJw2jsqmTLYU1bC60c6KmjfVHq1l/tJrEyFDmjksh/6o0JqTH+UXDlFM1bXxwtJoQs4kVan0sHpQ7LJ7dRfUcrGjmJh9azLpFZQQJIEoMfER6fAR3TB3OHVOHU1zfzuYCO5sKayht6OCtQzbeOmQjLSaMedlp5F+VylVpMT77A+j53UW4gB9MsJKREGl0OBJAfLHRUa/TxY7+MoKOWJZAoMTAB41MiuKeGSNZPj2TEzVtbCqws7mwhuqWLt74vJw3Pi9nREIk87JTyb8qjVHJUUaH7PZ5WSN7iuqJDrNw97UjjA5HAkzOkFjCLCbO1LXT2NFDgg900TxQ3kh9ew8jEiIZl+p72yhFLpUSAx9mMpnIToshOy2G+2aO4rCtmc0FNWw9UUNpYwd//qSUP39SytiUaOZdlcr87FSGxRv3G7rL5eLZj/paH//XKRkkRgVPvwbxjrAQM1cPjeNARROHKpuZnZVsdEhsKewvI2Sn+OwsnsilUGLgJ/oWXsUzMT2eX9yQxedljWwprGH7yVpO1rZxcncbL+4u5pqhscy/Ko1541JIiQn3aoxbT9RyrLqFlOgwlk3O8OprS/CYlNGXGBwsbzI8Meh1utg+sBtBZyNIgFBi4IdCzCamZSYyLTORh+eMYV9JA5sL7PztdB1Hqlo4UtXC/9l5msnD45mXncacsSmDPuXa43Dy4u6+2YLl0zMDrieD+I6+RkdlPrHO4POyRpo6e8lMjGRMisoIEhiUGPi5sBAzs7KSmZWVTEePg11n6thcUMPe4no+K2vis7Imntp+imszE5mfncrsMclEh3n+bX/nSxvlTZ2MTIrklmuGevz5RQaMt8ZhNsFxeysdPQ5Dk1B3GUG7ESSAKDEIIJGhFuZnpzE/O42Wzl52nq5lc0ENn5Y2sKeonj1F9YRbzFw/uq/b4oxRSR451Ki1q5c/7etrfbzy+lF+2XdB/EdMeAjjUmMosLdyxNbM90YY01Wz1+Fk5yk1NZLAo8QgQMVGhHDz1UO5+eqh1Ld3s+1ELVsK7RyoaGbbyVq2nawlOszC7Kxk5l+VxrQRCYRYLq/b4v/7rJyGjh4mpMcZXvOV4JA7LJ4CeysHK4xLDD7tLyOMSo5SGUECihKDIJAUFcaS3HSW5KZT1dLJ1sJaNhfaOV7dysbjdjYetxMfEcLccX07G3KHxV/0gUe1rV38e/8x0w/MGqXpVPGKScPi+MuBCg4YuM5goIwwT4sOJcAoMQgyQ2Mj+MmUDH4yJYPShg42F9rZXFBDUX076760se5LG6nRYeRlp5Lf3874fP/Yv/xxCZ29Tm7ISmZierwXRyLBbGL/SYuHK5vpdTgve7brcvU4nOw8VQfAXB2xLAFGiUEQG5EYyc+uzeTuaSM4VdvG5sIaNhfYqWzu4s0vKnjziwqGxUcwPzuV+dlpjPm75i2n7K28f6QKiwlWzhxl0CgkGCVHhzEiMZLShg4K7a1cbY3z6uvvL2mkpauXrOQoRierjCCBRYmBYDKZGJsaw9jUGFZcN5KjVS1s6m+kVNHUyav7y3h1fxmjk6PcScLwxEie2lSAwwW3jh/KyCTf6b4owSE3PY7Shg4OVjZ7PTFwn42gRYcSgJQYyFlMJhPXWOO4xhrHz2eP5kB5E5sL7Ww/WcuZunZe2lvCS3tLGJsazcmaNiJCzNwzPdPosCUI5WbE8/7Rag6WN/FjLzbU6u518rfTamokgUuJgXwri9nElBEJTBmRwP+cM4b9JY1sKrTzt1N1nKxpA+DHkzO83mFRBGBS/zqDg5XNuFwury183VfSQGuXg7Gp0Zopk4CkxEAuSqjFzHWjk7hudBKdPQ72FtXT6HDxD2O18EqMMSw+gpToMGrbuimu7/DaYWJbT2g3ggQ27y7llYAQEWphzrhU/vusLMJD9BESY5hMpv72yHht22JXr5OPTg/sRlBiIIFJP9VFxG9NGta36NBb5ybsK66nrdtBdloMIxKNO8lUZDApMRARv5Wb0b/OwEuJgXs3gnoXSADzWmJQVFTE0qVLyc/PZ+nSpRQXF59zj8PhYNWqVeTl5TFv3jzWrl17Udeee+45pk+fzqJFi1i0aBGrVq3yxpBExGBZydHEhFuwNXdR1dI5qK/V2eNg1+l6QLsRJLB5bfHho48+yrJly1i0aBHvvfcejzzyCK+99tpZ96xfv57S0lI2b95MY2MjixcvZvr06WRkZJz3GsDixYv51a9+5a3hiIgPsJhNTEyPZ09RPQfLm1mQEzFor7W3uIH2Hgc5Q2LISFAZQQKXV2YM6urqOHbsGAsXLgRg4cKFHDt2jPr6+rPu27hxI0uWLMFsNpOUlEReXh4ffvjhBa+JSPDK9dI6A+1GkGDhlcTAZrMxZMgQLJa+I34tFgtpaWnYbLZz7ktPT3d/b7VaqaqquuA1gA8++ICbb76Zu+66iwMHDgzmcETEh0zyws6EvjKCdiNIcAiIPgY/+tGPuPfeewkNDWXPnj2sWLGCjRs3kph48cexJifHeDSm1NRYjz6fr9I4A4s/jnNmYhRhbx/mTF07odHhJESFXfAxlzrOjYdtdPY6mZiRwMQx/pMY+OP7eTk0Ts/ySmJgtVqprq7G4XBgsVhwOBzY7XasVus591VWVjJhwgTg7FmC811LTf3qf9TrrrsOq9XKyZMnmTp16kXHWFfXitPpuqJxDkhNjaWmpsUjz+XLNM7A4s/jvHpIDAcqmtn2ZSWzspLPe+/ljHPdZ6UA3JiV5Dd/R/78fl4KjfPSmc2m8/4y7JVSQnJyMjk5OWzYsAGADRs2kJOTQ1JS0ln3LViwgLVr1+J0Oqmvr2fr1q3k5+df8Fp1dbX7OY4fP05FRQWjRum0P5FgMdDoaDDWGbR3O9h1pm891Fx1+pQg4LVSwmOPPcavf/1rXnzxReLi4li9ejUAy5cv54EHHmD8+PEsWrSIQ4cOMX/+fABWrlzJ8OHDAc57bc2aNRw9ehSz2UxoaChPPfXUWbMIIhLY+hKDskFJDHYX1dHV62S8NY6hcYO360HEV5hcLpdn5s/9nEoJl07jDCz+PM7Wrl7mvrgXk8nEzpUziAi1fOu9lzrOh98/xo5TtfzihtEs+673TnG8Uv78fl4KjfPS+UQpQURkMMWEhzA2NQaH08URm+f+kWjr7mVv0UAZQbOQEhyUGIhIQBjoZ+DJbYu7z9TT5XAyMT2OIbE6XlyCgxIDEQkIkwZhAeKWwv6mRtmaLZDgocRARALCwM6Ew7Zmej2wXqi1q5e9xfWYgDnajSBBRImBiASE5OgwRiRE0tHjpNDeesXP99HpOnocLnKHxZMaozKCBA8lBiISMCb2rzM45IFywsDZCHkqI0iQUWIgIgEj10PnJrR09rKvpAGzSWUECT5KDEQkYAwsQDxU0cyVtGj52+laehwuvpsRT0r0hc9eEAkkSgxEJGBkJESQHB1GQ0cPJQ0dl/08W0/UApCnkxQlCCkxEJGAYTKZmDTQz6D88soJzZ097jLCjSojSBBSYiAiAeVKD1TaeaoOh9PF5OEJJF3EEc4igUaJgYgElCtNDNy7EVRGkCClxEBEAsqYlGiiwyxUNndR3dJ1SY9t7Ohhf2kjFu1GkCCmxEBEAorFbGJiet86g0udNdh5qhaH08X3RiSSEBk6GOGJ+DwlBiIScHIzLq+fwVdlBM0WSPBSYiAiAcd9oNIl7ExoaO/ms9JGLGYTs8coMZDgpcRARAJOzpBYQi0mTte109zZc1GP2XGqDocLpo5IUBlBgpoSAxEJOOEhZq4eGgvAocrmi3qMdiOI9FFiICIBKfcSygl1bd18XtZIiNnEDWOSBzs0EZ+mxEBEAtJXBypdeMZgx6lanC64NjORuAiVESS4KTEQkYA0MT0OE3C8uoXOHsd5791aqCOWRQYoMRCRgBQTHsLY1Gh6nS6OVrV86321bd18Ud5EqMXErNEqI4goMRCRgDVp2IX7GWw/WYuLvjJCbESIlyIT8V1KDEQkYA00OjpfB8SthXZAuxFEBigxEJGANbAA8XBlC71O1znX7S1dHKxoJsxiYlaWyggioMRARAJYSnQYwxMiaO9xcMLees71gTLCjJFJxISrjCACSgxEJMCd7xhmd1Mj7UYQcVNiICIB7avE4Ox+BtUtXRyqbCbcYub60UlGhCbik5QYiEhA+/qMgcv11TqDbf2zBTNGJREdpjKCyAAlBiIS0IYnRJAUFUpDRw8lDR3uPx8oI8xTGUHkLEoMRCSgmUymr45h7l9nYGvu5LCthfAQlRFE/p4SAxEJeH+/AHHbiVoAZo5OIjLUYlhcIr5IiYGIBLxJGWcfqKQjlkW+nRIDEQl4Y1KiiQ6zUNnUyWfF9RytaiEixMx1o1RGEPl7SgxEJOBZzCYmpMcBsGrDMQBmZiUToTKCyDm8lhgUFRWxdOlS8vPzWbp0KcXFxefc43A4WLVqFXl5ecybN4+1a9de8TUREfjqQKXD/esM5qmMIPKNvLZ599FHH2XZsmUsWrSI9957j0ceeYTXXnvtrHvWr19PaWkpmzdvprGxkcWLFzN9+nQyMjIu+5qICHy1ABEgKtTC9JGJBkYj4ru8MmNQV1fHsWPHWLhwIQALFy7k2LFj1NfXn3Xfxo0bWbJkCWazmaSkJPLy8vjwww+v6JqICMB3hsYSajEBMDMrSWUEkW/hlRkDm83GkCFDsFj6/ke0WCykpaVhs9lISko667709HT391arlaqqqiu6drGSk2MufWDnkZoa69Hn81UaZ2AJ9HFOyUyp/lyRAAAJg0lEQVTi4zN1/HBqZsCPFQL//RygcXqW+oD2q6trxfkNx7JejtTUWGpqWjzyXL5M4wwswTDOX9+YReX0TMYnRwb8WIPh/QSN83KYzabz/jLslVKC1Wqluroah8MB9C0WtNvtWK3Wc+6rrKx0f2+z2Rg6dOgVXRMRGZAeH8FN11gxmUxGhyLis7ySGCQnJ5OTk8OGDRsA2LBhAzk5OWeVEQAWLFjA2rVrcTqd1NfXs3XrVvLz86/omoiIiFw8r5USHnvsMX7961/z4osvEhcXx+rVqwFYvnw5DzzwAOPHj2fRokUcOnSI+fPnA7By5UqGDx8OcNnXRERE5OKZXF8/hzSIaY3BpdM4A4vGGVg0zsAScGsMRERExD8oMRARERE3JQYiIiLipsRARERE3JQYiIiIiJsSAxEREXFTYiAiIiJuSgxERETETYco9TObPds73dPP56s0zsCicQYWjTOweGqcF3oedT4UERERN5USRERExE2JgYiIiLgpMRARERE3JQYiIiLipsRARERE3JQYiIiIiJsSAxEREXFTYiAiIiJuSgxERETETS2RPWj16tVs2rSJiooK1q9fz7hx44wOaVA0NDTw8MMPU1paSlhYGJmZmTz++OMkJSUZHZrHrVixgvLycsxmM1FRUfzTP/0TOTk5Roc1KJ5//nmee+65gP7szpkzh7CwMMLDwwF46KGHmDlzpsFReVZXVxdPPvkkH3/8MeHh4eTm5vK73/3O6LA8rry8nJUrV7q/b2lpobW1lf379xsYleft2LGDZ555BpfLhcvl4r777mP+/PmD+ppKDDxo7ty5/PSnP+XHP/6x0aEMKpPJxM9+9jOmTZsG9CVE//Iv/8KTTz5pcGSet3r1amJjYwHYunUrv/nNb3jnnXcMjsrzjh49ysGDBxk2bJjRoQy6Z599NmATH4Df//73hIeHs2nTJkwmE7W1tUaHNCgyMjJ477333N8/8cQTOBwOAyPyPJfLxcMPP8wbb7zBuHHjKCgo4PbbbycvLw+zefAm/FVK8KApU6ZgtVqNDmPQJSQkuJMCgNzcXCorKw2MaPAMJAUAra2tmEyBd1hLd3c3jz/+OI899pjRocgVamtr49133+XBBx90f1ZTUlIMjmrwdXd3s379en7wgx8YHYrHmc1mWlpagL5ZkbS0tEFNCkAzBnKFnE4nb775JnPmzDE6lEHz29/+lj179uByufjTn/5kdDge98wzz3DLLbeQkZFhdChe8dBDD+FyuZg8eTK//OUviYuLMzokjykrKyMhIYHnn3+eTz75hOjoaB588EGmTJlidGiDavv27QwZMoSrr77a6FA8ymQy8fTTT7NixQqioqJoa2vj5ZdfHvTX1YyBXJHf/e53REVF8ZOf/MToUAbNE088wc6dO/nFL37BU089ZXQ4HnXgwAGOHDnCsmXLjA7FK9544w3ef/993n77bVwuF48//rjRIXmUw+GgrKyM73znO6xbt46HHnqI+++/n9bWVqNDG1Rvv/12QM4W9Pb28sc//pEXX3yRHTt28Ic//IGf//zntLW1DerrKjGQy7Z69WpKSkp4+umnB31qyxcsXryYTz75hIaGBqND8ZhPP/2U06dPM3fuXObMmUNVVRV33303u3fvNjq0QTFQ6gsLC2PZsmV88cUXBkfkWVarlZCQEBYuXAjAxIkTSUxMpKioyODIBk91dTWffvopN998s9GheNzx48ex2+1MnjwZgMmTJxMZGcnp06cH9XUD/6e5DIo1a9Zw5MgRXnjhBcLCwowOZ1C0tbVhs9nc32/fvp34+HgSEhIMjMqz7rnnHnbv3s327dvZvn07Q4cO5c9//jPXX3+90aF5XHt7u7tW63K52LhxY8DtMElKSmLatGns2bMHgKKiIurq6sjMzDQ4ssHzzjvvMHv2bBITE40OxeOGDh1KVVUVZ86cAeD06dPU1dUxYsSIQX1dk8vlcg3qKwSRf/7nf2bz5s3U1taSmJhIQkICH3zwgdFhedzJkydZuHAhI0eOJCIiAuhbIfzCCy8YHJln1dbWsmLFCjo6OjCbzcTHx/OrX/0q4OqYXzdnzhxeeumlgFy1X1ZWxv3334/D4cDpdJKVlcU//uM/kpaWZnRoHlVWVsZvfvMbGhsbCQkJ4ec//zmzZ882OqxBk5+fz29/+1tmzZpldCiD4v333+eVV15xLyZ94IEHyMvLG9TXVGIgIiIibioliIiIiJsSAxEREXFTYiAiIiJuSgxERETETYmBiIiIuCkxEBG/kJ2dTUlJidFhiAQ8nZUgIpdlzpw51NbWYrFY3H9266238sgjjxgYlYhcKSUGInLZXnrpJWbMmGF0GCLiQSoliIhHrVu3jh/96Ec8/vjjTJ48mQULFvDxxx+7r1dXV3PvvfcydepU5s2bx1//+lf3NYfDwUsvvUReXh6TJk3itttuO6st9d69e5k/fz5Tpkxh1apVqD+biOdpxkBEPO7LL79kwYIF7Nu3jy1btnDfffexbds2EhIS+OUvf8nYsWPZtWsXZ86c4c4772T48OFMnz6dV199lQ8++ICXX36ZUaNGUVhY6G67DbBz507eeustWltbue2227jxxhsDthWuiFE0YyAil23lypVMmTLF/d/Ab/9JSUnccccdhIaG8v3vf59Ro0axc+dObDYbX3zxBQ899BDh4eHk5OSwZMkS3nvvPQDWrl3Lgw8+yOjRozGZTFx11VVnHY6zfPly4uLiSE9PZ9q0aRQUFBgybpFAphkDEblsL7zwwjlrDNatW8eQIUPch74ApKenY7fbsdvtxMfHExMTc9a1I0eOAFBVVXXek+NSU1PdX0dGRg76ufQiwUgzBiLicdXV1WfV/202G2lpaaSlpdHU1ERra+tZ14YMGQL0HTNbWlrq9XhF5CtKDETE4+rr63nttdfo6enhP//zPzl9+jSzZ8/GarUyadIk1qxZQ1dXFwUFBbz11lvccsstACxZsoRnnnmG4uJiXC4XBQUFNDQ0GDwakeCiUoKIXLZ77733rD4GM2bMYO7cuUyYMIGSkhKuvfZaUlJSePbZZ91rBdasWcOjjz7KzJkziYuL4/7773eXI+688066u7u56667aGhoYPTo0bzwwguGjE0kWJlc2u8jIh60bt061q5dy5tvvml0KCJyGVRKEBERETclBiIiIuKmUoKIiIi4acZARERE3JQYiIiIiJsSAxEREXFTYiAiIiJuSgxERETETYmBiIiIuP1/IHk0Ej8qmCsAAAAASUVORK5CYII=\n"
          },
          "metadata": {}
        }
      ]
    },
    {
      "cell_type": "markdown",
      "source": [
        "RGB+Depth Model Training"
      ],
      "metadata": {
        "id": "Y89NHrGoB2HD"
      }
    },
    {
      "cell_type": "code",
      "source": [
        "resize = None # (1047, 1047)\n",
        "BATCH_SIZE = 4\n",
        "EPOCHS = 8\n",
        "LEARNING_RATE = 0.001\n",
        "nnet = DeepConvDepthNN()\n",
        "train_loss, train_acc = train_depth(nnet, BATCH_SIZE, EPOCHS, LEARNING_RATE, resize=resize)"
      ],
      "metadata": {
        "colab": {
          "base_uri": "https://localhost:8080/"
        },
        "id": "JgBQ6YdpB4b4",
        "outputId": "eca90e01-62e8-42c3-e01e-51bd4cfb45a9"
      },
      "execution_count": 66,
      "outputs": [
        {
          "output_type": "stream",
          "name": "stdout",
          "text": [
            "batch size: 4\n",
            "n epochs: 8\n",
            "learning rate: 0.001\n",
            "====================\n"
          ]
        },
        {
          "output_type": "stream",
          "name": "stderr",
          "text": [
            "Epoch 0: 100%|██████████| 8/8 [00:04<00:00,  1.68batch/s]\n",
            "Epoch 1: 100%|██████████| 8/8 [00:04<00:00,  1.92batch/s]\n",
            "Epoch 2: 100%|██████████| 8/8 [00:04<00:00,  1.94batch/s]\n",
            "Epoch 3: 100%|██████████| 8/8 [00:04<00:00,  1.83batch/s]\n",
            "Epoch 4: 100%|██████████| 8/8 [00:04<00:00,  1.82batch/s]\n",
            "Epoch 5: 100%|██████████| 8/8 [00:04<00:00,  1.81batch/s]\n",
            "Epoch 6: 100%|██████████| 8/8 [00:04<00:00,  1.93batch/s]\n",
            "Epoch 7: 100%|██████████| 8/8 [00:04<00:00,  1.87batch/s]"
          ]
        },
        {
          "output_type": "stream",
          "name": "stdout",
          "text": [
            "Training Finished, took 34.8s\n"
          ]
        },
        {
          "output_type": "stream",
          "name": "stderr",
          "text": [
            "\n"
          ]
        }
      ]
    },
    {
      "cell_type": "markdown",
      "metadata": {
        "cell_id": "56445f7c0ccb40fd91752ed5276d3936",
        "deepnote_cell_type": "text-cell-h3",
        "is_collapsed": false,
        "tags": [],
        "id": "axSopife5BYn"
      },
      "source": [
        "### loss and accuracy plots"
      ]
    },
    {
      "cell_type": "code",
      "execution_count": 67,
      "metadata": {
        "cell_id": "00015-de286b2a-7da2-4aa4-aa95-a61ac30fafc3",
        "colab": {
          "base_uri": "https://localhost:8080/",
          "height": 803
        },
        "deepnote_cell_height": 954,
        "deepnote_cell_type": "code",
        "deepnote_output_heights": [
          395,
          395
        ],
        "deepnote_to_be_reexecuted": false,
        "execution_millis": 997,
        "execution_start": 1648410475664,
        "id": "SJI6erJmOKx-",
        "outputId": "6b1cc10c-7174-43a5-cdc9-0c76e2426369",
        "source_hash": "6dbbc570"
      },
      "outputs": [
        {
          "output_type": "display_data",
          "data": {
            "text/plain": [
              "<Figure size 576x432 with 1 Axes>"
            ],
            "image/png": "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\n"
          },
          "metadata": {}
        },
        {
          "output_type": "display_data",
          "data": {
            "text/plain": [
              "<Figure size 576x432 with 1 Axes>"
            ],
            "image/png": "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\n"
          },
          "metadata": {}
        }
      ],
      "source": [
        "plot_epochs(train_loss)\n",
        "plot_epochs(train_acc, plotType=\"accuracy\")"
      ]
    },
    {
      "cell_type": "code",
      "execution_count": null,
      "metadata": {
        "cell_id": "00016-971d0818-5eb3-430a-b009-31450e7dbf18",
        "deepnote_cell_height": 81,
        "deepnote_cell_type": "code",
        "deepnote_to_be_reexecuted": false,
        "execution_millis": 1,
        "execution_start": 1648410476273,
        "source_hash": "b623e53d",
        "id": "TEjySmmm5BYo"
      },
      "outputs": [],
      "source": [
        ""
      ]
    },
    {
      "cell_type": "code",
      "execution_count": null,
      "metadata": {
        "cell_id": "00017-d8a6f4f7-0271-456e-b7db-c1c8aae645d3",
        "deepnote_cell_height": 81,
        "deepnote_cell_type": "code",
        "deepnote_to_be_reexecuted": false,
        "execution_millis": 179031056,
        "execution_start": 1648410476317,
        "source_hash": "b623e53d",
        "id": "4xEqyvMS5BYo"
      },
      "outputs": [],
      "source": [
        ""
      ]
    },
    {
      "cell_type": "markdown",
      "metadata": {
        "created_in_deepnote_cell": true,
        "deepnote_cell_type": "markdown",
        "tags": [],
        "id": "UBg9_0155BYo"
      },
      "source": [
        "<a style='text-decoration:none;line-height:16px;display:flex;color:#5B5B62;padding:10px;justify-content:end;' href='https://deepnote.com?utm_source=created-in-deepnote-cell&projectId=adefdfa6-d6a9-4c68-83ce-d8488efeaa89' target=\"_blank\">\n",
        "<img alt='Created in deepnote.com' style='display:inline;max-height:16px;margin:0px;margin-right:7.5px;' src='data:image/svg+xml;base64,PD94bWwgdmVyc2lvbj0iMS4wIiBlbmNvZGluZz0iVVRGLTgiPz4KPHN2ZyB3aWR0aD0iODBweCIgaGVpZ2h0PSI4MHB4IiB2aWV3Qm94PSIwIDAgODAgODAiIHZlcnNpb249IjEuMSIgeG1sbnM9Imh0dHA6Ly93d3cudzMub3JnLzIwMDAvc3ZnIiB4bWxuczp4bGluaz0iaHR0cDovL3d3dy53My5vcmcvMTk5OS94bGluayI+CiAgICA8IS0tIEdlbmVyYXRvcjogU2tldGNoIDU0LjEgKDc2NDkwKSAtIGh0dHBzOi8vc2tldGNoYXBwLmNvbSAtLT4KICAgIDx0aXRsZT5Hcm91cCAzPC90aXRsZT4KICAgIDxkZXNjPkNyZWF0ZWQgd2l0aCBTa2V0Y2guPC9kZXNjPgogICAgPGcgaWQ9IkxhbmRpbmciIHN0cm9rZT0ibm9uZSIgc3Ryb2tlLXdpZHRoPSIxIiBmaWxsPSJub25lIiBmaWxsLXJ1bGU9ImV2ZW5vZGQiPgogICAgICAgIDxnIGlkPSJBcnRib2FyZCIgdHJhbnNmb3JtPSJ0cmFuc2xhdGUoLTEyMzUuMDAwMDAwLCAtNzkuMDAwMDAwKSI+CiAgICAgICAgICAgIDxnIGlkPSJHcm91cC0zIiB0cmFuc2Zvcm09InRyYW5zbGF0ZSgxMjM1LjAwMDAwMCwgNzkuMDAwMDAwKSI+CiAgICAgICAgICAgICAgICA8cG9seWdvbiBpZD0iUGF0aC0yMCIgZmlsbD0iIzAyNjVCNCIgcG9pbnRzPSIyLjM3NjIzNzYyIDgwIDM4LjA0NzY2NjcgODAgNTcuODIxNzgyMiA3My44MDU3NTkyIDU3LjgyMTc4MjIgMzIuNzU5MjczOSAzOS4xNDAyMjc4IDMxLjY4MzE2ODMiPjwvcG9seWdvbj4KICAgICAgICAgICAgICAgIDxwYXRoIGQ9Ik0zNS4wMDc3MTgsODAgQzQyLjkwNjIwMDcsNzYuNDU0OTM1OCA0Ny41NjQ5MTY3LDcxLjU0MjI2NzEgNDguOTgzODY2LDY1LjI2MTk5MzkgQzUxLjExMjI4OTksNTUuODQxNTg0MiA0MS42NzcxNzk1LDQ5LjIxMjIyODQgMjUuNjIzOTg0Niw0OS4yMTIyMjg0IEMyNS40ODQ5Mjg5LDQ5LjEyNjg0NDggMjkuODI2MTI5Niw0My4yODM4MjQ4IDM4LjY0NzU4NjksMzEuNjgzMTY4MyBMNzIuODcxMjg3MSwzMi41NTQ0MjUgTDY1LjI4MDk3Myw2Ny42NzYzNDIxIEw1MS4xMTIyODk5LDc3LjM3NjE0NCBMMzUuMDA3NzE4LDgwIFoiIGlkPSJQYXRoLTIyIiBmaWxsPSIjMDAyODY4Ij48L3BhdGg+CiAgICAgICAgICAgICAgICA8cGF0aCBkPSJNMCwzNy43MzA0NDA1IEwyNy4xMTQ1MzcsMC4yNTcxMTE0MzYgQzYyLjM3MTUxMjMsLTEuOTkwNzE3MDEgODAsMTAuNTAwMzkyNyA4MCwzNy43MzA0NDA1IEM4MCw2NC45NjA0ODgyIDY0Ljc3NjUwMzgsNzkuMDUwMzQxNCAzNC4zMjk1MTEzLDgwIEM0Ny4wNTUzNDg5LDc3LjU2NzA4MDggNTMuNDE4MjY3Nyw3MC4zMTM2MTAzIDUzLjQxODI2NzcsNTguMjM5NTg4NSBDNTMuNDE4MjY3Nyw0MC4xMjg1NTU3IDM2LjMwMzk1NDQsMzcuNzMwNDQwNSAyNS4yMjc0MTcsMzcuNzMwNDQwNSBDMTcuODQzMDU4NiwzNy43MzA0NDA1IDkuNDMzOTE5NjYsMzcuNzMwNDQwNSAwLDM3LjczMDQ0MDUgWiIgaWQ9IlBhdGgtMTkiIGZpbGw9IiMzNzkzRUYiPjwvcGF0aD4KICAgICAgICAgICAgPC9nPgogICAgICAgIDwvZz4KICAgIDwvZz4KPC9zdmc+' > </img>\n",
        "Created in <span style='font-weight:600;margin-left:4px;'>Deepnote</span></a>"
      ]
    }
  ],
  "metadata": {
    "accelerator": "GPU",
    "colab": {
      "collapsed_sections": [],
      "name": "assignment1(new2).ipynb",
      "provenance": []
    },
    "deepnote": {},
    "deepnote_execution_queue": [],
    "deepnote_notebook_id": "fd2d20f4-5301-458e-8e62-af75bc6e110a",
    "kernelspec": {
      "display_name": "Python [conda env:.conda-torch] *",
      "language": "python",
      "name": "conda-env-.conda-torch-py"
    },
    "language_info": {
      "codemirror_mode": {
        "name": "ipython",
        "version": 3
      },
      "file_extension": ".py",
      "mimetype": "text/x-python",
      "name": "python",
      "nbconvert_exporter": "python",
      "pygments_lexer": "ipython3",
      "version": "3.9.7"
    },
    "orig_nbformat": 4
  },
  "nbformat": 4,
  "nbformat_minor": 0
}