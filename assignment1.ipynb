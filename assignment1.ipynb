{
  "cells": [
    {
      "cell_type": "markdown",
      "metadata": {
        "cell_id": "755ef7cc755043beb90e20360bfdce13",
        "deepnote_cell_type": "text-cell-h1",
        "is_collapsed": false,
        "tags": [],
        "id": "qL1D0AyN5BYV"
      },
      "source": [
        "# Grasp Detection"
      ]
    },
    {
      "cell_type": "markdown",
      "metadata": {
        "cell_id": "0def3a9428bd4f8bbf7b388bc4d45457",
        "deepnote_cell_type": "text-cell-h3",
        "is_collapsed": false,
        "tags": [],
        "id": "4EupTQHX5BYZ"
      },
      "source": [
        "### Comp 341"
      ]
    },
    {
      "cell_type": "markdown",
      "metadata": {
        "cell_id": "2f56a80690d44e6f88ae70c842898f0e",
        "deepnote_cell_type": "text-cell-h3",
        "is_collapsed": false,
        "tags": [],
        "id": "cBe-KNqb5BYZ"
      },
      "source": [
        "### Imports"
      ]
    },
    {
      "cell_type": "code",
      "execution_count": 37,
      "metadata": {
        "cell_id": "d4b7ca9e-c9dd-4abf-ad85-6e9057749156",
        "colab": {
          "base_uri": "https://localhost:8080/"
        },
        "deepnote_cell_height": 688,
        "deepnote_cell_type": "code",
        "deepnote_to_be_reexecuted": false,
        "execution_millis": 2511,
        "execution_start": 1648410279844,
        "id": "69WPLPGqOKxv",
        "outputId": "d8131fb8-3e08-4357-86ee-90a8866d87f5",
        "source_hash": "fc484c80"
      },
      "outputs": [
        {
          "output_type": "stream",
          "name": "stdout",
          "text": [
            "Using torch 1.10.0+cu111\n"
          ]
        }
      ],
      "source": [
        "import os\n",
        "import numpy as np \n",
        "from numpy import cos, sin\n",
        "import matplotlib.pyplot as plt\n",
        "import multiprocessing\n",
        "import time\n",
        "\n",
        "from visualisation import draw_box, cv2_imshow\n",
        "from rect_metric import compare_grasps, grasp_accuracy, visul_grasps\n",
        "\n",
        "%matplotlib inline\n",
        "\n",
        "import seaborn as sns\n",
        "sns.set()\n",
        "\n",
        "## Progress bar\n",
        "from tqdm.std import tqdm, trange\n",
        "from tqdm import notebook\n",
        "\n",
        "notebook.tqdm = tqdm\n",
        "notebook.trange = trange\n",
        "\n",
        "import torch\n",
        "import torch.nn as nn\n",
        "import torch.nn.functional as F\n",
        "import torch.utils.data as td\n",
        "import torch.optim as optim\n",
        "torch.backends.cudnn.benchmark = True \n",
        "\n",
        "import torchvision as tv\n",
        "\n",
        "\n",
        "print(\"Using torch\", torch.__version__)"
      ]
    },
    {
      "cell_type": "code",
      "execution_count": 38,
      "metadata": {
        "cell_id": "00001-73f19767-3ba4-47f2-bec2-34704d6bb0f6",
        "deepnote_cell_height": 225,
        "deepnote_cell_type": "code",
        "deepnote_to_be_reexecuted": false,
        "execution_millis": 2,
        "execution_start": 1648410282275,
        "id": "-AWEfQ0LslM2",
        "source_hash": "caf0da3f"
      },
      "outputs": [],
      "source": [
        "def set_seed(seed):\n",
        "    np.random.seed(seed)\n",
        "    torch.manual_seed(seed)\n",
        "    if torch.cuda.is_available():  # GPU operation have separate seed\n",
        "        torch.cuda.manual_seed(seed)\n",
        "        torch.cuda.manual_seed_all(seed)\n",
        "\n",
        "\n",
        "set_seed(42)"
      ]
    },
    {
      "cell_type": "code",
      "execution_count": 39,
      "metadata": {
        "cell_id": "00002-26d813dc-a3a7-482b-b91d-9ac10d216d93",
        "colab": {
          "base_uri": "https://localhost:8080/"
        },
        "deepnote_cell_height": 348,
        "deepnote_cell_type": "code",
        "deepnote_to_be_reexecuted": false,
        "execution_millis": 72,
        "execution_start": 1648410282284,
        "id": "SfDDfDrvOKx2",
        "outputId": "14f32d8a-5ab5-4d90-9870-b9a91d4d04a7",
        "source_hash": "3622ec5c"
      },
      "outputs": [
        {
          "output_type": "stream",
          "name": "stdout",
          "text": [
            "Drive already mounted at /content/drive; to attempt to forcibly remount, call drive.mount(\"/content/drive\", force_remount=True).\n",
            "Requirement already satisfied: shapely in /usr/local/lib/python3.7/dist-packages (1.8.1.post1)\n",
            "Using device cuda:0\n"
          ]
        }
      ],
      "source": [
        "# Fetching the device that will be used throughout this notebook\n",
        "\n",
        "try:\n",
        "    from google.colab import drive\n",
        "    drive.mount('/content/drive')\n",
        "    DATASET_PATH = \"drive/MyDrive/Liverpool/Assignments/Year 3/COMP341/COMP341 - Assignment 01 - Data/Data/\"\n",
        "    device = torch.device(\"cpu\") if not torch.cuda.is_available() else torch.device(\"cuda:0\")\n",
        "    !pip install shapely\n",
        "except:\n",
        "    print('not in drive')\n",
        "    DATASET_PATH = 'ass1_data/Data'\n",
        "    device = torch.device(\"cpu\") if not torch.cuda.is_available() else torch.device(\"cuda:1\")\n",
        "print(\"Using device\", device)"
      ]
    },
    {
      "cell_type": "markdown",
      "metadata": {
        "cell_id": "35d2629159834089a66f83aa85345585",
        "deepnote_cell_type": "text-cell-h3",
        "is_collapsed": false,
        "tags": [],
        "id": "fx0qkoS45BYe"
      },
      "source": [
        "### Load Dataset"
      ]
    },
    {
      "cell_type": "code",
      "execution_count": 59,
      "metadata": {
        "cell_id": "00003-3f91b71f-b4ea-41c7-a27f-9fed29001f32",
        "deepnote_cell_height": 1107,
        "deepnote_cell_type": "code",
        "deepnote_to_be_reexecuted": false,
        "execution_millis": 1,
        "execution_start": 1648410282336,
        "id": "HPGyY2z4RiWt",
        "source_hash": "190b3550"
      },
      "outputs": [],
      "source": [
        "from torch.utils.data import Dataset\n",
        "from PIL import Image\n",
        "\n",
        "class GraspDataset(Dataset):\n",
        "  def __init__(self, root_dir, transforms=None, depth_image=None):\n",
        "      self.root_dir = root_dir\n",
        "      self.depth_image = {'perfect':'pDepth', 'stereo': 'sDepth'}.get(depth_image)\n",
        "      self.transforms = transforms if transforms else tv.transforms.Compose([tv.transforms.ToTensor()])\n",
        "\n",
        "      # List of all scenes for all objects in the dataset\n",
        "      self.scene_paths = []\n",
        "      for object_name in os.listdir(root_dir):\n",
        "        for scene_index in range(5): # Scene index ranges from 0 to 4 for all objects\n",
        "\n",
        "          scene_root = f\"{root_dir}/{object_name}/{scene_index}_{object_name}_\"\n",
        "\n",
        "          # Make sure a scene with this index exists for this object\n",
        "          grasp_path = scene_root + \"grasps.txt\"\n",
        "          if not os.path.exists(grasp_path): continue\n",
        "\n",
        "          # Add scene files and appened to the list\n",
        "          scene = {\n",
        "              \"grasps\": grasp_path,\n",
        "              \"rgb\": scene_root + \"RGB.png\",\n",
        "              \"mask\": scene_root + \"mask.png\",\n",
        "              \"pDepth\": scene_root + \"perfect_depth.tiff\",\n",
        "              \"sDepth\": scene_root + \"stereo_depth.tiff\"\n",
        "          }\n",
        "          self.scene_paths.append(scene)\n",
        "\n",
        "  # This must return the length of the dataset\n",
        "  def __len__(self):\n",
        "    return len(self.scene_paths)\n",
        "\n",
        "  # This must return the single dataset item at index idx\n",
        "  def __getitem__(self, idx):\n",
        "\n",
        "    # Load the grasps\n",
        "    grasps = []\n",
        "    with open(self.scene_paths[idx][\"grasps\"]) as file:\n",
        "      lines = file.readlines()\n",
        "      for line in lines:\n",
        "        x, y, theta, openning, jaw_size = [float(number) for number in line.split(\";\")]\n",
        "        grasp = [x, y, theta, openning, jaw_size]\n",
        "        grasps.append(grasp)\n",
        "    grasps = np.array(grasps, dtype=np.float32)\n",
        "\n",
        "    # Load the RGB image\n",
        "    image = Image.open(self.scene_paths[idx][\"rgb\"])\n",
        "\n",
        "    if self.transforms: #do transforms\n",
        "        image = self.transforms(image)\n",
        "\n",
        "    if self.depth_image is not None:\n",
        "      depth = Image.open(self.scene_paths[idx][self.depth_image])\n",
        "      depth = tv.transforms.ToTensor()(depth)\n",
        "      return (image, depth, grasps[0])\n",
        "\n",
        "    return (image, grasps[0])"
      ]
    },
    {
      "cell_type": "markdown",
      "metadata": {
        "cell_id": "d3371b98962b479ca0dc2735c1c0aab0",
        "deepnote_cell_type": "text-cell-h3",
        "is_collapsed": false,
        "tags": [],
        "id": "A78MA6vR5BYg"
      },
      "source": [
        "### Lets look at an image"
      ]
    },
    {
      "cell_type": "code",
      "execution_count": 41,
      "metadata": {
        "cell_id": "00004-9d85998a-391f-4e3f-95d1-18b47a34c9d0",
        "deepnote_cell_height": 297,
        "deepnote_cell_type": "code",
        "deepnote_to_be_reexecuted": false,
        "execution_millis": 0,
        "execution_start": 1648410282337,
        "id": "x61DkC3lvDzT",
        "source_hash": "7335087d"
      },
      "outputs": [],
      "source": [
        "# functions to show an image\n",
        "def imshow(img):\n",
        "    \"\"\"\n",
        "    :param img: (PyTorch Tensor)\n",
        "    \"\"\"\n",
        "    # unnormalize\n",
        "    img = img / 2 + 0.5     \n",
        "    # Convert tensor to numpy array\n",
        "    npimg = img.numpy()\n",
        "    # Color channel first -> color channel last\n",
        "    npimg = np.transpose(npimg, (1, 2, 0))\n",
        "    \n",
        "    plt.imshow(npimg)"
      ]
    },
    {
      "cell_type": "code",
      "execution_count": 42,
      "metadata": {
        "cell_id": "00005-2894ac23-7ab0-42e6-b4ff-a9df42b252b5",
        "colab": {
          "base_uri": "https://localhost:8080/",
          "height": 272
        },
        "deepnote_cell_height": 570,
        "deepnote_cell_type": "code",
        "deepnote_output_heights": [
          257
        ],
        "deepnote_to_be_reexecuted": false,
        "execution_millis": 1234,
        "execution_start": 1648410282338,
        "id": "UMna7vFPf8v7",
        "outputId": "766b03f1-6bc1-45d7-d9c0-d3887efb93f9",
        "source_hash": "a8f42bcf"
      },
      "outputs": [
        {
          "output_type": "display_data",
          "data": {
            "text/plain": [
              "<Figure size 432x288 with 1 Axes>"
            ],
            "image/png": "[encoded data removed]"
          },
          "metadata": {}
        }
      ],
      "source": [
        "# Show off the dataset\n",
        "index = 4\n",
        "\n",
        "dataset = GraspDataset(DATASET_PATH + \"/training\")\n",
        "loader = td.DataLoader(dataset, batch_size=4, shuffle=False, drop_last=False, num_workers=2)\n",
        "batch = next(iter(loader))\n",
        "imshow(batch[0][index%4])\n",
        "\n",
        "\n",
        "# print(\"grasp:\", batch[2][index])\n",
        "# print(\"depth:\", batch[1][index])\n",
        "\n"
      ]
    },
    {
      "cell_type": "markdown",
      "metadata": {
        "cell_id": "71ab9baff04e49c1ad903e70e97d5d66",
        "deepnote_cell_type": "text-cell-h2",
        "is_collapsed": false,
        "tags": [],
        "id": "VDm0bNGF5BYi"
      },
      "source": [
        "## Boilerplate Code"
      ]
    },
    {
      "cell_type": "markdown",
      "metadata": {
        "cell_id": "c7c5f3e2fb3443cc91ae06d3001ae8e2",
        "deepnote_cell_type": "text-cell-h3",
        "is_collapsed": false,
        "tags": [],
        "id": "pH6gB0yZ5BYi"
      },
      "source": [
        "### helpers"
      ]
    },
    {
      "cell_type": "code",
      "execution_count": 43,
      "metadata": {
        "cell_id": "00014-081b308a-c665-423b-8944-82f039a24f2a",
        "deepnote_cell_height": 315,
        "deepnote_cell_type": "code",
        "deepnote_to_be_reexecuted": false,
        "execution_millis": 0,
        "execution_start": 1648410283604,
        "id": "9yRDLP48OKx3",
        "source_hash": "3e818651"
      },
      "outputs": [],
      "source": [
        "colors = [[31, 120, 180], [51, 160, 44]]\n",
        "colors = [(r / 255, g / 255, b / 255) for (r, g, b) in colors]\n",
        "\n",
        "def plot_epochs(train_history, validation_history=None, plotType=\"loss\"):\n",
        "    x = np.arange(1, len(train_history) + 1)\n",
        "    plt.figure(figsize=(8, 6))\n",
        "    if validation_history:\n",
        "        plt.plot(x, val_history, color=colors[1], label=f\"Validation {plotType}\", linewidth=2)\n",
        "    plt.plot(x, train_history, color=colors[0], label=f\"Training {plotType}\", linewidth=2)\n",
        "    plt.ylabel(f'{plotType}')\n",
        "    plt.xlabel('Epoch')\n",
        "    plt.legend(loc='upper right')\n",
        "    plt.title(f\"Evolution of the training and validation {plotType}\")\n",
        "    plt.show()"
      ]
    },
    {
      "cell_type": "code",
      "execution_count": 44,
      "metadata": {
        "cell_id": "00007-c5dd868e-efaa-495f-9d94-d10d26ffa36c",
        "deepnote_cell_height": 153,
        "deepnote_cell_type": "code",
        "deepnote_to_be_reexecuted": false,
        "execution_millis": 4,
        "execution_start": 1648471834552,
        "id": "JD85qwRvOKx4",
        "source_hash": "5e1bf912"
      },
      "outputs": [],
      "source": [
        "def get_cnn_output_size(in_size, kernel_size, stride=1, padding=0):\n",
        "    integer = int((in_size - kernel_size + 2 * padding) / stride) == ((in_size - kernel_size + 2 * padding) / stride)\n",
        "    if not integer:\n",
        "        print(\"not int\", ((in_size - kernel_size + 2 * padding) / stride))\n",
        "    return int((in_size - kernel_size + 2 * padding) / stride) + 1"
      ]
    },
    {
      "cell_type": "code",
      "execution_count": 45,
      "metadata": {
        "cell_id": "00008-39ed4c93-deff-4fb9-bbc2-168c4973ac86",
        "colab": {
          "base_uri": "https://localhost:8080/"
        },
        "deepnote_cell_height": 164,
        "deepnote_cell_type": "code",
        "deepnote_output_heights": [
          21,
          21
        ],
        "deepnote_to_be_reexecuted": false,
        "execution_millis": 217,
        "execution_start": 1648472019236,
        "id": "RcKas80MOKx8",
        "outputId": "e97e6310-cf24-4fd0-8798-c0e401c0d2c5",
        "source_hash": "b986b29d"
      },
      "outputs": [
        {
          "output_type": "stream",
          "name": "stdout",
          "text": [
            "not int 30.5\n"
          ]
        },
        {
          "output_type": "execute_result",
          "data": {
            "text/plain": [
              "31"
            ]
          },
          "metadata": {},
          "execution_count": 45
        }
      ],
      "source": [
        "get_cnn_output_size(64, kernel_size=3, stride=2, padding=0)"
      ]
    },
    {
      "cell_type": "markdown",
      "metadata": {
        "cell_id": "b67a576736304490a68eea06d251349b",
        "deepnote_cell_type": "text-cell-h3",
        "is_collapsed": false,
        "tags": [],
        "id": "tTfTQ4ET5BYj"
      },
      "source": [
        "### loss and optimisers"
      ]
    },
    {
      "cell_type": "code",
      "execution_count": 46,
      "metadata": {
        "cell_id": "00009-15cb4d78-fd6d-41d2-8b78-6714f62c138e",
        "deepnote_cell_height": 189,
        "deepnote_cell_type": "code",
        "deepnote_to_be_reexecuted": false,
        "execution_millis": 1,
        "execution_start": 1648410283610,
        "id": "4SzI9dlCOKx6",
        "source_hash": "9f3fb0a6"
      },
      "outputs": [],
      "source": [
        "def getLoss():\n",
        "    return nn.MSELoss()\n",
        "\n",
        "def getOptimiser(model, learningRate):\n",
        "    #optimiser = optim.SGD(model.parameters(), lr=learning_rate, momentum=0.9)\n",
        "    optimiser = optim.Adam(model.parameters(), lr=learningRate)\n",
        "    return optimiser"
      ]
    },
    {
      "cell_type": "markdown",
      "metadata": {
        "cell_id": "644ad420d15f4c9f94f875b628aa72dd",
        "deepnote_cell_type": "text-cell-h3",
        "is_collapsed": false,
        "tags": [],
        "id": "Zj-SUcN05BYk"
      },
      "source": [
        "### Data Loaders"
      ]
    },
    {
      "cell_type": "code",
      "execution_count": 47,
      "metadata": {
        "cell_id": "00010-6ee948aa-3823-4f03-b77d-81fba404cb80",
        "deepnote_cell_height": 297,
        "deepnote_cell_type": "code",
        "deepnote_to_be_reexecuted": false,
        "execution_millis": 1,
        "execution_start": 1648410283614,
        "id": "oNSAt2C3OKx5",
        "source_hash": "da9344d9"
      },
      "outputs": [],
      "source": [
        "def gen_transforms(resize=None, imgs_mean=(0.5,), imgs_std=(0.5,)):\n",
        "    tst_trans = [tv.transforms.ToTensor()]\n",
        "    if resize is not None:\n",
        "        tst_trans.append(tv.transforms.Resize(resize[0]))\n",
        "        tst_trans.append(tv.transforms.CenterCrop(resize[1]))\n",
        "    tst_trans.append(tv.transforms.Normalize(mean=imgs_mean, std=imgs_std))\n",
        "    return tv.transforms.Compose(tst_trans)\n",
        "\n",
        "def get_train_loader(batchSize, resize=None, depth_image=None):\n",
        "    transforms = gen_transforms(resize)\n",
        "    trainData = GraspDataset(root_dir=f'{DATASET_PATH}/training', transforms=transforms, depth_image=depth_image)\n",
        "    trainLoader = td.DataLoader(trainData, batch_size=batchSize, shuffle=True, drop_last=False, num_workers=2)\n",
        "    return trainLoader"
      ]
    },
    {
      "cell_type": "markdown",
      "metadata": {
        "cell_id": "a1773a7c323b4b018543d595d5ad26b8",
        "deepnote_cell_type": "text-cell-h3",
        "is_collapsed": false,
        "tags": [],
        "id": "l_SbAiQ45BYl"
      },
      "source": [
        "### Training functions"
      ]
    },
    {
      "cell_type": "markdown",
      "source": [
        "RGB Only Training"
      ],
      "metadata": {
        "id": "GT2HVpmlAskR"
      }
    },
    {
      "cell_type": "code",
      "execution_count": 48,
      "metadata": {
        "cell_id": "00012-eb3559ff-2239-4fee-91d9-8265c782624b",
        "deepnote_cell_height": 981,
        "deepnote_cell_type": "code",
        "deepnote_to_be_reexecuted": false,
        "execution_millis": 11,
        "execution_start": 1648410283619,
        "id": "m2KPusVhOKx6",
        "source_hash": "fc925ae4"
      },
      "outputs": [],
      "source": [
        "def train(model, batch_size, n_epochs, learning_rate, resize=None):\n",
        "    print(f\"batch size: {batch_size}\")\n",
        "    print(f\"n epochs: {n_epochs}\")\n",
        "    print(f\"learning rate: {learning_rate}\")\n",
        "    print(\"=\"*20)\n",
        "    \n",
        "    trainLoader = get_train_loader(batch_size, resize)\n",
        "    lossFn = getLoss()\n",
        "    optimizer = getOptimiser(model, learning_rate)\n",
        "\n",
        "    train_history = []\n",
        "    accuracy_history = []\n",
        "    training_start_time = time.time()\n",
        "    \n",
        "    model = model.to(device) # Move model to gpu\n",
        "    model.train() # Set the model to training mode (for DropOut)\n",
        "\n",
        "    for epoch in range(n_epochs):  # loop over the dataset for n_epoch\n",
        "        epoch_loss = 0\n",
        "        epoch_accuracy = 0\n",
        "        \n",
        "        with tqdm(trainLoader, unit=\"batch\") as tepoch:\n",
        "            for rgb, grasp in tepoch:   #for each batch\n",
        "                tepoch.set_description(f\"Epoch {epoch}\")\n",
        "                # Move tensors to gpu\n",
        "                rgb, grasp = rgb.to(device), grasp.to(device)\n",
        "               \n",
        "                # zero the parameter gradients\n",
        "                optimizer.zero_grad()\n",
        "\n",
        "                # forward + backward + optimize\n",
        "                outputs = model(rgb)\n",
        "                # _, predicted = outputs.argmax(dim=1, keepdim=True).squeeze()\n",
        "                #  = torch.max(outputs, 1)\n",
        "                # print('out', outputs.size(), 'targets', grasps.size())\n",
        "                # g = torch.FloatTensor(grasp.cpu().numpy()).to(device)\n",
        "                loss = lossFn(outputs,  grasp)\n",
        "                loss.backward()\n",
        "                optimizer.step()\n",
        "                # add to running totals\n",
        "                epoch_loss += loss.item()\n",
        "                with torch.no_grad():\n",
        "                    accs = grasp_accuracy(outputs.cpu().numpy(), grasp.cpu().numpy())\n",
        "                    epoch_accuracy += accs\n",
        "        epoch_loss = epoch_loss / len(trainLoader)\n",
        "        # print(f\"Epoch #{epoch + 1} train_loss: {round(epoch_loss,2)} accuracy: {round(epoch_accuracy,1)}% took: {round(time.time() - start_time,2)}s\") \n",
        "        train_history.append(epoch_loss)\n",
        "        accuracy_history.append(epoch_accuracy/len(trainLoader))\n",
        "        \n",
        "    print(f\"Training Finished, took {round(time.time() - training_start_time,1)}s\")\n",
        "    return train_history, accuracy_history"
      ]
    },
    {
      "cell_type": "markdown",
      "source": [
        "RGB + Depth Training"
      ],
      "metadata": {
        "id": "fUrbib5CAvus"
      }
    },
    {
      "cell_type": "code",
      "source": [
        "def train_depth(model, batch_size, n_epochs, learning_rate, resize=None):\n",
        "    print(f\"batch size: {batch_size}\")\n",
        "    print(f\"n epochs: {n_epochs}\")\n",
        "    print(f\"learning rate: {learning_rate}\")\n",
        "    print(\"=\"*20)\n",
        "    \n",
        "    trainLoader = get_train_loader(batch_size, resize, depth_image=\"perfect\")\n",
        "    lossFn = getLoss()\n",
        "    optimizer = getOptimiser(model, learning_rate)\n",
        "\n",
        "    train_history = []\n",
        "    accuracy_history = []\n",
        "    training_start_time = time.time()\n",
        "    \n",
        "    model = model.to(device) # Move model to gpu\n",
        "    model.train() # Set the model to training mode (for DropOut)\n",
        "\n",
        "    for epoch in range(n_epochs):  # loop over the dataset for n_epoch\n",
        "        epoch_loss = 0\n",
        "        epoch_accuracy = 0\n",
        "        \n",
        "        with tqdm(trainLoader, unit=\"batch\") as tepoch:\n",
        "            for rgb, depth, grasp in tepoch:   #for each batch\n",
        "                tepoch.set_description(f\"Epoch {epoch}\")\n",
        "                # Move tensors to gpu\n",
        "                rgb, depth, grasp = rgb.to(device), depth.to(device), grasp.to(device)\n",
        "               \n",
        "                # zero the parameter gradients\n",
        "                optimizer.zero_grad()\n",
        "\n",
        "                # forward + backward + optimize\n",
        "                outputs = model(rgb, depth)\n",
        "                # _, predicted = outputs.argmax(dim=1, keepdim=True).squeeze()\n",
        "                #  = torch.max(outputs, 1)\n",
        "                # print('out', outputs.size(), 'targets', grasps.size())\n",
        "                # g = torch.FloatTensor(grasp.cpu().numpy()).to(device)\n",
        "                loss = lossFn(outputs,  grasp)\n",
        "                loss.backward()\n",
        "                optimizer.step()\n",
        "                # add to running totals\n",
        "                epoch_loss += loss.item()\n",
        "                with torch.no_grad():\n",
        "                    accs = grasp_accuracy(outputs.cpu().numpy(), grasp.cpu().numpy())\n",
        "                    epoch_accuracy += accs\n",
        "        epoch_loss = epoch_loss / len(trainLoader)\n",
        "        # print(f\"Epoch #{epoch + 1} train_loss: {round(epoch_loss,2)} accuracy: {round(epoch_accuracy,1)}% took: {round(time.time() - start_time,2)}s\") \n",
        "        train_history.append(epoch_loss)\n",
        "        accuracy_history.append(epoch_accuracy/len(trainLoader))\n",
        "        \n",
        "    print(f\"Training Finished, took {round(time.time() - training_start_time,1)}s\")\n",
        "    return train_history, accuracy_history"
      ],
      "metadata": {
        "id": "UISOKiJ5AnWD"
      },
      "execution_count": 49,
      "outputs": []
    },
    {
      "cell_type": "markdown",
      "metadata": {
        "cell_id": "c72bc27cbdf24f158b03a64642764b30",
        "deepnote_cell_type": "text-cell-h2",
        "is_collapsed": false,
        "tags": [],
        "id": "ewLO4phy5BYl"
      },
      "source": [
        "## Our Models"
      ]
    },
    {
      "cell_type": "markdown",
      "source": [
        "RGB Only Models"
      ],
      "metadata": {
        "id": "phmmbO6Tv89E"
      }
    },
    {
      "cell_type": "code",
      "execution_count": 50,
      "metadata": {
        "cell_id": "1138c8426ff44608ad112142f692d7af",
        "deepnote_cell_height": 567,
        "deepnote_cell_type": "code",
        "deepnote_to_be_reexecuted": false,
        "execution_millis": 1,
        "execution_start": 1648410283652,
        "source_hash": "99529ab",
        "tags": [],
        "id": "0Vy2iute5BYm"
      },
      "outputs": [],
      "source": [
        "class ResNetBlock(nn.Module):\n",
        "    def __init__(self, depth_in, activation_func, depth_out=-1):\n",
        "        super().__init__()\n",
        "        if depth_out == -1:\n",
        "            depth_out = depth_in\n",
        "        else:\n",
        "            self.downSampleResidul = True\n",
        "\n",
        "        self.resBlock = nn.Sequential(\n",
        "            nn.BatchNorm2d(depth_in),\n",
        "            activation_func(),\n",
        "            nn.Conv2d(depth_in, depth_out, kernel_size=3, padding=1, stride=1 if not self.downSampleResidul else 2, bias=False),\n",
        "            nn.BatchNorm2d(depth_out),\n",
        "            activation_func(),\n",
        "            nn.Conv2d(depth_out, depth_out, kernel_size=3, padding=1, bias=False)\n",
        "        )\n",
        "\n",
        "        self.downsampleRes = nn.Sequential(\n",
        "            nn.BatchNorm2d(depth_in),\n",
        "            activation_func(),\n",
        "            nn.Conv2d(depth_in, depth_out, kernel_size=1, stride=2, bias=False)\n",
        "        )\n",
        "\n",
        "    def forward(self, x):\n",
        "        z = self.resBlock(x)\n",
        "        if self.downSampleResidul:\n",
        "            x = self.downsampleRes(x)\n",
        "        return z + x"
      ]
    },
    {
      "cell_type": "code",
      "execution_count": 51,
      "metadata": {
        "id": "9nbacFsn5Tqd"
      },
      "outputs": [],
      "source": [
        "class DeepConvNN(nn.Module):\n",
        "    def __init__(self, applyFC=True):\n",
        "        super(DeepConvNN, self).__init__()\n",
        "        self.applyFC = applyFC\n",
        "\n",
        "        #in = 1024 x 1024\n",
        "        self.block1 = nn.Sequential(\n",
        "            nn.Conv2d(3, 16, kernel_size=3, stride=2, padding=0), #out = 511x511\n",
        "            nn.ReLU(),\n",
        "            nn.BatchNorm2d(16),\n",
        "            # nn.Dropout(0.3),\n",
        "            nn.Conv2d(16, 32, kernel_size=3, stride=1, padding=0), #out = 509x509\n",
        "            nn.ReLU(),\n",
        "            nn.BatchNorm2d(32),\n",
        "            # nn.Dropout(0.3),\n",
        "            nn.Conv2d(32, 32, kernel_size=3, stride=1, padding=0), #out = 507x507\n",
        "            nn.ReLU(),\n",
        "            nn.BatchNorm2d(32),\n",
        "            nn.Conv2d(32, 32, kernel_size=3, stride=2, padding=0) #out = 253x253\n",
        "            # nn.MaxPool2d(kernel_size=3, stride=2, padding=0) #out = 253x253\n",
        "        )\n",
        "\n",
        "        self.block2 = ResNetBlock(32, nn.SiLU, 64)      #out = 127x127\n",
        "        self.block3 = ResNetBlock(64, nn.SiLU, 128)     #out = 64x64\n",
        "        self.block4 = ResNetBlock(128, nn.SiLU, 256)    #out = 32x32\n",
        "        self.block5 = ResNetBlock(256, nn.SiLU, 256)    #out = 16x16\n",
        "\n",
        "        self.pool = nn.MaxPool2d(kernel_size=2, stride=2, padding=0)\n",
        "        # self.pool = nn.AdaptiveAvgPool2d((4,4))\n",
        "        self.flattened_size = 256 * 8 * 8 #36864\n",
        "\n",
        "        self.regressionBlock = nn.Sequential(\n",
        "            nn.Dropout(0.3),\n",
        "            nn.Linear(self.flattened_size, 512),\n",
        "            nn.Dropout(0.2),\n",
        "            nn.Linear(512, 5),\n",
        "            \n",
        "            # nn.Linear(2048, 5)\n",
        "        )\n",
        "\n",
        "    def forward(self, x):\n",
        "        x = self.block1(x)\n",
        "        x = self.block2(x)\n",
        "        x = self.block3(x)\n",
        "        x = self.block4(x)\n",
        "        x = self.block5(x)\n",
        "        x = self.pool(x)\n",
        "        x = x.view(-1, self.flattened_size)\n",
        "        if not self.applyFC: return x\n",
        "        x = self.regressionBlock(x)\n",
        "        return x"
      ]
    },
    {
      "cell_type": "markdown",
      "source": [
        "RGB + Depth Model"
      ],
      "metadata": {
        "id": "NloaAju1wCed"
      }
    },
    {
      "cell_type": "code",
      "source": [
        "class DeepConvDepthNN(nn.Module):\n",
        "    def __init__(self):\n",
        "        super(DeepConvDepthNN, self).__init__()\n",
        "        self.rgb_side = DeepConvNN(applyFC=False)\n",
        "\n",
        "        #in = 1024 x 1024\n",
        "        self.block1 = nn.Sequential(\n",
        "            nn.Conv2d(1, 16, kernel_size=3, stride=2, padding=0), #out = 511x511\n",
        "            nn.ReLU(),\n",
        "            nn.BatchNorm2d(16),\n",
        "            # nn.Dropout(0.3),\n",
        "            nn.Conv2d(16, 32, kernel_size=3, stride=1, padding=0), #out = 509x509\n",
        "            nn.ReLU(),\n",
        "            nn.BatchNorm2d(32),\n",
        "            # nn.Dropout(0.3),\n",
        "            nn.Conv2d(32, 32, kernel_size=3, stride=1, padding=0), #out = 507x507\n",
        "            nn.ReLU(),\n",
        "            nn.BatchNorm2d(32),\n",
        "            nn.Conv2d(32, 32, kernel_size=3, stride=2, padding=0) #out = 253x253\n",
        "            # nn.MaxPool2d(kernel_size=3, stride=2, padding=0) #out = 253x253\n",
        "        )\n",
        "\n",
        "        self.block2 = ResNetBlock(32, nn.SiLU, 64)      #out = 127x127\n",
        "        self.block3 = ResNetBlock(64, nn.SiLU, 128)     #out = 64x64\n",
        "        self.block4 = ResNetBlock(128, nn.SiLU, 256)    #out = 32x32\n",
        "        self.block5 = ResNetBlock(256, nn.SiLU, 256)    #out = 16x16\n",
        "\n",
        "        self.pool = nn.MaxPool2d(kernel_size=2, stride=2, padding=0)\n",
        "        # self.pool = nn.AdaptiveAvgPool2d((4,4))\n",
        "        self.flattened_size = 256 * 8 * 8 #36864\n",
        "\n",
        "        self.regressionBlock = nn.Sequential(\n",
        "            nn.Dropout(0.3),\n",
        "            nn.Linear(self.flattened_size, 512),\n",
        "            nn.Dropout(0.2),\n",
        "            nn.Linear(512, 5),\n",
        "            \n",
        "            # nn.Linear(2048, 5)\n",
        "        )\n",
        "\n",
        "    def forward(self, rgb, x):\n",
        "        rgb_output = self.rgb_side(rgb)\n",
        "        x = self.block1(x)\n",
        "        x = self.block2(x)\n",
        "        x = self.block3(x)\n",
        "        x = self.block4(x)\n",
        "        x = self.block5(x)\n",
        "        x = self.pool(x)\n",
        "        x = x.view(-1, self.flattened_size)\n",
        "        torch.cat((rgb_output, x))\n",
        "        x = self.regressionBlock(x)\n",
        "        return x"
      ],
      "metadata": {
        "id": "hyOgHDSpv4O_"
      },
      "execution_count": 65,
      "outputs": []
    },
    {
      "cell_type": "markdown",
      "source": [
        "### Training the Models"
      ],
      "metadata": {
        "id": "Lx3dorFAAcSA"
      }
    },
    {
      "cell_type": "markdown",
      "source": [
        "RGB Only Model Training"
      ],
      "metadata": {
        "id": "vm01zDN-BuAY"
      }
    },
    {
      "cell_type": "code",
      "execution_count": 68,
      "metadata": {
        "cell_id": "00013-ace27dd5-0202-493a-906d-789a3862f4ab",
        "colab": {
          "base_uri": "https://localhost:8080/"
        },
        "deepnote_cell_height": 642,
        "deepnote_cell_type": "code",
        "deepnote_to_be_reexecuted": false,
        "execution_millis": 192003,
        "execution_start": 1648410283654,
        "id": "2TTKm5biOKx9",
        "outputId": "e2418e79-b8cc-493d-e505-da1b312d021a",
        "source_hash": "86fd4a0f"
      },
      "outputs": [
        {
          "output_type": "stream",
          "name": "stdout",
          "text": [
            "batch size: 4\n",
            "n epochs: 8\n",
            "learning rate: 0.001\n",
            "====================\n"
          ]
        },
        {
          "output_type": "stream",
          "name": "stderr",
          "text": [
            "Epoch 0: 100%|██████████| 8/8 [00:03<00:00,  2.49batch/s]\n",
            "Epoch 1: 100%|██████████| 8/8 [00:03<00:00,  2.61batch/s]\n",
            "Epoch 2: 100%|██████████| 8/8 [00:03<00:00,  2.63batch/s]\n",
            "Epoch 3: 100%|██████████| 8/8 [00:03<00:00,  2.61batch/s]\n",
            "Epoch 4: 100%|██████████| 8/8 [00:03<00:00,  2.65batch/s]\n",
            "Epoch 5: 100%|██████████| 8/8 [00:03<00:00,  2.65batch/s]\n",
            "Epoch 6: 100%|██████████| 8/8 [00:02<00:00,  2.68batch/s]\n",
            "Epoch 7: 100%|██████████| 8/8 [00:02<00:00,  2.67batch/s]"
          ]
        },
        {
          "output_type": "stream",
          "name": "stdout",
          "text": [
            "Training Finished, took 24.5s\n"
          ]
        },
        {
          "output_type": "stream",
          "name": "stderr",
          "text": [
            "\n"
          ]
        }
      ],
      "source": [
        "network = 'DeepConv' # choices are 'DeepConv' or 'Conv'\n",
        "\n",
        "if network == 'DeepConv':\n",
        "  resize = None # (1047, 1047)\n",
        "  BATCH_SIZE = 4\n",
        "  EPOCHS = 8\n",
        "  LEARNING_RATE = 0.001\n",
        "  nnet = DeepConvNN()\n",
        "elif network == 'Conv':\n",
        "  resize = None\n",
        "  BATCH_SIZE = 4\n",
        "  EPOCHS = 8\n",
        "  LEARNING_RATE = 0.001\n",
        "  nnet = ConvNN()\n",
        "\n",
        "train_loss, train_acc = train(nnet, BATCH_SIZE, EPOCHS, LEARNING_RATE, resize=resize)"
      ]
    },
    {
      "cell_type": "code",
      "source": [
        "plot_epochs(train_loss)\n",
        "plot_epochs(train_acc, plotType=\"accuracy\")"
      ],
      "metadata": {
        "colab": {
          "base_uri": "https://localhost:8080/",
          "height": 803
        },
        "id": "2e20YqAbE505",
        "outputId": "ed0759f3-5f99-4586-8c67-1b42ccbd35c6"
      },
      "execution_count": 69,
      "outputs": [
        {
          "output_type": "display_data",
          "data": {
            "text/plain": [
              "<Figure size 576x432 with 1 Axes>"
            ],
            "image/png": "[encoded data removed]"
          },
          "metadata": {}
        },
        {
          "output_type": "display_data",
          "data": {
            "text/plain": [
              "<Figure size 576x432 with 1 Axes>"
            ],
            "image/png": "[encoded data removed]"
          },
          "metadata": {}
        }
      ]
    },
    {
      "cell_type": "markdown",
      "source": [
        "RGB+Depth Model Training"
      ],
      "metadata": {
        "id": "Y89NHrGoB2HD"
      }
    },
    {
      "cell_type": "code",
      "source": [
        "resize = None # (1047, 1047)\n",
        "BATCH_SIZE = 4\n",
        "EPOCHS = 8\n",
        "LEARNING_RATE = 0.001\n",
        "nnet = DeepConvDepthNN()\n",
        "train_loss, train_acc = train_depth(nnet, BATCH_SIZE, EPOCHS, LEARNING_RATE, resize=resize)"
      ],
      "metadata": {
        "colab": {
          "base_uri": "https://localhost:8080/"
        },
        "id": "JgBQ6YdpB4b4",
        "outputId": "eca90e01-62e8-42c3-e01e-51bd4cfb45a9"
      },
      "execution_count": 66,
      "outputs": [
        {
          "output_type": "stream",
          "name": "stdout",
          "text": [
            "batch size: 4\n",
            "n epochs: 8\n",
            "learning rate: 0.001\n",
            "====================\n"
          ]
        },
        {
          "output_type": "stream",
          "name": "stderr",
          "text": [
            "Epoch 0: 100%|██████████| 8/8 [00:04<00:00,  1.68batch/s]\n",
            "Epoch 1: 100%|██████████| 8/8 [00:04<00:00,  1.92batch/s]\n",
            "Epoch 2: 100%|██████████| 8/8 [00:04<00:00,  1.94batch/s]\n",
            "Epoch 3: 100%|██████████| 8/8 [00:04<00:00,  1.83batch/s]\n",
            "Epoch 4: 100%|██████████| 8/8 [00:04<00:00,  1.82batch/s]\n",
            "Epoch 5: 100%|██████████| 8/8 [00:04<00:00,  1.81batch/s]\n",
            "Epoch 6: 100%|██████████| 8/8 [00:04<00:00,  1.93batch/s]\n",
            "Epoch 7: 100%|██████████| 8/8 [00:04<00:00,  1.87batch/s]"
          ]
        },
        {
          "output_type": "stream",
          "name": "stdout",
          "text": [
            "Training Finished, took 34.8s\n"
          ]
        },
        {
          "output_type": "stream",
          "name": "stderr",
          "text": [
            "\n"
          ]
        }
      ]
    },
    {
      "cell_type": "markdown",
      "metadata": {
        "cell_id": "56445f7c0ccb40fd91752ed5276d3936",
        "deepnote_cell_type": "text-cell-h3",
        "is_collapsed": false,
        "tags": [],
        "id": "axSopife5BYn"
      },
      "source": [
        "### loss and accuracy plots"
      ]
    },
    {
      "cell_type": "code",
      "execution_count": 67,
      "metadata": {
        "cell_id": "00015-de286b2a-7da2-4aa4-aa95-a61ac30fafc3",
        "colab": {
          "base_uri": "https://localhost:8080/",
          "height": 803
        },
        "deepnote_cell_height": 954,
        "deepnote_cell_type": "code",
        "deepnote_output_heights": [
          395,
          395
        ],
        "deepnote_to_be_reexecuted": false,
        "execution_millis": 997,
        "execution_start": 1648410475664,
        "id": "SJI6erJmOKx-",
        "outputId": "6b1cc10c-7174-43a5-cdc9-0c76e2426369",
        "source_hash": "6dbbc570"
      },
      "outputs": [
        {
          "output_type": "display_data",
          "data": {
            "text/plain": [
              "<Figure size 576x432 with 1 Axes>"
            ],
            "image/png": "[encoded data removed]"
          },
          "metadata": {}
        },
        {
          "output_type": "display_data",
          "data": {
            "text/plain": [
              "<Figure size 576x432 with 1 Axes>"
            ],
            "image/png": "[encoded data removed]"
          },
          "metadata": {}
        }
      ],
      "source": [
        "plot_epochs(train_loss)\n",
        "plot_epochs(train_acc, plotType=\"accuracy\")"
      ]
    },
    {
      "cell_type": "code",
      "execution_count": null,
      "metadata": {
        "cell_id": "00016-971d0818-5eb3-430a-b009-31450e7dbf18",
        "deepnote_cell_height": 81,
        "deepnote_cell_type": "code",
        "deepnote_to_be_reexecuted": false,
        "execution_millis": 1,
        "execution_start": 1648410476273,
        "source_hash": "b623e53d",
        "id": "TEjySmmm5BYo"
      },
      "outputs": [],
      "source": [
        ""
      ]
    },
    {
      "cell_type": "code",
      "execution_count": null,
      "metadata": {
        "cell_id": "00017-d8a6f4f7-0271-456e-b7db-c1c8aae645d3",
        "deepnote_cell_height": 81,
        "deepnote_cell_type": "code",
        "deepnote_to_be_reexecuted": false,
        "execution_millis": 179031056,
        "execution_start": 1648410476317,
        "source_hash": "b623e53d",
        "id": "4xEqyvMS5BYo"
      },
      "outputs": [],
      "source": [
        ""
      ]
    },
    {
      "cell_type": "markdown",
      "metadata": {
        "created_in_deepnote_cell": true,
        "deepnote_cell_type": "markdown",
        "tags": [],
        "id": "UBg9_0155BYo"
      },
      "source": [
        "<a style='text-decoration:none;line-height:16px;display:flex;color:#5B5B62;padding:10px;justify-content:end;' href='https://deepnote.com?utm_source=created-in-deepnote-cell&projectId=adefdfa6-d6a9-4c68-83ce-d8488efeaa89' target=\"_blank\">\n",
        "<img alt='Created in deepnote.com' style='display:inline;max-height:16px;margin:0px;margin-right:7.5px;' src='data:image/svg+xml;base64,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' > </img>\n",
        "Created in <span style='font-weight:600;margin-left:4px;'>Deepnote</span></a>"
      ]
    }
  ],
  "metadata": {
    "accelerator": "GPU",
    "colab": {
      "collapsed_sections": [],
      "name": "assignment1(new2).ipynb",
      "provenance": []
    },
    "deepnote": {},
    "deepnote_execution_queue": [],
    "deepnote_notebook_id": "fd2d20f4-5301-458e-8e62-af75bc6e110a",
    "kernelspec": {
      "display_name": "Python [conda env:.conda-torch] *",
      "language": "python",
      "name": "conda-env-.conda-torch-py"
    },
    "language_info": {
      "codemirror_mode": {
        "name": "ipython",
        "version": 3
      },
      "file_extension": ".py",
      "mimetype": "text/x-python",
      "name": "python",
      "nbconvert_exporter": "python",
      "pygments_lexer": "ipython3",
      "version": "3.9.7"
    },
    "orig_nbformat": 4
  },
  "nbformat": 4,
  "nbformat_minor": 0
}